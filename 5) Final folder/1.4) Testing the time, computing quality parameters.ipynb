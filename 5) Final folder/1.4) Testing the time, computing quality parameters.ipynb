{
 "cells": [
  {
   "cell_type": "code",
   "execution_count": 3,
   "id": "b5c90bb8",
   "metadata": {},
   "outputs": [],
   "source": [
    "import time\n",
    "import cv2\n",
    "\n",
    "from verify_barcode import verify_barcode"
   ]
  },
  {
   "cell_type": "code",
   "execution_count": 4,
   "id": "12475192",
   "metadata": {},
   "outputs": [],
   "source": [
    "from os import listdir\n",
    "from os.path import isfile, join\n",
    "images_paths = [f for f in listdir('../images') if isfile(join('../images', f))]"
   ]
  },
  {
   "cell_type": "code",
   "execution_count": 5,
   "id": "a240d763",
   "metadata": {},
   "outputs": [
    {
     "name": "stdout",
     "output_type": "stream",
     "text": [
      "Wall time: 0 ns\n",
      "../images/C128_4.4LOW.BMP\n",
      "\n",
      "TIMING INFORMATION\n",
      "\tDetect bounding box: 0.019434452056884766\n",
      "\tRotate bounding box: 0.01007533073425293\n",
      "\tRefine ROI image: 0.03516721725463867\n",
      "\tCompute quality parameters: 0.320537805557251\n",
      "\n"
     ]
    }
   ],
   "source": [
    "# MINE SC: 73.37. GRADE 'A'\n",
    "# MINE MODULATION: 54.85 GRADE 'C'\n",
    "# MINE DEFECT: 27.43 GRADE 'D'\n",
    "\n",
    "%time\n",
    "image_path = f'../images/{images_paths[0]}'\n",
    "image = cv2.imread(image_path)\n",
    "print(image_path)\n",
    "print()\n",
    "overall_quality_parameters_dict = verify_barcode(image, verbose_timing=True)\n"
   ]
  },
  {
   "cell_type": "code",
   "execution_count": 6,
   "id": "ce68826f",
   "metadata": {},
   "outputs": [
    {
     "name": "stdout",
     "output_type": "stream",
     "text": [
      "Wall time: 0 ns\n",
      "../images/C128_4.4UP.BMP\n",
      "\n",
      "TIMING INFORMATION\n",
      "\tDetect bounding box: 0.02274465560913086\n",
      "\tRotate bounding box: 0.0048525333404541016\n",
      "\tRefine ROI image: 0.035462141036987305\n",
      "\tCompute quality parameters: 0.016092538833618164\n",
      "\n"
     ]
    }
   ],
   "source": [
    "# MINE SC: 73.45. GRADE 'A'\n",
    "# MINE MODULATION: 61.3 GRADE 'B'\n",
    "# MINE DEFECT: 11.11 GRADE 'A'\n",
    "\n",
    "%time\n",
    "image_path = f'../images/{images_paths[1]}'\n",
    "image = cv2.imread(image_path)\n",
    "print(image_path)\n",
    "print()\n",
    "overall_quality_parameters_dict = verify_barcode(image, verbose_timing=True)\n"
   ]
  },
  {
   "cell_type": "code",
   "execution_count": 7,
   "id": "1753842d",
   "metadata": {},
   "outputs": [
    {
     "name": "stdout",
     "output_type": "stream",
     "text": [
      "Wall time: 0 ns\n",
      "../images/C128_7.5LOW.BMP\n",
      "\n",
      "TIMING INFORMATION\n",
      "\tDetect bounding box: 0.015751123428344727\n",
      "\tRotate bounding box: 0.004978179931640625\n",
      "\tRefine ROI image: 0.022237777709960938\n",
      "\tCompute quality parameters: 0.015279054641723633\n",
      "\n"
     ]
    }
   ],
   "source": [
    "# MINE SC: 73.52. GRADE 'A'\n",
    "# MINE MODULATION: 62.194 GRADE 'B'\n",
    "# MINE DEFECT: 21.45 GRADE 'C'\n",
    "\n",
    "%time\n",
    "image_path = f'../images/{images_paths[2]}'\n",
    "image = cv2.imread(image_path)\n",
    "print(image_path)\n",
    "print()\n",
    "overall_quality_parameters_dict = verify_barcode(image, verbose_timing=True)\n"
   ]
  },
  {
   "cell_type": "code",
   "execution_count": 8,
   "id": "0e6ac758",
   "metadata": {},
   "outputs": [
    {
     "name": "stdout",
     "output_type": "stream",
     "text": [
      "Wall time: 0 ns\n",
      "../images/C128_7.5UP.BMP\n",
      "\n",
      "TIMING INFORMATION\n",
      "\tDetect bounding box: 0.01297616958618164\n",
      "\tRotate bounding box: 0.0029969215393066406\n",
      "\tRefine ROI image: 0.021354198455810547\n",
      "\tCompute quality parameters: 0.015469789505004883\n",
      "\n"
     ]
    }
   ],
   "source": [
    "# MINE SC: 75.41. GRADE 'A'\n",
    "# MINE MODULATION: 62.62 GRADE 'B'\n",
    "# MINE DEFECT: 8.1 GRADE 'A'\n",
    "\n",
    "%time\n",
    "image_path = f'../images/{images_paths[3]}'\n",
    "image = cv2.imread(image_path)\n",
    "print(image_path)\n",
    "print()\n",
    "overall_quality_parameters_dict = verify_barcode(image, verbose_timing=True)\n"
   ]
  },
  {
   "cell_type": "code",
   "execution_count": 9,
   "id": "31a8a72e",
   "metadata": {},
   "outputs": [
    {
     "name": "stdout",
     "output_type": "stream",
     "text": [
      "Wall time: 0 ns\n",
      "../images/C39_4.4LOW.BMP\n",
      "\n",
      "TIMING INFORMATION\n",
      "\tDetect bounding box: 0.012434005737304688\n",
      "\tRotate bounding box: 0.005001544952392578\n",
      "\tRefine ROI image: 0.029211997985839844\n",
      "\tCompute quality parameters: 0.016262292861938477\n",
      "\n"
     ]
    }
   ],
   "source": [
    "# MINE SC: 73.33. GRADE 'A'\n",
    "# MINE MODULATION: 46.43 GRADE 'D'\n",
    "# MINE DEFECT: 20.34 GRADE 'C'\n",
    "\n",
    "%time\n",
    "image_path = f'../images/{images_paths[4]}'\n",
    "image = cv2.imread(image_path)\n",
    "print(image_path)\n",
    "print()\n",
    "overall_quality_parameters_dict = verify_barcode(image, verbose_timing=True)\n"
   ]
  },
  {
   "cell_type": "code",
   "execution_count": 10,
   "id": "93ffc382",
   "metadata": {},
   "outputs": [
    {
     "name": "stdout",
     "output_type": "stream",
     "text": [
      "Wall time: 0 ns\n",
      "../images/C39_4.4UP.BMP\n",
      "\n",
      "TIMING INFORMATION\n",
      "\tDetect bounding box: 0.012760400772094727\n",
      "\tRotate bounding box: 0.0019969940185546875\n",
      "\tRefine ROI image: 0.033765316009521484\n",
      "\tCompute quality parameters: 0.017099618911743164\n",
      "\n"
     ]
    }
   ],
   "source": [
    "# MINE SC: 73.33. GRADE 'A'\n",
    "# MINE MODULATION: 58.87 GRADE 'C'\n",
    "# MINE DEFECT: 6.36 GRADE 'C'\n",
    "\n",
    "%time\n",
    "image_path = f'../images/{images_paths[5]}'\n",
    "image = cv2.imread(image_path)\n",
    "print(image_path)\n",
    "print()\n",
    "overall_quality_parameters_dict = verify_barcode(image, verbose_timing=True)\n"
   ]
  },
  {
   "cell_type": "code",
   "execution_count": 11,
   "id": "322fe3d0",
   "metadata": {},
   "outputs": [
    {
     "name": "stdout",
     "output_type": "stream",
     "text": [
      "Wall time: 0 ns\n",
      "../images/C39_7.5LOW.BMP\n",
      "\n",
      "TIMING INFORMATION\n",
      "\tDetect bounding box: 0.015404939651489258\n",
      "\tRotate bounding box: 0.003320455551147461\n",
      "\tRefine ROI image: 0.03207516670227051\n",
      "\tCompute quality parameters: 0.019083738327026367\n",
      "\n"
     ]
    }
   ],
   "source": [
    "# MINE SC: 75.9. GRADE 'A'\n",
    "# MINE MODULATION: 62.40 GRADE 'B'\n",
    "# MINE DEFECT: 33.99 GRADE 'F'\n",
    "\n",
    "%time\n",
    "image_path = f'../images/{images_paths[6]}'\n",
    "image = cv2.imread(image_path)\n",
    "print(image_path)\n",
    "print()\n",
    "overall_quality_parameters_dict = verify_barcode(image, verbose_timing=True)\n"
   ]
  },
  {
   "cell_type": "code",
   "execution_count": 12,
   "id": "c905722c",
   "metadata": {},
   "outputs": [
    {
     "name": "stdout",
     "output_type": "stream",
     "text": [
      "Wall time: 0 ns\n",
      "../images/C39_7.5UP.BMP\n",
      "\n",
      "TIMING INFORMATION\n",
      "\tDetect bounding box: 0.011929035186767578\n",
      "\tRotate bounding box: 0.0030007362365722656\n",
      "\tRefine ROI image: 0.031185626983642578\n",
      "\tCompute quality parameters: 0.018068313598632812\n",
      "\n"
     ]
    }
   ],
   "source": [
    "# MINE SC: 76.43. GRADE 'A'\n",
    "# MINE MODULATION: 70.91 GRADE 'A'\n",
    "# MINE DEFECT: 8.21 GRADE 'A'\n",
    "\n",
    "%time\n",
    "image_path = f'../images/{images_paths[7]}'\n",
    "image = cv2.imread(image_path)\n",
    "print(image_path)\n",
    "print()\n",
    "overall_quality_parameters_dict = verify_barcode(image, verbose_timing=True)\n"
   ]
  },
  {
   "cell_type": "code",
   "execution_count": 13,
   "id": "e0aba736",
   "metadata": {},
   "outputs": [
    {
     "name": "stdout",
     "output_type": "stream",
     "text": [
      "Wall time: 0 ns\n",
      "../images/EAN-UPC-CONTRAST IMGB.BMP\n",
      "\n",
      "TIMING INFORMATION\n",
      "\tDetect bounding box: 0.015259504318237305\n",
      "\tRotate bounding box: 0.0063664913177490234\n",
      "\tRefine ROI image: 0.02110457420349121\n",
      "\tCompute quality parameters: 0.01945662498474121\n",
      "\n"
     ]
    }
   ],
   "source": [
    "# MINE SC: 46.23. GRADE 'C'\n",
    "# MINE MODULATION: 73.15 GRADE 'A'\n",
    "# MINE DEFECT: 8.9 GRADE 'A'\n",
    "\n",
    "%time\n",
    "image_path = f'../images/{images_paths[8]}'\n",
    "image = cv2.imread(image_path)\n",
    "print(image_path)\n",
    "print()\n",
    "overall_quality_parameters_dict = verify_barcode(image, verbose_timing=True)\n"
   ]
  },
  {
   "cell_type": "code",
   "execution_count": 14,
   "id": "2d86afb9",
   "metadata": {},
   "outputs": [
    {
     "name": "stdout",
     "output_type": "stream",
     "text": [
      "Wall time: 0 ns\n",
      "../images/EAN-UPC-DECODABILITY IMGB.BMP\n",
      "\n",
      "TIMING INFORMATION\n",
      "\tDetect bounding box: 0.012517452239990234\n",
      "\tRotate bounding box: 0.004302024841308594\n",
      "\tRefine ROI image: 0.02006840705871582\n",
      "\tCompute quality parameters: 0.013334274291992188\n",
      "\n"
     ]
    }
   ],
   "source": [
    "# MINE SC: 76.86. GRADE 'A'\n",
    "# MINE MODULATION: 75.37 GRADE 'A'\n",
    "# MINE DEFECT: 5.4 GRADE 'A'\n",
    "\n",
    "%time\n",
    "image_path = f'../images/{images_paths[9]}'\n",
    "image = cv2.imread(image_path)\n",
    "print(image_path)\n",
    "print()\n",
    "overall_quality_parameters_dict = verify_barcode(image, verbose_timing=True)\n"
   ]
  },
  {
   "cell_type": "code",
   "execution_count": 15,
   "id": "970182c5",
   "metadata": {},
   "outputs": [
    {
     "name": "stdout",
     "output_type": "stream",
     "text": [
      "Wall time: 0 ns\n",
      "../images/EAN-UPC-DEFECTS IMGB.BMP\n",
      "\n",
      "TIMING INFORMATION\n",
      "\tDetect bounding box: 0.012258291244506836\n",
      "\tRotate bounding box: 0.008996009826660156\n",
      "\tRefine ROI image: 0.017258405685424805\n",
      "\tCompute quality parameters: 0.013009309768676758\n",
      "\n"
     ]
    }
   ],
   "source": [
    "# MINE SC: 80.27. GRADE 'A'\n",
    "# MINE MODULATION: 71.9 GRADE 'A'\n",
    "# MINE DEFECT: 20.12 GRADE 'C'\n",
    "\n",
    "%time\n",
    "image_path = f'../images/{images_paths[10]}'\n",
    "image = cv2.imread(image_path)\n",
    "print(image_path)\n",
    "print()\n",
    "overall_quality_parameters_dict = verify_barcode(image, verbose_timing=True)\n"
   ]
  },
  {
   "cell_type": "code",
   "execution_count": 16,
   "id": "5a179475",
   "metadata": {},
   "outputs": [
    {
     "name": "stdout",
     "output_type": "stream",
     "text": [
      "Wall time: 0 ns\n",
      "../images/EAN-UPC-EAN-13 MASTER GRADE IMGB.BMP\n",
      "\n",
      "TIMING INFORMATION\n",
      "\tDetect bounding box: 0.01395273208618164\n",
      "\tRotate bounding box: 0.005013465881347656\n",
      "\tRefine ROI image: 0.02382373809814453\n",
      "\tCompute quality parameters: 0.01299738883972168\n",
      "\n"
     ]
    }
   ],
   "source": [
    "# MINE SC: 77.33. GRADE 'A'\n",
    "# MINE MODULATION: 73.68 GRADE 'A'\n",
    "# MINE DEFECT: 7.03 GRADE 'A'\n",
    "\n",
    "%time\n",
    "image_path = f'../images/{images_paths[11]}'\n",
    "image = cv2.imread(image_path)\n",
    "print(image_path)\n",
    "print()\n",
    "overall_quality_parameters_dict = verify_barcode(image, verbose_timing=True)\n"
   ]
  },
  {
   "cell_type": "code",
   "execution_count": 17,
   "id": "10db499f",
   "metadata": {},
   "outputs": [
    {
     "name": "stdout",
     "output_type": "stream",
     "text": [
      "Wall time: 0 ns\n",
      "../images/EAN-UPC-UPC-A MASTER GRADE IMGB.BMP\n",
      "\n",
      "TIMING INFORMATION\n",
      "\tDetect bounding box: 0.012641191482543945\n",
      "\tRotate bounding box: 0.005507230758666992\n",
      "\tRefine ROI image: 0.02547001838684082\n",
      "\tCompute quality parameters: 0.014350414276123047\n",
      "\n"
     ]
    }
   ],
   "source": [
    "# MINE SC: 80.66. GRADE 'A'\n",
    "# MINE MODULATION: 70.15 GRADE 'A'\n",
    "# MINE DEFECT: 9.24 GRADE 'A'\n",
    "\n",
    "%time\n",
    "image_path = f'../images/{images_paths[12]}'\n",
    "image = cv2.imread(image_path)\n",
    "print(image_path)\n",
    "print()\n",
    "overall_quality_parameters_dict = verify_barcode(image, verbose_timing=True)\n"
   ]
  },
  {
   "cell_type": "code",
   "execution_count": 18,
   "id": "d14ae6d8",
   "metadata": {},
   "outputs": [
    {
     "name": "stdout",
     "output_type": "stream",
     "text": [
      "Wall time: 0 ns\n",
      "../images/EAN128-CONTRAST IMGB.BMP\n",
      "\n",
      "TIMING INFORMATION\n",
      "\tDetect bounding box: 0.00934910774230957\n",
      "\tRotate bounding box: 0.004454374313354492\n",
      "\tRefine ROI image: 0.01914048194885254\n",
      "\tCompute quality parameters: 0.020575284957885742\n",
      "\n"
     ]
    }
   ],
   "source": [
    "# MINE SC: 50.31. GRADE 'C'\n",
    "# MINE MODULATION: 69.68 GRADE 'B'\n",
    "# MINE DEFECT: 12.06 GRADE 'A'\n",
    "\n",
    "%time\n",
    "image_path = f'../images/{images_paths[13]}'\n",
    "image = cv2.imread(image_path)\n",
    "print(image_path)\n",
    "print()\n",
    "overall_quality_parameters_dict = verify_barcode(image, verbose_timing=True)\n"
   ]
  },
  {
   "cell_type": "code",
   "execution_count": 19,
   "id": "c67660ba",
   "metadata": {},
   "outputs": [
    {
     "name": "stdout",
     "output_type": "stream",
     "text": [
      "Wall time: 0 ns\n",
      "../images/EAN128-DEFECTS IMGB.BMP\n",
      "\n",
      "TIMING INFORMATION\n",
      "\tDetect bounding box: 0.008077383041381836\n",
      "\tRotate bounding box: 0.0030641555786132812\n",
      "\tRefine ROI image: 0.0189363956451416\n",
      "\tCompute quality parameters: 0.023464202880859375\n",
      "\n"
     ]
    }
   ],
   "source": [
    "# MINE SC: 80.53. GRADE 'A'\n",
    "# MINE MODULATION: 72.57 GRADE 'A'\n",
    "# MINE DEFECT: 31.7 GRADE 'F'\n",
    "\n",
    "%time\n",
    "image_path = f'../images/{images_paths[14]}'\n",
    "image = cv2.imread(image_path)\n",
    "print(image_path)\n",
    "print()\n",
    "overall_quality_parameters_dict = verify_barcode(image, verbose_timing=True)\n"
   ]
  },
  {
   "cell_type": "code",
   "execution_count": 20,
   "id": "4ec5707d",
   "metadata": {},
   "outputs": [
    {
     "name": "stdout",
     "output_type": "stream",
     "text": [
      "Wall time: 0 ns\n",
      "../images/EAN128-LOW DECODABILITY IMGB.BMP\n",
      "\n",
      "TIMING INFORMATION\n",
      "\tDetect bounding box: 0.009813785552978516\n",
      "\tRotate bounding box: 0.0035352706909179688\n",
      "\tRefine ROI image: 0.02434682846069336\n",
      "\tCompute quality parameters: 0.018000364303588867\n",
      "\n"
     ]
    }
   ],
   "source": [
    "# MINE SC: 87.01. GRADE 'A'\n",
    "# MINE MODULATION: 75.12 GRADE 'A'\n",
    "# MINE DEFECT: 6.98 GRADE 'A'\n",
    "\n",
    "%time\n",
    "image_path = f'../images/{images_paths[15]}'\n",
    "image = cv2.imread(image_path)\n",
    "print(image_path)\n",
    "print()\n",
    "overall_quality_parameters_dict = verify_barcode(image, verbose_timing=True)\n"
   ]
  },
  {
   "cell_type": "code",
   "execution_count": 21,
   "id": "5c55eacf",
   "metadata": {},
   "outputs": [
    {
     "name": "stdout",
     "output_type": "stream",
     "text": [
      "Wall time: 0 ns\n",
      "../images/EAN128-MASTER IMGB.BMP\n",
      "\n",
      "TIMING INFORMATION\n",
      "\tDetect bounding box: 0.008268117904663086\n",
      "\tRotate bounding box: 0.002307891845703125\n",
      "\tRefine ROI image: 0.012740373611450195\n",
      "\tCompute quality parameters: 0.021258831024169922\n",
      "\n"
     ]
    }
   ],
   "source": [
    "# MINE SC: 82.15. GRADE 'A'\n",
    "# MINE MODULATION: 72.09 GRADE 'A'\n",
    "# MINE DEFECT: 9.38 GRADE 'A'\n",
    "\n",
    "%time\n",
    "image_path = f'../images/{images_paths[16]}'\n",
    "image = cv2.imread(image_path)\n",
    "print(image_path)\n",
    "print()\n",
    "overall_quality_parameters_dict = verify_barcode(image, verbose_timing=True)\n"
   ]
  },
  {
   "cell_type": "code",
   "execution_count": 22,
   "id": "d51525a0",
   "metadata": {},
   "outputs": [
    {
     "name": "stdout",
     "output_type": "stream",
     "text": [
      "Wall time: 0 ns\n",
      "../images/I25-CONTRAST IMGB.BMP\n",
      "\n",
      "TIMING INFORMATION\n",
      "\tDetect bounding box: 0.008571147918701172\n",
      "\tRotate bounding box: 0.003999948501586914\n",
      "\tRefine ROI image: 0.012999534606933594\n",
      "\tCompute quality parameters: 0.01861739158630371\n",
      "\n"
     ]
    }
   ],
   "source": [
    "# MINE SC: 53.61. GRADE 'C'\n",
    "# MINE MODULATION: 73.74 GRADE 'A'\n",
    "# MINE DEFECT: 9.8 GRADE 'A'\n",
    "\n",
    "%time\n",
    "image_path = f'../images/{images_paths[17]}'\n",
    "image = cv2.imread(image_path)\n",
    "print(image_path)\n",
    "print()\n",
    "overall_quality_parameters_dict = verify_barcode(image, verbose_timing=True)\n"
   ]
  },
  {
   "cell_type": "code",
   "execution_count": 23,
   "id": "c2143d7e",
   "metadata": {},
   "outputs": [
    {
     "name": "stdout",
     "output_type": "stream",
     "text": [
      "Wall time: 0 ns\n",
      "../images/I25-DEFECTS IMGB.BMP\n",
      "\n",
      "TIMING INFORMATION\n",
      "\tDetect bounding box: 0.009325027465820312\n",
      "\tRotate bounding box: 0.0042266845703125\n",
      "\tRefine ROI image: 0.014919757843017578\n",
      "\tCompute quality parameters: 0.018556594848632812\n",
      "\n"
     ]
    }
   ],
   "source": [
    "# MINE SC: 82.51. GRADE 'A'\n",
    "# MINE MODULATION: 39.29 GRADE 'F'\n",
    "# MINE DEFECT: 7.5 GRADE 'A'\n",
    "\n",
    "%time\n",
    "image_path = f'../images/{images_paths[18]}'\n",
    "image = cv2.imread(image_path)\n",
    "print(image_path)\n",
    "print()\n",
    "overall_quality_parameters_dict = verify_barcode(image, verbose_timing=True)\n"
   ]
  },
  {
   "cell_type": "code",
   "execution_count": 24,
   "id": "19cab53d",
   "metadata": {},
   "outputs": [
    {
     "name": "stdout",
     "output_type": "stream",
     "text": [
      "Wall time: 0 ns\n",
      "../images/I25-LOW DECODABILITY IMGB.BMP\n",
      "\n",
      "TIMING INFORMATION\n",
      "\tDetect bounding box: 0.00899958610534668\n",
      "\tRotate bounding box: 0.002557516098022461\n",
      "\tRefine ROI image: 0.02410292625427246\n",
      "\tCompute quality parameters: 0.018215179443359375\n",
      "\n"
     ]
    }
   ],
   "source": [
    "# MINE SC: 84.15. GRADE 'A'\n",
    "# MINE MODULATION: 74.24 GRADE 'A'\n",
    "# MINE DEFECT: 10.67 GRADE 'A'\n",
    "\n",
    "%time\n",
    "image_path = f'../images/{images_paths[19]}'\n",
    "image = cv2.imread(image_path)\n",
    "print(image_path)\n",
    "print()\n",
    "overall_quality_parameters_dict = verify_barcode(image, verbose_timing=True)\n"
   ]
  },
  {
   "cell_type": "code",
   "execution_count": 25,
   "id": "ce275cea",
   "metadata": {},
   "outputs": [
    {
     "name": "stdout",
     "output_type": "stream",
     "text": [
      "Wall time: 0 ns\n",
      "../images/I25-MASTER GRADE IMGB.BMP\n",
      "\n",
      "TIMING INFORMATION\n",
      "\tDetect bounding box: 0.009950637817382812\n",
      "\tRotate bounding box: 0.003645658493041992\n",
      "\tRefine ROI image: 0.013848304748535156\n",
      "\tCompute quality parameters: 0.019523143768310547\n",
      "\n"
     ]
    }
   ],
   "source": [
    "# MINE SC: 81.74. GRADE 'A'\n",
    "# MINE MODULATION: 72.95 GRADE 'A'\n",
    "# MINE DEFECT: 7.19 GRADE 'A'\n",
    "\n",
    "%time\n",
    "image_path = f'../images/{images_paths[20]}'\n",
    "image = cv2.imread(image_path)\n",
    "print(image_path)\n",
    "print()\n",
    "overall_quality_parameters_dict = verify_barcode(image, verbose_timing=True)\n"
   ]
  },
  {
   "cell_type": "code",
   "execution_count": 26,
   "id": "2f14bd44",
   "metadata": {},
   "outputs": [
    {
     "name": "stdout",
     "output_type": "stream",
     "text": [
      "Wall time: 0 ns\n",
      "../images/UPC#01.BMP\n",
      "\n",
      "TIMING INFORMATION\n",
      "\tDetect bounding box: 0.013084650039672852\n",
      "\tRotate bounding box: 0.00399327278137207\n",
      "\tRefine ROI image: 0.02129817008972168\n",
      "\tCompute quality parameters: 0.013166189193725586\n",
      "\n"
     ]
    }
   ],
   "source": [
    "# MINE SC: 77.02. GRADE 'A'\n",
    "# MINE MODULATION: 78.9 GRADE 'A'\n",
    "# MINE DEFECT: 4.37 GRADE 'A'\n",
    "\n",
    "%time\n",
    "image_path = f'../images/{images_paths[22]}'\n",
    "image = cv2.imread(image_path)\n",
    "print(image_path)\n",
    "print()\n",
    "overall_quality_parameters_dict = verify_barcode(image, verbose_timing=True)\n"
   ]
  },
  {
   "cell_type": "code",
   "execution_count": 27,
   "id": "55c6f313",
   "metadata": {},
   "outputs": [
    {
     "name": "stdout",
     "output_type": "stream",
     "text": [
      "Wall time: 0 ns\n",
      "../images/UPC#03.BMP\n",
      "\n",
      "TIMING INFORMATION\n",
      "\tDetect bounding box: 0.012999773025512695\n",
      "\tRotate bounding box: 0.004999876022338867\n",
      "\tRefine ROI image: 0.024078845977783203\n",
      "\tCompute quality parameters: 0.012070178985595703\n",
      "\n"
     ]
    }
   ],
   "source": [
    "# MINE SC: 79.53. GRADE 'A'\n",
    "# MINE MODULATION: 77.86 GRADE 'A'\n",
    "# MINE DEFECT: 4.53 GRADE 'A'\n",
    "\n",
    "%time\n",
    "image_path = f'../images/{images_paths[23]}'\n",
    "image = cv2.imread(image_path)\n",
    "print(image_path)\n",
    "print()\n",
    "overall_quality_parameters_dict = verify_barcode(image, verbose_timing=True)\n"
   ]
  },
  {
   "cell_type": "code",
   "execution_count": 28,
   "id": "9b36a50e",
   "metadata": {},
   "outputs": [
    {
     "name": "stdout",
     "output_type": "stream",
     "text": [
      "Wall time: 0 ns\n",
      "../images/UPC#04.BMP\n",
      "\n",
      "TIMING INFORMATION\n",
      "\tDetect bounding box: 0.012417793273925781\n",
      "\tRotate bounding box: 0.004143953323364258\n",
      "\tRefine ROI image: 0.02658987045288086\n",
      "\tCompute quality parameters: 0.013234853744506836\n",
      "\n"
     ]
    }
   ],
   "source": [
    "# MINE SC: 67.25. GRADE 'B'\n",
    "# MINE MODULATION: 77.2 GRADE 'A'\n",
    "# MINE DEFECT: 5.18 GRADE 'A'\n",
    "\n",
    "%time\n",
    "image_path = f'../images/{images_paths[24]}'\n",
    "image = cv2.imread(image_path)\n",
    "print(image_path)\n",
    "print()\n",
    "overall_quality_parameters_dict = verify_barcode(image, verbose_timing=True)\n"
   ]
  },
  {
   "cell_type": "code",
   "execution_count": 29,
   "id": "a4ff63cf",
   "metadata": {},
   "outputs": [
    {
     "name": "stdout",
     "output_type": "stream",
     "text": [
      "Wall time: 0 ns\n",
      "../images/UPC#05.BMP\n",
      "\n",
      "TIMING INFORMATION\n",
      "\tDetect bounding box: 0.013056039810180664\n",
      "\tRotate bounding box: 0.005000114440917969\n",
      "\tRefine ROI image: 0.019312620162963867\n",
      "\tCompute quality parameters: 0.013113737106323242\n",
      "\n"
     ]
    }
   ],
   "source": [
    "# MINE SC: 51.41. GRADE 'C'\n",
    "# MINE MODULATION: 74.37 GRADE 'A'\n",
    "# MINE DEFECT: 7.0 GRADE 'A'\n",
    "\n",
    "%time\n",
    "image_path = f'../images/{images_paths[25]}'\n",
    "image = cv2.imread(image_path)\n",
    "print(image_path)\n",
    "print()\n",
    "overall_quality_parameters_dict = verify_barcode(image, verbose_timing=True)\n"
   ]
  },
  {
   "cell_type": "code",
   "execution_count": 30,
   "id": "36d10156",
   "metadata": {},
   "outputs": [
    {
     "name": "stdout",
     "output_type": "stream",
     "text": [
      "Wall time: 0 ns\n",
      "../images/UPC#06.BMP\n",
      "\n",
      "TIMING INFORMATION\n",
      "\tDetect bounding box: 0.01310110092163086\n",
      "\tRotate bounding box: 0.004925727844238281\n",
      "\tRefine ROI image: 0.01990532875061035\n",
      "\tCompute quality parameters: 0.013783454895019531\n",
      "\n"
     ]
    }
   ],
   "source": [
    "# MINE SC: 36.8. GRADE 'D'\n",
    "# MINE MODULATION: 72.25 GRADE 'A'\n",
    "# MINE DEFECT: 7.4 GRADE 'A'\n",
    "\n",
    "%time\n",
    "image_path = f'../images/{images_paths[26]}'\n",
    "image = cv2.imread(image_path)\n",
    "print(image_path)\n",
    "print()\n",
    "overall_quality_parameters_dict = verify_barcode(image, verbose_timing=True)\n"
   ]
  },
  {
   "cell_type": "code",
   "execution_count": 31,
   "id": "f9ae96aa",
   "metadata": {},
   "outputs": [
    {
     "name": "stdout",
     "output_type": "stream",
     "text": [
      "Wall time: 0 ns\n",
      "../images/UPC#07.BMP\n",
      "\n",
      "TIMING INFORMATION\n",
      "\tDetect bounding box: 0.011998891830444336\n",
      "\tRotate bounding box: 0.004996776580810547\n",
      "\tRefine ROI image: 0.019434213638305664\n",
      "\tCompute quality parameters: 0.014339685440063477\n",
      "\n"
     ]
    }
   ],
   "source": [
    "# MINE SC: 17.09. GRADE 'F'\n",
    "# MINE MODULATION: 66.1 GRADE 'B'\n",
    "# MINE DEFECT: 12.35 GRADE 'A'\n",
    "\n",
    "%time\n",
    "image_path = f'../images/{images_paths[27]}'\n",
    "image = cv2.imread(image_path)\n",
    "print(image_path)\n",
    "print()\n",
    "overall_quality_parameters_dict = verify_barcode(image, verbose_timing=True)\n"
   ]
  },
  {
   "cell_type": "code",
   "execution_count": 32,
   "id": "c7e69403",
   "metadata": {},
   "outputs": [
    {
     "name": "stdout",
     "output_type": "stream",
     "text": [
      "Wall time: 0 ns\n",
      "../images/UPC#08.BMP\n",
      "\n",
      "TIMING INFORMATION\n",
      "\tDetect bounding box: 0.012999296188354492\n",
      "\tRotate bounding box: 0.005000591278076172\n",
      "\tRefine ROI image: 0.023526668548583984\n",
      "\tCompute quality parameters: 0.012442827224731445\n",
      "\n"
     ]
    }
   ],
   "source": [
    "# MINE SC: 79.05. GRADE 'A'\n",
    "# MINE MODULATION: 70.5 GRADE 'A'\n",
    "# MINE DEFECT: 4.8 GRADE 'A'\n",
    "\n",
    "%time\n",
    "image_path = f'../images/{images_paths[28]}'\n",
    "image = cv2.imread(image_path)\n",
    "print(image_path)\n",
    "print()\n",
    "overall_quality_parameters_dict = verify_barcode(image, verbose_timing=True)\n"
   ]
  },
  {
   "cell_type": "code",
   "execution_count": 33,
   "id": "634f2271",
   "metadata": {},
   "outputs": [
    {
     "name": "stdout",
     "output_type": "stream",
     "text": [
      "Wall time: 0 ns\n",
      "../images/UPC#09.BMP\n",
      "\n",
      "TIMING INFORMATION\n",
      "\tDetect bounding box: 0.012062549591064453\n",
      "\tRotate bounding box: 0.004730939865112305\n",
      "\tRefine ROI image: 0.02009415626525879\n",
      "\tCompute quality parameters: 0.012276887893676758\n",
      "\n"
     ]
    }
   ],
   "source": [
    "# MINE SC: 79.17. GRADE 'A'\n",
    "# MINE MODULATION: 59.5 GRADE 'C'\n",
    "# MINE DEFECT: 4.4 GRADE 'A'\n",
    "\n",
    "%time\n",
    "image_path = f'../images/{images_paths[29]}'\n",
    "image = cv2.imread(image_path)\n",
    "print(image_path)\n",
    "print()\n",
    "overall_quality_parameters_dict = verify_barcode(image, verbose_timing=True)\n"
   ]
  },
  {
   "cell_type": "code",
   "execution_count": 34,
   "id": "c1ff65c1",
   "metadata": {},
   "outputs": [
    {
     "name": "stdout",
     "output_type": "stream",
     "text": [
      "Wall time: 0 ns\n",
      "../images/UPC#10.BMP\n",
      "\n",
      "TIMING INFORMATION\n",
      "\tDetect bounding box: 0.0139312744140625\n",
      "\tRotate bounding box: 0.004996061325073242\n",
      "\tRefine ROI image: 0.020374059677124023\n",
      "\tCompute quality parameters: 0.012079715728759766\n",
      "\n"
     ]
    }
   ],
   "source": [
    "# MINE SC: 79.76. GRADE 'A'\n",
    "# MINE MODULATION: 52.26 GRADE 'C'\n",
    "# MINE DEFECT: 4.2 GRADE 'A'\n",
    "\n",
    "%time\n",
    "image_path = f'../images/{images_paths[30]}'\n",
    "image = cv2.imread(image_path)\n",
    "print(image_path)\n",
    "print()\n",
    "overall_quality_parameters_dict = verify_barcode(image, verbose_timing=True)\n"
   ]
  },
  {
   "cell_type": "code",
   "execution_count": 35,
   "id": "8dfadcda",
   "metadata": {},
   "outputs": [
    {
     "name": "stdout",
     "output_type": "stream",
     "text": [
      "Wall time: 0 ns\n",
      "../images/UPC#11.BMP\n",
      "\n",
      "TIMING INFORMATION\n",
      "\tDetect bounding box: 0.012000083923339844\n",
      "\tRotate bounding box: 0.005358457565307617\n",
      "\tRefine ROI image: 0.019144535064697266\n",
      "\tCompute quality parameters: 0.01328587532043457\n",
      "\n"
     ]
    }
   ],
   "source": [
    "# MINE SC: 78.9. GRADE 'A'\n",
    "# MINE MODULATION: 45.58 GRADE 'D'\n",
    "# MINE DEFECT: 5.47 GRADE 'A'\n",
    "\n",
    "%time\n",
    "image_path = f'../images/{images_paths[31]}'\n",
    "image = cv2.imread(image_path)\n",
    "print(image_path)\n",
    "print()\n",
    "overall_quality_parameters_dict = verify_barcode(image, verbose_timing=True)\n"
   ]
  },
  {
   "cell_type": "code",
   "execution_count": 36,
   "id": "9534997f",
   "metadata": {},
   "outputs": [
    {
     "name": "stdout",
     "output_type": "stream",
     "text": [
      "Wall time: 0 ns\n",
      "../images/UPC#12.BMP\n",
      "\n",
      "TIMING INFORMATION\n",
      "\tDetect bounding box: 0.013001441955566406\n",
      "\tRotate bounding box: 0.0021965503692626953\n",
      "\tRefine ROI image: 0.01928400993347168\n",
      "\tCompute quality parameters: 0.013224363327026367\n",
      "\n"
     ]
    }
   ],
   "source": [
    "# MINE SC: 81.61. GRADE 'A'\n",
    "# MINE MODULATION: 26.2 GRADE 'F'\n",
    "# MINE DEFECT: 5.71 GRADE 'A'\n",
    "\n",
    "%time\n",
    "image_path = f'../images/{images_paths[32]}'\n",
    "image = cv2.imread(image_path)\n",
    "print(image_path)\n",
    "print()\n",
    "overall_quality_parameters_dict = verify_barcode(image, verbose_timing=True)\n"
   ]
  },
  {
   "cell_type": "code",
   "execution_count": 37,
   "id": "1cf2e850",
   "metadata": {},
   "outputs": [
    {
     "name": "stdout",
     "output_type": "stream",
     "text": [
      "Wall time: 0 ns\n",
      "../images/UPC#13.BMP\n",
      "\n",
      "TIMING INFORMATION\n",
      "\tDetect bounding box: 0.013242244720458984\n",
      "\tRotate bounding box: 0.005640506744384766\n",
      "\tRefine ROI image: 0.02276158332824707\n",
      "\tCompute quality parameters: 0.012280941009521484\n",
      "\n"
     ]
    }
   ],
   "source": [
    "# MINE SC: 81.02. GRADE 'A'\n",
    "# MINE MODULATION: 76.57 GRADE 'A'\n",
    "# MINE DEFECT: 6.78 GRADE 'A'\n",
    "\n",
    "%time\n",
    "image_path = f'../images/{images_paths[33]}'\n",
    "image = cv2.imread(image_path)\n",
    "print(image_path)\n",
    "print()\n",
    "overall_quality_parameters_dict = verify_barcode(image, verbose_timing=True)\n"
   ]
  },
  {
   "cell_type": "code",
   "execution_count": 38,
   "id": "f10486a8",
   "metadata": {},
   "outputs": [
    {
     "name": "stdout",
     "output_type": "stream",
     "text": [
      "Wall time: 0 ns\n",
      "../images/UPC#14.BMP\n",
      "\n",
      "TIMING INFORMATION\n",
      "\tDetect bounding box: 0.012823104858398438\n",
      "\tRotate bounding box: 0.004665374755859375\n",
      "\tRefine ROI image: 0.027180910110473633\n",
      "\tCompute quality parameters: 0.014076948165893555\n",
      "\n"
     ]
    }
   ],
   "source": [
    "# MINE SC: 79.56. GRADE 'A'\n",
    "# MINE MODULATION: 77.14 GRADE 'A'\n",
    "# MINE DEFECT: 15.2 GRADE 'B'\n",
    "\n",
    "%time\n",
    "image_path = f'../images/{images_paths[34]}'\n",
    "image = cv2.imread(image_path)\n",
    "print(image_path)\n",
    "print()\n",
    "overall_quality_parameters_dict = verify_barcode(image, verbose_timing=True)\n"
   ]
  },
  {
   "cell_type": "code",
   "execution_count": 39,
   "id": "b5f9ab3e",
   "metadata": {},
   "outputs": [
    {
     "name": "stdout",
     "output_type": "stream",
     "text": [
      "Wall time: 0 ns\n",
      "../images/UPC#15.BMP\n",
      "\n",
      "TIMING INFORMATION\n",
      "\tDetect bounding box: 0.01305532455444336\n",
      "\tRotate bounding box: 0.0053098201751708984\n",
      "\tRefine ROI image: 0.0211331844329834\n",
      "\tCompute quality parameters: 0.013087272644042969\n",
      "\n"
     ]
    }
   ],
   "source": [
    "# MINE SC: 76.6. GRADE 'A'\n",
    "# MINE MODULATION: 76.98 GRADE 'A'\n",
    "# MINE DEFECT: 19.7 GRADE 'B'\n",
    "\n",
    "%time\n",
    "image_path = f'../images/{images_paths[35]}'\n",
    "image = cv2.imread(image_path)\n",
    "print(image_path)\n",
    "print()\n",
    "overall_quality_parameters_dict = verify_barcode(image, verbose_timing=True)\n"
   ]
  },
  {
   "cell_type": "code",
   "execution_count": 40,
   "id": "eb2176b0",
   "metadata": {},
   "outputs": [
    {
     "name": "stdout",
     "output_type": "stream",
     "text": [
      "Wall time: 0 ns\n",
      "../images/UPC#16.BMP\n",
      "\n",
      "TIMING INFORMATION\n",
      "\tDetect bounding box: 0.014309167861938477\n",
      "\tRotate bounding box: 0.0029997825622558594\n",
      "\tRefine ROI image: 0.022650957107543945\n",
      "\tCompute quality parameters: 0.01352834701538086\n",
      "\n"
     ]
    }
   ],
   "source": [
    "# MINE SC: 79.45. GRADE 'A'\n",
    "# MINE MODULATION: 75.73 GRADE 'A'\n",
    "# MINE DEFECT: 28.16 GRADE 'D'\n",
    "\n",
    "%time\n",
    "image_path = f'../images/{images_paths[36]}'\n",
    "image = cv2.imread(image_path)\n",
    "print(image_path)\n",
    "print()\n",
    "overall_quality_parameters_dict = verify_barcode(image, verbose_timing=True)\n"
   ]
  },
  {
   "cell_type": "code",
   "execution_count": 41,
   "id": "e540d4d5",
   "metadata": {},
   "outputs": [
    {
     "name": "stdout",
     "output_type": "stream",
     "text": [
      "Wall time: 0 ns\n",
      "../images/UPC#17.BMP\n",
      "\n",
      "TIMING INFORMATION\n",
      "\tDetect bounding box: 0.012997150421142578\n",
      "\tRotate bounding box: 0.00500178337097168\n",
      "\tRefine ROI image: 0.021253347396850586\n",
      "\tCompute quality parameters: 0.012351274490356445\n",
      "\n"
     ]
    }
   ],
   "source": [
    "# MINE SC: 78.59. GRADE 'A'\n",
    "# MINE MODULATION: 76 GRADE 'A'\n",
    "# MINE DEFECT: 25.16 GRADE 'D'\n",
    "\n",
    "%time\n",
    "image_path = f'../images/{images_paths[37]}'\n",
    "image = cv2.imread(image_path)\n",
    "print(image_path)\n",
    "print()\n",
    "overall_quality_parameters_dict = verify_barcode(image, verbose_timing=True)\n"
   ]
  },
  {
   "cell_type": "code",
   "execution_count": 42,
   "id": "a5106b3a",
   "metadata": {},
   "outputs": [
    {
     "name": "stdout",
     "output_type": "stream",
     "text": [
      "Wall time: 0 ns\n",
      "../images/UPC#18.BMP\n",
      "\n",
      "TIMING INFORMATION\n",
      "\tDetect bounding box: 0.012600421905517578\n",
      "\tRotate bounding box: 0.0033643245697021484\n",
      "\tRefine ROI image: 0.02232527732849121\n",
      "\tCompute quality parameters: 0.016367197036743164\n",
      "\n"
     ]
    }
   ],
   "source": [
    "# MINE SC: 79.45. GRADE 'A'\n",
    "# MINE MODULATION: 76 GRADE 'A'\n",
    "# MINE DEFECT: 13.38 GRADE 'A'\n",
    "\n",
    "%time\n",
    "image_path = f'../images/{images_paths[38]}'\n",
    "image = cv2.imread(image_path)\n",
    "print(image_path)\n",
    "print()\n",
    "overall_quality_parameters_dict = verify_barcode(image, verbose_timing=True)\n"
   ]
  },
  {
   "cell_type": "code",
   "execution_count": 43,
   "id": "5d3e9d63",
   "metadata": {},
   "outputs": [
    {
     "name": "stdout",
     "output_type": "stream",
     "text": [
      "Wall time: 0 ns\n",
      "../images/UPC#19.BMP\n",
      "\n",
      "TIMING INFORMATION\n",
      "\tDetect bounding box: 0.012073516845703125\n",
      "\tRotate bounding box: 0.0059032440185546875\n",
      "\tRefine ROI image: 0.020958662033081055\n",
      "\tCompute quality parameters: 0.012269973754882812\n",
      "\n"
     ]
    }
   ],
   "source": [
    "# MINE SC: 74.27. GRADE 'A'\n",
    "# MINE MODULATION: 76.3 GRADE 'A'\n",
    "# MINE DEFECT: 15.78 GRADE 'B'\n",
    "\n",
    "%time\n",
    "image_path = f'../images/{images_paths[39]}'\n",
    "image = cv2.imread(image_path)\n",
    "print(image_path)\n",
    "print()\n",
    "overall_quality_parameters_dict = verify_barcode(image, verbose_timing=True)\n"
   ]
  },
  {
   "cell_type": "code",
   "execution_count": 44,
   "id": "d41d22d6",
   "metadata": {},
   "outputs": [
    {
     "name": "stdout",
     "output_type": "stream",
     "text": [
      "Wall time: 0 ns\n",
      "../images/UPC#20.BMP\n",
      "\n",
      "TIMING INFORMATION\n",
      "\tDetect bounding box: 0.012878894805908203\n",
      "\tRotate bounding box: 0.005998849868774414\n",
      "\tRefine ROI image: 0.02003622055053711\n",
      "\tCompute quality parameters: 0.013206005096435547\n",
      "\n"
     ]
    }
   ],
   "source": [
    "# MINE SC: 76.78. GRADE 'A'\n",
    "# MINE MODULATION: 76.3 GRADE 'A'\n",
    "# MINE DEFECT: 18.85 GRADE 'B'\n",
    "\n",
    "%time\n",
    "image_path = f'../images/{images_paths[40]}'\n",
    "image = cv2.imread(image_path)\n",
    "print(image_path)\n",
    "print()\n",
    "overall_quality_parameters_dict = verify_barcode(image, verbose_timing=True)\n"
   ]
  },
  {
   "cell_type": "code",
   "execution_count": 45,
   "id": "2b55eda2",
   "metadata": {},
   "outputs": [
    {
     "name": "stdout",
     "output_type": "stream",
     "text": [
      "Wall time: 0 ns\n",
      "../images/UPC#21.BMP\n",
      "\n",
      "TIMING INFORMATION\n",
      "\tDetect bounding box: 0.012620925903320312\n",
      "\tRotate bounding box: 0.005141496658325195\n",
      "\tRefine ROI image: 0.02110457420349121\n",
      "\tCompute quality parameters: 0.013179779052734375\n",
      "\n"
     ]
    }
   ],
   "source": [
    "# MINE SC: 76.43. GRADE 'A'\n",
    "# MINE MODULATION: 75.5 GRADE 'A'\n",
    "# MINE DEFECT: 25.24 GRADE 'D'\n",
    "\n",
    "%time\n",
    "image_path = f'../images/{images_paths[41]}'\n",
    "image = cv2.imread(image_path)\n",
    "print(image_path)\n",
    "print()\n",
    "overall_quality_parameters_dict = verify_barcode(image, verbose_timing=True)\n"
   ]
  },
  {
   "cell_type": "code",
   "execution_count": 46,
   "id": "b5bd602a",
   "metadata": {},
   "outputs": [
    {
     "name": "stdout",
     "output_type": "stream",
     "text": [
      "Wall time: 0 ns\n",
      "../images/UPC#22.BMP\n",
      "\n",
      "TIMING INFORMATION\n",
      "\tDetect bounding box: 0.011427879333496094\n",
      "\tRotate bounding box: 0.0033986568450927734\n",
      "\tRefine ROI image: 0.02126336097717285\n",
      "\tCompute quality parameters: 0.013439416885375977\n",
      "\n"
     ]
    }
   ],
   "source": [
    "# MINE SC: 77.21. GRADE 'A'\n",
    "# MINE MODULATION: 76.04 GRADE 'A'\n",
    "# MINE DEFECT: 34.22 GRADE 'F'\n",
    "\n",
    "%time\n",
    "image_path = f'../images/{images_paths[42]}'\n",
    "image = cv2.imread(image_path)\n",
    "print(image_path)\n",
    "print()\n",
    "overall_quality_parameters_dict = verify_barcode(image, verbose_timing=True)\n"
   ]
  },
  {
   "cell_type": "code",
   "execution_count": 47,
   "id": "cdb9f1a4",
   "metadata": {},
   "outputs": [
    {
     "name": "stdout",
     "output_type": "stream",
     "text": [
      "Wall time: 0 ns\n",
      "../images/UPC#23.BMP\n",
      "\n",
      "TIMING INFORMATION\n",
      "\tDetect bounding box: 0.0136566162109375\n",
      "\tRotate bounding box: 0.0019919872283935547\n",
      "\tRefine ROI image: 0.025703907012939453\n",
      "\tCompute quality parameters: 0.013520240783691406\n",
      "\n"
     ]
    }
   ],
   "source": [
    "# MINE SC: 78.43. GRADE 'A'\n",
    "# MINE MODULATION: 76.46 GRADE 'A'\n",
    "# MINE DEFECT: 6.43 GRADE 'A'\n",
    "\n",
    "%time\n",
    "image_path = f'../images/{images_paths[43]}'\n",
    "image = cv2.imread(image_path)\n",
    "print(image_path)\n",
    "print()\n",
    "overall_quality_parameters_dict = verify_barcode(image, verbose_timing=True)\n"
   ]
  },
  {
   "cell_type": "code",
   "execution_count": 48,
   "id": "f5f5010d",
   "metadata": {},
   "outputs": [
    {
     "name": "stdout",
     "output_type": "stream",
     "text": [
      "Wall time: 0 ns\n",
      "../images/UPC#24.BMP\n",
      "\n",
      "TIMING INFORMATION\n",
      "\tDetect bounding box: 0.012009143829345703\n",
      "\tRotate bounding box: 0.005000114440917969\n",
      "\tRefine ROI image: 0.022387266159057617\n",
      "\tCompute quality parameters: 0.012398719787597656\n",
      "\n"
     ]
    }
   ],
   "source": [
    "# MINE SC: 77.29. GRADE 'A'\n",
    "# MINE MODULATION: 76.26 GRADE 'A'\n",
    "# MINE DEFECT: 4.87 GRADE 'A'\n",
    "\n",
    "%time\n",
    "image_path = f'../images/{images_paths[44]}'\n",
    "image = cv2.imread(image_path)\n",
    "print(image_path)\n",
    "print()\n",
    "overall_quality_parameters_dict = verify_barcode(image, verbose_timing=True)\n"
   ]
  },
  {
   "cell_type": "code",
   "execution_count": 49,
   "id": "9173b18f",
   "metadata": {},
   "outputs": [
    {
     "name": "stdout",
     "output_type": "stream",
     "text": [
      "Wall time: 0 ns\n",
      "../images/UPC#25.BMP\n",
      "\n",
      "TIMING INFORMATION\n",
      "\tDetect bounding box: 0.014118194580078125\n",
      "\tRotate bounding box: 0.0049762725830078125\n",
      "\tRefine ROI image: 0.019817352294921875\n",
      "\tCompute quality parameters: 0.012459993362426758\n",
      "\n"
     ]
    }
   ],
   "source": [
    "# MINE SC: 80.07. GRADE 'A'\n",
    "# MINE MODULATION: 76.53 GRADE 'A'\n",
    "# MINE DEFECT: 6.89 GRADE 'A'\n",
    "\n",
    "%time\n",
    "image_path = f'../images/{images_paths[45]}'\n",
    "image = cv2.imread(image_path)\n",
    "print(image_path)\n",
    "print()\n",
    "overall_quality_parameters_dict = verify_barcode(image, verbose_timing=True)\n"
   ]
  },
  {
   "cell_type": "code",
   "execution_count": 50,
   "id": "4f9b7599",
   "metadata": {},
   "outputs": [
    {
     "name": "stdout",
     "output_type": "stream",
     "text": [
      "Wall time: 0 ns\n",
      "../images/UPC#26.BMP\n",
      "\n",
      "TIMING INFORMATION\n",
      "\tDetect bounding box: 0.013511419296264648\n",
      "\tRotate bounding box: 0.005999088287353516\n",
      "\tRefine ROI image: 0.02051377296447754\n",
      "\tCompute quality parameters: 0.012577295303344727\n",
      "\n"
     ]
    }
   ],
   "source": [
    "# MINE SC: 78.35. GRADE 'A'\n",
    "# MINE MODULATION: 76.73 GRADE 'A'\n",
    "# MINE DEFECT: 4.54 GRADE 'A'\n",
    "\n",
    "%time\n",
    "image_path = f'../images/{images_paths[46]}'\n",
    "image = cv2.imread(image_path)\n",
    "print(image_path)\n",
    "print()\n",
    "overall_quality_parameters_dict = verify_barcode(image, verbose_timing=True)\n"
   ]
  },
  {
   "cell_type": "code",
   "execution_count": 51,
   "id": "960d1f91",
   "metadata": {},
   "outputs": [
    {
     "name": "stdout",
     "output_type": "stream",
     "text": [
      "Wall time: 0 ns\n",
      "../images/UPC#27.BMP\n",
      "\n",
      "TIMING INFORMATION\n",
      "\tDetect bounding box: 0.01285243034362793\n",
      "\tRotate bounding box: 0.005211353302001953\n",
      "\tRefine ROI image: 0.02047896385192871\n",
      "\tCompute quality parameters: 0.015494108200073242\n",
      "\n"
     ]
    }
   ],
   "source": [
    "# MINE SC: 78.23. GRADE 'A'\n",
    "# MINE MODULATION: 75.89 GRADE 'A'\n",
    "# MINE DEFECT: 4.76 GRADE 'A'\n",
    "\n",
    "%time\n",
    "image_path = f'../images/{images_paths[47]}'\n",
    "image = cv2.imread(image_path)\n",
    "print(image_path)\n",
    "print()\n",
    "overall_quality_parameters_dict = verify_barcode(image, verbose_timing=True)\n"
   ]
  },
  {
   "cell_type": "code",
   "execution_count": 52,
   "id": "4c8b7086",
   "metadata": {},
   "outputs": [
    {
     "name": "stdout",
     "output_type": "stream",
     "text": [
      "Wall time: 0 ns\n",
      "../images/UPC#28.BMP\n",
      "\n",
      "TIMING INFORMATION\n",
      "\tDetect bounding box: 0.013002157211303711\n",
      "\tRotate bounding box: 0.004998683929443359\n",
      "\tRefine ROI image: 0.021239042282104492\n",
      "\tCompute quality parameters: 0.012543439865112305\n",
      "\n"
     ]
    }
   ],
   "source": [
    "# MINE SC: 77.84. GRADE 'A'\n",
    "# MINE MODULATION: 76.68 GRADE 'A'\n",
    "# MINE DEFECT: 4.47 GRADE 'A'\n",
    "\n",
    "%time\n",
    "image_path = f'../images/{images_paths[48]}'\n",
    "image = cv2.imread(image_path)\n",
    "print(image_path)\n",
    "print()\n",
    "overall_quality_parameters_dict = verify_barcode(image, verbose_timing=True)\n"
   ]
  },
  {
   "cell_type": "code",
   "execution_count": 53,
   "id": "e604d4d0",
   "metadata": {},
   "outputs": [
    {
     "name": "stdout",
     "output_type": "stream",
     "text": [
      "Wall time: 0 ns\n",
      "../images/UPC#29.BMP\n",
      "\n",
      "TIMING INFORMATION\n",
      "\tDetect bounding box: 0.01672959327697754\n",
      "\tRotate bounding box: 0.005953788757324219\n",
      "\tRefine ROI image: 0.021520137786865234\n",
      "\tCompute quality parameters: 0.013345718383789062\n",
      "\n"
     ]
    }
   ],
   "source": [
    "# MINE SC: 79.05. GRADE 'A'\n",
    "# MINE MODULATION: 76.78 GRADE 'A'\n",
    "# MINE DEFECT: 4.41 GRADE 'A'\n",
    "\n",
    "%time\n",
    "image_path = f'../images/{images_paths[49]}'\n",
    "image = cv2.imread(image_path)\n",
    "print(image_path)\n",
    "print()\n",
    "overall_quality_parameters_dict = verify_barcode(image, verbose_timing=True)\n"
   ]
  },
  {
   "cell_type": "code",
   "execution_count": 54,
   "id": "dad0a376",
   "metadata": {},
   "outputs": [
    {
     "name": "stdout",
     "output_type": "stream",
     "text": [
      "Wall time: 0 ns\n",
      "../images/UPC#30.BMP\n",
      "\n",
      "TIMING INFORMATION\n",
      "\tDetect bounding box: 0.017416954040527344\n",
      "\tRotate bounding box: 0.005044698715209961\n",
      "\tRefine ROI image: 0.021515846252441406\n",
      "\tCompute quality parameters: 0.0132293701171875\n",
      "\n"
     ]
    }
   ],
   "source": [
    "# MINE SC: 79.02. GRADE 'A'\n",
    "# MINE MODULATION: 77.18 GRADE 'A'\n",
    "# MINE DEFECT: 5.0 GRADE 'A'\n",
    "\n",
    "%time\n",
    "image_path = f'../images/{images_paths[50]}'\n",
    "image = cv2.imread(image_path)\n",
    "print(image_path)\n",
    "print()\n",
    "overall_quality_parameters_dict = verify_barcode(image, verbose_timing=True)\n"
   ]
  },
  {
   "cell_type": "code",
   "execution_count": 55,
   "id": "7f49f38a",
   "metadata": {},
   "outputs": [
    {
     "name": "stdout",
     "output_type": "stream",
     "text": [
      "Wall time: 0 ns\n",
      "../images/UPC#31.BMP\n",
      "\n",
      "TIMING INFORMATION\n",
      "\tDetect bounding box: 0.014713287353515625\n",
      "\tRotate bounding box: 0.005916118621826172\n",
      "\tRefine ROI image: 0.024564504623413086\n",
      "\tCompute quality parameters: 0.012003421783447266\n",
      "\n"
     ]
    }
   ],
   "source": [
    "# MINE SC: 80.71. GRADE 'A'\n",
    "# MINE MODULATION: 77.31 GRADE 'A'\n",
    "# MINE DEFECT: 4.4 GRADE 'A'\n",
    "\n",
    "%time\n",
    "image_path = f'../images/{images_paths[51]}'\n",
    "image = cv2.imread(image_path)\n",
    "print(image_path)\n",
    "print()\n",
    "overall_quality_parameters_dict = verify_barcode(image, verbose_timing=True)\n"
   ]
  },
  {
   "cell_type": "code",
   "execution_count": 56,
   "id": "a7e16b67",
   "metadata": {},
   "outputs": [
    {
     "name": "stdout",
     "output_type": "stream",
     "text": [
      "Wall time: 0 ns\n",
      "../images/UPC#32.BMP\n",
      "\n",
      "TIMING INFORMATION\n",
      "\tDetect bounding box: 0.012737751007080078\n",
      "\tRotate bounding box: 0.006072282791137695\n",
      "\tRefine ROI image: 0.02241349220275879\n",
      "\tCompute quality parameters: 0.011460542678833008\n",
      "\n"
     ]
    }
   ],
   "source": [
    "# MINE SC: 79.89. GRADE 'A'\n",
    "# MINE MODULATION: 76.88 GRADE 'A'\n",
    "# MINE DEFECT: 5.4 GRADE 'A'\n",
    "\n",
    "%time\n",
    "image_path = f'../images/{images_paths[52]}'\n",
    "image = cv2.imread(image_path)\n",
    "print(image_path)\n",
    "print()\n",
    "overall_quality_parameters_dict = verify_barcode(image, verbose_timing=True)\n"
   ]
  },
  {
   "cell_type": "code",
   "execution_count": null,
   "id": "facb4574",
   "metadata": {},
   "outputs": [],
   "source": []
  },
  {
   "cell_type": "code",
   "execution_count": null,
   "id": "606e39bb",
   "metadata": {},
   "outputs": [],
   "source": []
  },
  {
   "cell_type": "code",
   "execution_count": null,
   "id": "784cc061",
   "metadata": {},
   "outputs": [],
   "source": []
  },
  {
   "cell_type": "code",
   "execution_count": null,
   "id": "020ac9e3",
   "metadata": {},
   "outputs": [],
   "source": []
  }
 ],
 "metadata": {
  "kernelspec": {
   "display_name": "Python 3",
   "language": "python",
   "name": "python3"
  },
  "language_info": {
   "codemirror_mode": {
    "name": "ipython",
    "version": 3
   },
   "file_extension": ".py",
   "mimetype": "text/x-python",
   "name": "python",
   "nbconvert_exporter": "python",
   "pygments_lexer": "ipython3",
   "version": "3.8.8"
  },
  "vscode": {
   "interpreter": {
    "hash": "d14990a399795653de35f1f5395269163893147857e74010bc072f6042c8e8da"
   }
  }
 },
 "nbformat": 4,
 "nbformat_minor": 5
}
