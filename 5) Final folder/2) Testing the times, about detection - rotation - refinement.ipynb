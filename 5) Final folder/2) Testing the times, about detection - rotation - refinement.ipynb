{
 "cells": [
  {
   "cell_type": "code",
   "execution_count": 1,
   "id": "0e8353b3",
   "metadata": {},
   "outputs": [],
   "source": [
    "import time\n",
    "import cv2\n",
    "\n",
    "from detect_boundingBox import detect_boundingBox\n",
    "from rotate_boundingBox import rotate_boundingBox\n",
    "from refine_roiImage import refine_roiImage\n",
    "from compute_quality_parameters import compute_quality_parameters"
   ]
  },
  {
   "cell_type": "code",
   "execution_count": 2,
   "id": "d50f1679",
   "metadata": {},
   "outputs": [],
   "source": [
    "from os import listdir\n",
    "from os.path import isfile, join\n",
    "images_paths = [f for f in listdir('../images') if isfile(join('../images', f))]"
   ]
  },
  {
   "cell_type": "code",
   "execution_count": 3,
   "id": "a2838bda",
   "metadata": {},
   "outputs": [],
   "source": [
    "def _populate_visualization_dict(visualization_dict):\n",
    "    if visualization_dict=='all':\n",
    "        visualization_dict = {}\n",
    "        visualization_dict['visualize_originalImage_boundingBox'] = True\n",
    "        visualization_dict['visualize_rotatedImage_boundingBox'] = True\n",
    "        visualization_dict['visualize_barcode_structure'] = True\n",
    "        visualization_dict['visualize_refinedRoi_withQuantities'] = True\n",
    "        visualization_dict['visualize_refinedRoi'] = True\n",
    "        visualization_dict['visualize_scanlines_onRoiImage'] = True\n",
    "        visualization_dict['visualize_scanlines_qualityParameters'] = True\n",
    "\n",
    "    if visualization_dict is None:\n",
    "        visualization_dict = {}\n",
    "    if 'visualize_originalImage_boundingBox' not in visualization_dict:\n",
    "        visualization_dict['visualize_originalImage_boundingBox'] = False\n",
    "    if 'visualize_rotatedImage_boundingBox' not in visualization_dict:\n",
    "        visualization_dict['visualize_rotatedImage_boundingBox'] = False\n",
    "    if 'visualize_barcode_structure' not in visualization_dict:\n",
    "        visualization_dict['visualize_barcode_structure'] = False\n",
    "    if 'visualize_refinedRoi_withQuantities' not in visualization_dict:\n",
    "        visualization_dict['visualize_refinedRoi_withQuantities'] = False\n",
    "    if 'visualize_refinedRoi' not in visualization_dict:\n",
    "        visualization_dict['visualize_refinedRoi'] = False \n",
    "    if 'visualize_scanlines_onRoiImage' not in visualization_dict:\n",
    "        visualization_dict['visualize_scanlines_onRoiImage'] = False \n",
    "    if 'visualize_scanlines_qualityParameters' not in visualization_dict:\n",
    "        visualization_dict['visualize_scanlines_qualityParameters'] = False\n",
    "\n",
    "    return visualization_dict"
   ]
  },
  {
   "cell_type": "code",
   "execution_count": 4,
   "id": "74e161d3",
   "metadata": {},
   "outputs": [],
   "source": [
    "def detect_rotate_refine_bb(image, use_same_threshold=False, compute_barcode_structure_algorithm=1, n_scanlines=10, \n",
    "                   outlier_detection_level=0.02, visualization_dict=None, verbose_timing=True):\n",
    "    \n",
    "\n",
    "    visualization_dict = _populate_visualization_dict(visualization_dict) \n",
    "\n",
    "    start_time = time.time()\n",
    "\n",
    "    bb_points_sorted, bb_width, bb_height, threshold = detect_boundingBox(image, \n",
    "                                        visualize_bounding_box=visualization_dict['visualize_originalImage_boundingBox'])\n",
    "    end_detectBB_time = time.time()\n",
    "\n",
    "    image_rot, bb_points_sorted_rot, roi_image, angle = rotate_boundingBox(image, bb_points_sorted, bb_width, bb_height, \n",
    "                                    fix_horizontalBars_case=True, \n",
    "                                    visualize_rotatedImage_boundingBox=visualization_dict['visualize_rotatedImage_boundingBox'])\n",
    "    end_rotateBB_time = time.time()\n",
    "\n",
    "    roi_image_ref, bb_points_sorted_rot_ref, barcode_structure_dict = refine_roiImage(roi_image, image_rot, \n",
    "                                    bb_points_sorted_rot, \n",
    "                                    compute_barcode_structure_algorithm=compute_barcode_structure_algorithm, \n",
    "                                    threshold=threshold if use_same_threshold else None,\n",
    "                                    fix_wrongBar_case=True, \n",
    "                                    outlier_detection_level=outlier_detection_level, \n",
    "                                    visualize_barcode_structure=visualization_dict['visualize_barcode_structure'], \n",
    "                                    visualize_refinedRoi_withQuantities=visualization_dict['visualize_refinedRoi_withQuantities'], \n",
    "                                    visualize_refinedRoi=visualization_dict['visualize_refinedRoi'])\n",
    "    end_refineROI_time = time.time()\n",
    "\n",
    "    \"\"\"overall_quality_parameters_dict = compute_quality_parameters(roi_image_ref, n_scanlines=n_scanlines, \n",
    "                                    visualize_scanlines_onRoiImage=visualization_dict['visualize_scanlines_onRoiImage'], \n",
    "                                    visualize_scanlines_qualityParameters=visualization_dict['visualize_scanlines_qualityParameters'])\n",
    "    end_computeQualityParameters_time = time.time()\"\"\"\n",
    "\n",
    "    if verbose_timing:\n",
    "        print('TIMING INFORMATION')\n",
    "        print('\\tDetect bounding box:', end_detectBB_time-start_time)\n",
    "        print('\\tRotate bounding box:', end_rotateBB_time-end_detectBB_time)\n",
    "        print('\\tRefine ROI image:', end_refineROI_time-end_rotateBB_time)\n",
    "        #print('\\tCompute quality parameters:', end_computeQualityParameters_time-end_refineROI_time)\n",
    "        print()"
   ]
  },
  {
   "cell_type": "code",
   "execution_count": 5,
   "id": "8dec1f21",
   "metadata": {},
   "outputs": [
    {
     "name": "stdout",
     "output_type": "stream",
     "text": [
      "../images/C128_4.4LOW.BMP\n",
      "\n",
      "TIMING INFORMATION\n",
      "\tDetect bounding box: 0.02006697654724121\n",
      "\tRotate bounding box: 0.012457847595214844\n",
      "\tRefine ROI image: 0.03546643257141113\n",
      "\n",
      "Wall time: 74 ms\n"
     ]
    }
   ],
   "source": [
    "%%time\n",
    "image_path = f'../images/{images_paths[0]}'\n",
    "image = cv2.imread(image_path)\n",
    "print(image_path)\n",
    "print()\n",
    "detect_rotate_refine_bb(image)"
   ]
  },
  {
   "cell_type": "code",
   "execution_count": 6,
   "id": "fdbaf2f5",
   "metadata": {},
   "outputs": [
    {
     "name": "stdout",
     "output_type": "stream",
     "text": [
      "../images/C128_4.4UP.BMP\n",
      "\n",
      "TIMING INFORMATION\n",
      "\tDetect bounding box: 0.017294645309448242\n",
      "\tRotate bounding box: 0.0039882659912109375\n",
      "\tRefine ROI image: 0.03429102897644043\n",
      "\n",
      "Wall time: 61.9 ms\n"
     ]
    }
   ],
   "source": [
    "%%time\n",
    "image_path = f'../images/{images_paths[1]}'\n",
    "image = cv2.imread(image_path)\n",
    "print(image_path)\n",
    "print()\n",
    "detect_rotate_refine_bb(image)"
   ]
  },
  {
   "cell_type": "code",
   "execution_count": 7,
   "id": "3d8a11c8",
   "metadata": {},
   "outputs": [
    {
     "name": "stdout",
     "output_type": "stream",
     "text": [
      "../images/C128_7.5LOW.BMP\n",
      "\n",
      "TIMING INFORMATION\n",
      "\tDetect bounding box: 0.015228033065795898\n",
      "\tRotate bounding box: 0.005689859390258789\n",
      "\tRefine ROI image: 0.0202786922454834\n",
      "\n",
      "Wall time: 45.1 ms\n"
     ]
    }
   ],
   "source": [
    "%%time\n",
    "image_path = f'../images/{images_paths[2]}'\n",
    "image = cv2.imread(image_path)\n",
    "print(image_path)\n",
    "print()\n",
    "detect_rotate_refine_bb(image)"
   ]
  },
  {
   "cell_type": "code",
   "execution_count": 8,
   "id": "549b6a63",
   "metadata": {},
   "outputs": [
    {
     "name": "stdout",
     "output_type": "stream",
     "text": [
      "../images/C128_7.5UP.BMP\n",
      "\n",
      "TIMING INFORMATION\n",
      "\tDetect bounding box: 0.012961149215698242\n",
      "\tRotate bounding box: 0.0030670166015625\n",
      "\tRefine ROI image: 0.02150106430053711\n",
      "\n",
      "Wall time: 41.6 ms\n"
     ]
    }
   ],
   "source": [
    "%%time\n",
    "image_path = f'../images/{images_paths[3]}'\n",
    "image = cv2.imread(image_path)\n",
    "print(image_path)\n",
    "print()\n",
    "detect_rotate_refine_bb(image)"
   ]
  },
  {
   "cell_type": "code",
   "execution_count": 9,
   "id": "19a3ca3c",
   "metadata": {},
   "outputs": [
    {
     "name": "stdout",
     "output_type": "stream",
     "text": [
      "../images/C39_4.4LOW.BMP\n",
      "\n",
      "TIMING INFORMATION\n",
      "\tDetect bounding box: 0.012961149215698242\n",
      "\tRotate bounding box: 0.004166603088378906\n",
      "\tRefine ROI image: 0.02911233901977539\n",
      "\n",
      "Wall time: 50.2 ms\n"
     ]
    }
   ],
   "source": [
    "%%time\n",
    "image_path = f'../images/{images_paths[4]}'\n",
    "image = cv2.imread(image_path)\n",
    "print(image_path)\n",
    "print()\n",
    "detect_rotate_refine_bb(image)"
   ]
  },
  {
   "cell_type": "code",
   "execution_count": 10,
   "id": "a519df64",
   "metadata": {},
   "outputs": [
    {
     "name": "stdout",
     "output_type": "stream",
     "text": [
      "../images/C39_4.4UP.BMP\n",
      "\n",
      "TIMING INFORMATION\n",
      "\tDetect bounding box: 0.01351308822631836\n",
      "\tRotate bounding box: 0.0022614002227783203\n",
      "\tRefine ROI image: 0.02809596061706543\n",
      "\n",
      "Wall time: 47.9 ms\n"
     ]
    }
   ],
   "source": [
    "%%time\n",
    "image_path = f'../images/{images_paths[5]}'\n",
    "image = cv2.imread(image_path)\n",
    "print(image_path)\n",
    "print()\n",
    "detect_rotate_refine_bb(image)"
   ]
  },
  {
   "cell_type": "code",
   "execution_count": 11,
   "id": "c8858ec3",
   "metadata": {},
   "outputs": [
    {
     "name": "stdout",
     "output_type": "stream",
     "text": [
      "../images/C39_7.5LOW.BMP\n",
      "\n",
      "TIMING INFORMATION\n",
      "\tDetect bounding box: 0.014245748519897461\n",
      "\tRotate bounding box: 0.003179311752319336\n",
      "\tRefine ROI image: 0.03031325340270996\n",
      "\n",
      "Wall time: 51.5 ms\n"
     ]
    }
   ],
   "source": [
    "%%time\n",
    "image_path = f'../images/{images_paths[6]}'\n",
    "image = cv2.imread(image_path)\n",
    "print(image_path)\n",
    "print()\n",
    "detect_rotate_refine_bb(image)"
   ]
  },
  {
   "cell_type": "code",
   "execution_count": 12,
   "id": "8e9ed255",
   "metadata": {},
   "outputs": [
    {
     "name": "stdout",
     "output_type": "stream",
     "text": [
      "../images/C39_7.5UP.BMP\n",
      "\n",
      "TIMING INFORMATION\n",
      "\tDetect bounding box: 0.015079259872436523\n",
      "\tRotate bounding box: 0.003287792205810547\n",
      "\tRefine ROI image: 0.03006887435913086\n",
      "\n",
      "Wall time: 52 ms\n"
     ]
    }
   ],
   "source": [
    "%%time\n",
    "image_path = f'../images/{images_paths[7]}'\n",
    "image = cv2.imread(image_path)\n",
    "print(image_path)\n",
    "print()\n",
    "detect_rotate_refine_bb(image)"
   ]
  },
  {
   "cell_type": "code",
   "execution_count": 13,
   "id": "25ac77a8",
   "metadata": {},
   "outputs": [
    {
     "name": "stdout",
     "output_type": "stream",
     "text": [
      "../images/EAN-UPC-CONTRAST IMGB.BMP\n",
      "\n",
      "TIMING INFORMATION\n",
      "\tDetect bounding box: 0.010922431945800781\n",
      "\tRotate bounding box: 0.005086183547973633\n",
      "\tRefine ROI image: 0.017935991287231445\n",
      "\n",
      "Wall time: 38.1 ms\n"
     ]
    }
   ],
   "source": [
    "%%time\n",
    "image_path = f'../images/{images_paths[8]}'\n",
    "image = cv2.imread(image_path)\n",
    "print(image_path)\n",
    "print()\n",
    "detect_rotate_refine_bb(image)"
   ]
  },
  {
   "cell_type": "code",
   "execution_count": 14,
   "id": "f86d0044",
   "metadata": {},
   "outputs": [
    {
     "name": "stdout",
     "output_type": "stream",
     "text": [
      "../images/EAN-UPC-DECODABILITY IMGB.BMP\n",
      "\n",
      "TIMING INFORMATION\n",
      "\tDetect bounding box: 0.014951705932617188\n",
      "\tRotate bounding box: 0.005127906799316406\n",
      "\tRefine ROI image: 0.018366336822509766\n",
      "\n",
      "Wall time: 42.4 ms\n"
     ]
    }
   ],
   "source": [
    "%%time\n",
    "image_path = f'../images/{images_paths[9]}'\n",
    "image = cv2.imread(image_path)\n",
    "print(image_path)\n",
    "print()\n",
    "detect_rotate_refine_bb(image)"
   ]
  },
  {
   "cell_type": "code",
   "execution_count": 15,
   "id": "138412c7",
   "metadata": {},
   "outputs": [
    {
     "name": "stdout",
     "output_type": "stream",
     "text": [
      "../images/EAN-UPC-DEFECTS IMGB.BMP\n",
      "\n",
      "TIMING INFORMATION\n",
      "\tDetect bounding box: 0.010607481002807617\n",
      "\tRotate bounding box: 0.009397506713867188\n",
      "\tRefine ROI image: 0.018289566040039062\n",
      "\n",
      "Wall time: 41.3 ms\n"
     ]
    }
   ],
   "source": [
    "%%time\n",
    "image_path = f'../images/{images_paths[10]}'\n",
    "image = cv2.imread(image_path)\n",
    "print(image_path)\n",
    "print()\n",
    "detect_rotate_refine_bb(image)"
   ]
  },
  {
   "cell_type": "code",
   "execution_count": 16,
   "id": "9ae419c5",
   "metadata": {},
   "outputs": [
    {
     "name": "stdout",
     "output_type": "stream",
     "text": [
      "../images/EAN-UPC-EAN-13 MASTER GRADE IMGB.BMP\n",
      "\n",
      "TIMING INFORMATION\n",
      "\tDetect bounding box: 0.013071060180664062\n",
      "\tRotate bounding box: 0.006069660186767578\n",
      "\tRefine ROI image: 0.02319931983947754\n",
      "\n",
      "Wall time: 46.3 ms\n"
     ]
    }
   ],
   "source": [
    "%%time\n",
    "image_path = f'../images/{images_paths[11]}'\n",
    "image = cv2.imread(image_path)\n",
    "print(image_path)\n",
    "print()\n",
    "detect_rotate_refine_bb(image)"
   ]
  },
  {
   "cell_type": "code",
   "execution_count": 17,
   "id": "5b8b5c9f",
   "metadata": {},
   "outputs": [
    {
     "name": "stdout",
     "output_type": "stream",
     "text": [
      "../images/EAN-UPC-UPC-A MASTER GRADE IMGB.BMP\n",
      "\n",
      "TIMING INFORMATION\n",
      "\tDetect bounding box: 0.012871265411376953\n",
      "\tRotate bounding box: 0.006163597106933594\n",
      "\tRefine ROI image: 0.02151775360107422\n",
      "\n",
      "Wall time: 46.4 ms\n"
     ]
    }
   ],
   "source": [
    "%%time\n",
    "image_path = f'../images/{images_paths[12]}'\n",
    "image = cv2.imread(image_path)\n",
    "print(image_path)\n",
    "print()\n",
    "detect_rotate_refine_bb(image)"
   ]
  },
  {
   "cell_type": "code",
   "execution_count": 18,
   "id": "4f6fc19b",
   "metadata": {},
   "outputs": [
    {
     "name": "stdout",
     "output_type": "stream",
     "text": [
      "../images/EAN128-CONTRAST IMGB.BMP\n",
      "\n",
      "TIMING INFORMATION\n",
      "\tDetect bounding box: 0.00950002670288086\n",
      "\tRotate bounding box: 0.004482746124267578\n",
      "\tRefine ROI image: 0.01730179786682129\n",
      "\n",
      "Wall time: 34.3 ms\n"
     ]
    }
   ],
   "source": [
    "%%time\n",
    "image_path = f'../images/{images_paths[13]}'\n",
    "image = cv2.imread(image_path)\n",
    "print(image_path)\n",
    "print()\n",
    "detect_rotate_refine_bb(image)"
   ]
  },
  {
   "cell_type": "code",
   "execution_count": 19,
   "id": "1d8b2780",
   "metadata": {},
   "outputs": [
    {
     "name": "stdout",
     "output_type": "stream",
     "text": [
      "../images/EAN128-DEFECTS IMGB.BMP\n",
      "\n",
      "TIMING INFORMATION\n",
      "\tDetect bounding box: 0.009934663772583008\n",
      "\tRotate bounding box: 0.0016603469848632812\n",
      "\tRefine ROI image: 0.012711763381958008\n",
      "\n",
      "Wall time: 27.9 ms\n"
     ]
    }
   ],
   "source": [
    "%%time\n",
    "image_path = f'../images/{images_paths[14]}'\n",
    "image = cv2.imread(image_path)\n",
    "print(image_path)\n",
    "print()\n",
    "detect_rotate_refine_bb(image)"
   ]
  },
  {
   "cell_type": "code",
   "execution_count": 20,
   "id": "3b569bb8",
   "metadata": {},
   "outputs": [
    {
     "name": "stdout",
     "output_type": "stream",
     "text": [
      "../images/EAN128-LOW DECODABILITY IMGB.BMP\n",
      "\n",
      "TIMING INFORMATION\n",
      "\tDetect bounding box: 0.007999420166015625\n",
      "\tRotate bounding box: 0.004467964172363281\n",
      "\tRefine ROI image: 0.028192758560180664\n",
      "\n",
      "Wall time: 43.6 ms\n"
     ]
    }
   ],
   "source": [
    "%%time\n",
    "image_path = f'../images/{images_paths[15]}'\n",
    "image = cv2.imread(image_path)\n",
    "print(image_path)\n",
    "print()\n",
    "detect_rotate_refine_bb(image)"
   ]
  },
  {
   "cell_type": "code",
   "execution_count": 21,
   "id": "a3656b20",
   "metadata": {},
   "outputs": [
    {
     "name": "stdout",
     "output_type": "stream",
     "text": [
      "../images/EAN128-MASTER IMGB.BMP\n",
      "\n",
      "TIMING INFORMATION\n",
      "\tDetect bounding box: 0.009994745254516602\n",
      "\tRotate bounding box: 0.0018317699432373047\n",
      "\tRefine ROI image: 0.012172937393188477\n",
      "\n",
      "Wall time: 27.1 ms\n"
     ]
    }
   ],
   "source": [
    "%%time\n",
    "image_path = f'../images/{images_paths[16]}'\n",
    "image = cv2.imread(image_path)\n",
    "print(image_path)\n",
    "print()\n",
    "detect_rotate_refine_bb(image)"
   ]
  },
  {
   "cell_type": "code",
   "execution_count": 22,
   "id": "7d2ce5e1",
   "metadata": {},
   "outputs": [
    {
     "name": "stdout",
     "output_type": "stream",
     "text": [
      "../images/I25-CONTRAST IMGB.BMP\n",
      "\n",
      "TIMING INFORMATION\n",
      "\tDetect bounding box: 0.009894371032714844\n",
      "\tRotate bounding box: 0.003472566604614258\n",
      "\tRefine ROI image: 0.013292789459228516\n",
      "\n",
      "Wall time: 29.7 ms\n"
     ]
    }
   ],
   "source": [
    "%%time\n",
    "image_path = f'../images/{images_paths[17]}'\n",
    "image = cv2.imread(image_path)\n",
    "print(image_path)\n",
    "print()\n",
    "detect_rotate_refine_bb(image)"
   ]
  },
  {
   "cell_type": "code",
   "execution_count": 23,
   "id": "3da6acc0",
   "metadata": {},
   "outputs": [
    {
     "name": "stdout",
     "output_type": "stream",
     "text": [
      "../images/I25-DEFECTS IMGB.BMP\n",
      "\n",
      "TIMING INFORMATION\n",
      "\tDetect bounding box: 0.01001739501953125\n",
      "\tRotate bounding box: 0.004519224166870117\n",
      "\tRefine ROI image: 0.013886451721191406\n",
      "\n",
      "Wall time: 31.2 ms\n"
     ]
    }
   ],
   "source": [
    "%%time\n",
    "image_path = f'../images/{images_paths[18]}'\n",
    "image = cv2.imread(image_path)\n",
    "print(image_path)\n",
    "print()\n",
    "detect_rotate_refine_bb(image)"
   ]
  },
  {
   "cell_type": "code",
   "execution_count": 24,
   "id": "60aedc2a",
   "metadata": {},
   "outputs": [
    {
     "name": "stdout",
     "output_type": "stream",
     "text": [
      "../images/I25-LOW DECODABILITY IMGB.BMP\n",
      "\n",
      "TIMING INFORMATION\n",
      "\tDetect bounding box: 0.010590553283691406\n",
      "\tRotate bounding box: 0.001988649368286133\n",
      "\tRefine ROI image: 0.025434017181396484\n",
      "\n",
      "Wall time: 40.4 ms\n"
     ]
    }
   ],
   "source": [
    "%%time\n",
    "image_path = f'../images/{images_paths[19]}'\n",
    "image = cv2.imread(image_path)\n",
    "print(image_path)\n",
    "print()\n",
    "detect_rotate_refine_bb(image)"
   ]
  },
  {
   "cell_type": "code",
   "execution_count": 25,
   "id": "562e686e",
   "metadata": {},
   "outputs": [
    {
     "name": "stdout",
     "output_type": "stream",
     "text": [
      "../images/I25-MASTER GRADE IMGB.BMP\n",
      "\n",
      "TIMING INFORMATION\n",
      "\tDetect bounding box: 0.009231328964233398\n",
      "\tRotate bounding box: 0.0042493343353271484\n",
      "\tRefine ROI image: 0.013000726699829102\n",
      "\n",
      "Wall time: 29.8 ms\n"
     ]
    }
   ],
   "source": [
    "%%time\n",
    "image_path = f'../images/{images_paths[20]}'\n",
    "image = cv2.imread(image_path)\n",
    "print(image_path)\n",
    "print()\n",
    "detect_rotate_refine_bb(image)"
   ]
  },
  {
   "cell_type": "code",
   "execution_count": 26,
   "id": "77c50681",
   "metadata": {},
   "outputs": [
    {
     "name": "stdout",
     "output_type": "stream",
     "text": [
      "../images/UPC#01.BMP\n",
      "\n",
      "TIMING INFORMATION\n",
      "\tDetect bounding box: 0.013467788696289062\n",
      "\tRotate bounding box: 0.005465984344482422\n",
      "\tRefine ROI image: 0.02004265785217285\n",
      "\n",
      "Wall time: 42.9 ms\n"
     ]
    }
   ],
   "source": [
    "%%time\n",
    "image_path = f'../images/{images_paths[22]}'\n",
    "image = cv2.imread(image_path)\n",
    "print(image_path)\n",
    "print()\n",
    "detect_rotate_refine_bb(image)"
   ]
  },
  {
   "cell_type": "code",
   "execution_count": 27,
   "id": "4a16a403",
   "metadata": {},
   "outputs": [
    {
     "name": "stdout",
     "output_type": "stream",
     "text": [
      "../images/UPC#03.BMP\n",
      "\n",
      "TIMING INFORMATION\n",
      "\tDetect bounding box: 0.014252424240112305\n",
      "\tRotate bounding box: 0.004082202911376953\n",
      "\tRefine ROI image: 0.021172523498535156\n",
      "\n",
      "Wall time: 42.5 ms\n"
     ]
    }
   ],
   "source": [
    "%%time\n",
    "image_path = f'../images/{images_paths[23]}'\n",
    "image = cv2.imread(image_path)\n",
    "print(image_path)\n",
    "print()\n",
    "detect_rotate_refine_bb(image)"
   ]
  },
  {
   "cell_type": "code",
   "execution_count": 28,
   "id": "171466ae",
   "metadata": {},
   "outputs": [
    {
     "name": "stdout",
     "output_type": "stream",
     "text": [
      "../images/UPC#04.BMP\n",
      "\n",
      "TIMING INFORMATION\n",
      "\tDetect bounding box: 0.014600992202758789\n",
      "\tRotate bounding box: 0.0049703121185302734\n",
      "\tRefine ROI image: 0.020068883895874023\n",
      "\n",
      "Wall time: 44.8 ms\n"
     ]
    }
   ],
   "source": [
    "%%time\n",
    "image_path = f'../images/{images_paths[24]}'\n",
    "image = cv2.imread(image_path)\n",
    "print(image_path)\n",
    "print()\n",
    "detect_rotate_refine_bb(image)"
   ]
  },
  {
   "cell_type": "code",
   "execution_count": 29,
   "id": "ebbb1f9c",
   "metadata": {},
   "outputs": [
    {
     "name": "stdout",
     "output_type": "stream",
     "text": [
      "../images/UPC#05.BMP\n",
      "\n",
      "TIMING INFORMATION\n",
      "\tDetect bounding box: 0.015166282653808594\n",
      "\tRotate bounding box: 0.0037653446197509766\n",
      "\tRefine ROI image: 0.02099299430847168\n",
      "\n",
      "Wall time: 44.1 ms\n"
     ]
    }
   ],
   "source": [
    "%%time\n",
    "image_path = f'../images/{images_paths[25]}'\n",
    "image = cv2.imread(image_path)\n",
    "print(image_path)\n",
    "print()\n",
    "detect_rotate_refine_bb(image)"
   ]
  },
  {
   "cell_type": "code",
   "execution_count": 30,
   "id": "81c97576",
   "metadata": {},
   "outputs": [
    {
     "name": "stdout",
     "output_type": "stream",
     "text": [
      "../images/UPC#06.BMP\n",
      "\n",
      "TIMING INFORMATION\n",
      "\tDetect bounding box: 0.013735294342041016\n",
      "\tRotate bounding box: 0.004003047943115234\n",
      "\tRefine ROI image: 0.019916534423828125\n",
      "\n",
      "Wall time: 41.7 ms\n"
     ]
    }
   ],
   "source": [
    "%%time\n",
    "image_path = f'../images/{images_paths[26]}'\n",
    "image = cv2.imread(image_path)\n",
    "print(image_path)\n",
    "print()\n",
    "detect_rotate_refine_bb(image)"
   ]
  },
  {
   "cell_type": "code",
   "execution_count": 31,
   "id": "5e99aa18",
   "metadata": {},
   "outputs": [
    {
     "name": "stdout",
     "output_type": "stream",
     "text": [
      "../images/UPC#07.BMP\n",
      "\n",
      "TIMING INFORMATION\n",
      "\tDetect bounding box: 0.013228178024291992\n",
      "\tRotate bounding box: 0.005351543426513672\n",
      "\tRefine ROI image: 0.01900768280029297\n",
      "\n",
      "Wall time: 41.6 ms\n"
     ]
    }
   ],
   "source": [
    "%%time\n",
    "image_path = f'../images/{images_paths[27]}'\n",
    "image = cv2.imread(image_path)\n",
    "print(image_path)\n",
    "print()\n",
    "detect_rotate_refine_bb(image)"
   ]
  },
  {
   "cell_type": "code",
   "execution_count": 32,
   "id": "08acc9dc",
   "metadata": {},
   "outputs": [
    {
     "name": "stdout",
     "output_type": "stream",
     "text": [
      "../images/UPC#08.BMP\n",
      "\n",
      "TIMING INFORMATION\n",
      "\tDetect bounding box: 0.012186050415039062\n",
      "\tRotate bounding box: 0.005372524261474609\n",
      "\tRefine ROI image: 0.020041227340698242\n",
      "\n",
      "Wall time: 41.1 ms\n"
     ]
    }
   ],
   "source": [
    "%%time\n",
    "image_path = f'../images/{images_paths[28]}'\n",
    "image = cv2.imread(image_path)\n",
    "print(image_path)\n",
    "print()\n",
    "detect_rotate_refine_bb(image)"
   ]
  },
  {
   "cell_type": "code",
   "execution_count": 33,
   "id": "d9aa0971",
   "metadata": {},
   "outputs": [
    {
     "name": "stdout",
     "output_type": "stream",
     "text": [
      "../images/UPC#09.BMP\n",
      "\n",
      "TIMING INFORMATION\n",
      "\tDetect bounding box: 0.014128446578979492\n",
      "\tRotate bounding box: 0.004039287567138672\n",
      "\tRefine ROI image: 0.022544384002685547\n",
      "\n",
      "Wall time: 44.8 ms\n"
     ]
    }
   ],
   "source": [
    "%%time\n",
    "image_path = f'../images/{images_paths[29]}'\n",
    "image = cv2.imread(image_path)\n",
    "print(image_path)\n",
    "print()\n",
    "detect_rotate_refine_bb(image)"
   ]
  },
  {
   "cell_type": "code",
   "execution_count": 34,
   "id": "398f6df9",
   "metadata": {},
   "outputs": [
    {
     "name": "stdout",
     "output_type": "stream",
     "text": [
      "../images/UPC#10.BMP\n",
      "\n",
      "TIMING INFORMATION\n",
      "\tDetect bounding box: 0.015113592147827148\n",
      "\tRotate bounding box: 0.0050771236419677734\n",
      "\tRefine ROI image: 0.02042531967163086\n",
      "\n",
      "Wall time: 44.4 ms\n"
     ]
    }
   ],
   "source": [
    "%%time\n",
    "image_path = f'../images/{images_paths[30]}'\n",
    "image = cv2.imread(image_path)\n",
    "print(image_path)\n",
    "print()\n",
    "detect_rotate_refine_bb(image)"
   ]
  },
  {
   "cell_type": "code",
   "execution_count": 35,
   "id": "61c21c8a",
   "metadata": {},
   "outputs": [
    {
     "name": "stdout",
     "output_type": "stream",
     "text": [
      "../images/UPC#11.BMP\n",
      "\n",
      "TIMING INFORMATION\n",
      "\tDetect bounding box: 0.013543128967285156\n",
      "\tRotate bounding box: 0.005533695220947266\n",
      "\tRefine ROI image: 0.017735719680786133\n",
      "\n",
      "Wall time: 41.5 ms\n"
     ]
    }
   ],
   "source": [
    "%%time\n",
    "image_path = f'../images/{images_paths[31]}'\n",
    "image = cv2.imread(image_path)\n",
    "print(image_path)\n",
    "print()\n",
    "detect_rotate_refine_bb(image)"
   ]
  },
  {
   "cell_type": "code",
   "execution_count": 36,
   "id": "9d9ddb75",
   "metadata": {},
   "outputs": [
    {
     "name": "stdout",
     "output_type": "stream",
     "text": [
      "../images/UPC#12.BMP\n",
      "\n",
      "TIMING INFORMATION\n",
      "\tDetect bounding box: 0.013198137283325195\n",
      "\tRotate bounding box: 0.002288341522216797\n",
      "\tRefine ROI image: 0.018077373504638672\n",
      "\n",
      "Wall time: 38.2 ms\n"
     ]
    }
   ],
   "source": [
    "%%time\n",
    "image_path = f'../images/{images_paths[32]}'\n",
    "image = cv2.imread(image_path)\n",
    "print(image_path)\n",
    "print()\n",
    "detect_rotate_refine_bb(image)"
   ]
  },
  {
   "cell_type": "code",
   "execution_count": 37,
   "id": "ef579e3b",
   "metadata": {},
   "outputs": [
    {
     "name": "stdout",
     "output_type": "stream",
     "text": [
      "../images/UPC#13.BMP\n",
      "\n",
      "TIMING INFORMATION\n",
      "\tDetect bounding box: 0.012949466705322266\n",
      "\tRotate bounding box: 0.005373239517211914\n",
      "\tRefine ROI image: 0.01999211311340332\n",
      "\n",
      "Wall time: 42.4 ms\n"
     ]
    }
   ],
   "source": [
    "%%time\n",
    "image_path = f'../images/{images_paths[33]}'\n",
    "image = cv2.imread(image_path)\n",
    "print(image_path)\n",
    "print()\n",
    "detect_rotate_refine_bb(image)"
   ]
  },
  {
   "cell_type": "code",
   "execution_count": 38,
   "id": "86cc8dbf",
   "metadata": {},
   "outputs": [
    {
     "name": "stdout",
     "output_type": "stream",
     "text": [
      "../images/UPC#14.BMP\n",
      "\n",
      "TIMING INFORMATION\n",
      "\tDetect bounding box: 0.013163328170776367\n",
      "\tRotate bounding box: 0.004999876022338867\n",
      "\tRefine ROI image: 0.01899099349975586\n",
      "\n",
      "Wall time: 41.2 ms\n"
     ]
    }
   ],
   "source": [
    "%%time\n",
    "image_path = f'../images/{images_paths[34]}'\n",
    "image = cv2.imread(image_path)\n",
    "print(image_path)\n",
    "print()\n",
    "detect_rotate_refine_bb(image)"
   ]
  },
  {
   "cell_type": "code",
   "execution_count": 39,
   "id": "4edaf3a5",
   "metadata": {},
   "outputs": [
    {
     "name": "stdout",
     "output_type": "stream",
     "text": [
      "../images/UPC#15.BMP\n",
      "\n",
      "TIMING INFORMATION\n",
      "\tDetect bounding box: 0.015367507934570312\n",
      "\tRotate bounding box: 0.004999637603759766\n",
      "\tRefine ROI image: 0.02135610580444336\n",
      "\n",
      "Wall time: 46.1 ms\n"
     ]
    }
   ],
   "source": [
    "%%time\n",
    "image_path = f'../images/{images_paths[35]}'\n",
    "image = cv2.imread(image_path)\n",
    "print(image_path)\n",
    "print()\n",
    "detect_rotate_refine_bb(image)"
   ]
  },
  {
   "cell_type": "code",
   "execution_count": 40,
   "id": "9e7a5aa8",
   "metadata": {},
   "outputs": [
    {
     "name": "stdout",
     "output_type": "stream",
     "text": [
      "../images/UPC#16.BMP\n",
      "\n",
      "TIMING INFORMATION\n",
      "\tDetect bounding box: 0.013706445693969727\n",
      "\tRotate bounding box: 0.0027785301208496094\n",
      "\tRefine ROI image: 0.019513368606567383\n",
      "\n",
      "Wall time: 40 ms\n"
     ]
    }
   ],
   "source": [
    "%%time\n",
    "image_path = f'../images/{images_paths[36]}'\n",
    "image = cv2.imread(image_path)\n",
    "print(image_path)\n",
    "print()\n",
    "detect_rotate_refine_bb(image)"
   ]
  },
  {
   "cell_type": "code",
   "execution_count": 41,
   "id": "e71e36ca",
   "metadata": {},
   "outputs": [
    {
     "name": "stdout",
     "output_type": "stream",
     "text": [
      "../images/UPC#17.BMP\n",
      "\n",
      "TIMING INFORMATION\n",
      "\tDetect bounding box: 0.012987375259399414\n",
      "\tRotate bounding box: 0.004165172576904297\n",
      "\tRefine ROI image: 0.020043134689331055\n",
      "\n",
      "Wall time: 41.2 ms\n"
     ]
    }
   ],
   "source": [
    "%%time\n",
    "image_path = f'../images/{images_paths[37]}'\n",
    "image = cv2.imread(image_path)\n",
    "print(image_path)\n",
    "print()\n",
    "detect_rotate_refine_bb(image)"
   ]
  },
  {
   "cell_type": "code",
   "execution_count": 42,
   "id": "35c1f825",
   "metadata": {},
   "outputs": [
    {
     "name": "stdout",
     "output_type": "stream",
     "text": [
      "../images/UPC#18.BMP\n",
      "\n",
      "TIMING INFORMATION\n",
      "\tDetect bounding box: 0.015307903289794922\n",
      "\tRotate bounding box: 0.001991748809814453\n",
      "\tRefine ROI image: 0.020112037658691406\n",
      "\n",
      "Wall time: 41.4 ms\n"
     ]
    }
   ],
   "source": [
    "%%time\n",
    "image_path = f'../images/{images_paths[38]}'\n",
    "image = cv2.imread(image_path)\n",
    "print(image_path)\n",
    "print()\n",
    "detect_rotate_refine_bb(image)"
   ]
  },
  {
   "cell_type": "code",
   "execution_count": 43,
   "id": "075e0957",
   "metadata": {},
   "outputs": [
    {
     "name": "stdout",
     "output_type": "stream",
     "text": [
      "../images/UPC#19.BMP\n",
      "\n",
      "TIMING INFORMATION\n",
      "\tDetect bounding box: 0.012448787689208984\n",
      "\tRotate bounding box: 0.004821062088012695\n",
      "\tRefine ROI image: 0.019394397735595703\n",
      "\n",
      "Wall time: 41.6 ms\n"
     ]
    }
   ],
   "source": [
    "%%time\n",
    "image_path = f'../images/{images_paths[39]}'\n",
    "image = cv2.imread(image_path)\n",
    "print(image_path)\n",
    "print()\n",
    "detect_rotate_refine_bb(image)"
   ]
  },
  {
   "cell_type": "code",
   "execution_count": 44,
   "id": "42a28a60",
   "metadata": {},
   "outputs": [
    {
     "name": "stdout",
     "output_type": "stream",
     "text": [
      "../images/UPC#20.BMP\n",
      "\n",
      "TIMING INFORMATION\n",
      "\tDetect bounding box: 0.014589548110961914\n",
      "\tRotate bounding box: 0.004735469818115234\n",
      "\tRefine ROI image: 0.01999831199645996\n",
      "\n",
      "Wall time: 42.3 ms\n"
     ]
    }
   ],
   "source": [
    "%%time\n",
    "image_path = f'../images/{images_paths[40]}'\n",
    "image = cv2.imread(image_path)\n",
    "print(image_path)\n",
    "print()\n",
    "detect_rotate_refine_bb(image)"
   ]
  },
  {
   "cell_type": "code",
   "execution_count": 45,
   "id": "f75ed5d0",
   "metadata": {},
   "outputs": [
    {
     "name": "stdout",
     "output_type": "stream",
     "text": [
      "../images/UPC#21.BMP\n",
      "\n",
      "TIMING INFORMATION\n",
      "\tDetect bounding box: 0.013049602508544922\n",
      "\tRotate bounding box: 0.00489044189453125\n",
      "\tRefine ROI image: 0.019225358963012695\n",
      "\n",
      "Wall time: 41.2 ms\n"
     ]
    }
   ],
   "source": [
    "%%time\n",
    "image_path = f'../images/{images_paths[41]}'\n",
    "image = cv2.imread(image_path)\n",
    "print(image_path)\n",
    "print()\n",
    "detect_rotate_refine_bb(image)"
   ]
  },
  {
   "cell_type": "code",
   "execution_count": 46,
   "id": "33ff56e5",
   "metadata": {},
   "outputs": [
    {
     "name": "stdout",
     "output_type": "stream",
     "text": [
      "../images/UPC#22.BMP\n",
      "\n",
      "TIMING INFORMATION\n",
      "\tDetect bounding box: 0.011920452117919922\n",
      "\tRotate bounding box: 0.0027222633361816406\n",
      "\tRefine ROI image: 0.020257234573364258\n",
      "\n",
      "Wall time: 38.9 ms\n"
     ]
    }
   ],
   "source": [
    "%%time\n",
    "image_path = f'../images/{images_paths[42]}'\n",
    "image = cv2.imread(image_path)\n",
    "print(image_path)\n",
    "print()\n",
    "detect_rotate_refine_bb(image)"
   ]
  },
  {
   "cell_type": "code",
   "execution_count": 47,
   "id": "fa8735c4",
   "metadata": {},
   "outputs": [
    {
     "name": "stdout",
     "output_type": "stream",
     "text": [
      "../images/UPC#23.BMP\n",
      "\n",
      "TIMING INFORMATION\n",
      "\tDetect bounding box: 0.013745784759521484\n",
      "\tRotate bounding box: 0.001987934112548828\n",
      "\tRefine ROI image: 0.02060079574584961\n",
      "\n",
      "Wall time: 40.2 ms\n"
     ]
    }
   ],
   "source": [
    "%%time\n",
    "image_path = f'../images/{images_paths[43]}'\n",
    "image = cv2.imread(image_path)\n",
    "print(image_path)\n",
    "print()\n",
    "detect_rotate_refine_bb(image)"
   ]
  },
  {
   "cell_type": "code",
   "execution_count": 48,
   "id": "641d4d12",
   "metadata": {},
   "outputs": [
    {
     "name": "stdout",
     "output_type": "stream",
     "text": [
      "../images/UPC#24.BMP\n",
      "\n",
      "TIMING INFORMATION\n",
      "\tDetect bounding box: 0.012000799179077148\n",
      "\tRotate bounding box: 0.004444122314453125\n",
      "\tRefine ROI image: 0.021366357803344727\n",
      "\n",
      "Wall time: 40.8 ms\n"
     ]
    }
   ],
   "source": [
    "%%time\n",
    "image_path = f'../images/{images_paths[44]}'\n",
    "image = cv2.imread(image_path)\n",
    "print(image_path)\n",
    "print()\n",
    "detect_rotate_refine_bb(image)"
   ]
  },
  {
   "cell_type": "code",
   "execution_count": 49,
   "id": "ef1af014",
   "metadata": {},
   "outputs": [
    {
     "name": "stdout",
     "output_type": "stream",
     "text": [
      "../images/UPC#25.BMP\n",
      "\n",
      "TIMING INFORMATION\n",
      "\tDetect bounding box: 0.013351678848266602\n",
      "\tRotate bounding box: 0.004505157470703125\n",
      "\tRefine ROI image: 0.02233099937438965\n",
      "\n",
      "Wall time: 43.2 ms\n"
     ]
    }
   ],
   "source": [
    "%%time\n",
    "image_path = f'../images/{images_paths[45]}'\n",
    "image = cv2.imread(image_path)\n",
    "print(image_path)\n",
    "print()\n",
    "detect_rotate_refine_bb(image)"
   ]
  },
  {
   "cell_type": "code",
   "execution_count": 50,
   "id": "630c3207",
   "metadata": {},
   "outputs": [
    {
     "name": "stdout",
     "output_type": "stream",
     "text": [
      "../images/UPC#26.BMP\n",
      "\n",
      "TIMING INFORMATION\n",
      "\tDetect bounding box: 0.013055562973022461\n",
      "\tRotate bounding box: 0.004426002502441406\n",
      "\tRefine ROI image: 0.020366191864013672\n",
      "\n",
      "Wall time: 42.1 ms\n"
     ]
    }
   ],
   "source": [
    "%%time\n",
    "image_path = f'../images/{images_paths[46]}'\n",
    "image = cv2.imread(image_path)\n",
    "print(image_path)\n",
    "print()\n",
    "detect_rotate_refine_bb(image)"
   ]
  },
  {
   "cell_type": "code",
   "execution_count": 51,
   "id": "b198bf72",
   "metadata": {},
   "outputs": [
    {
     "name": "stdout",
     "output_type": "stream",
     "text": [
      "../images/UPC#27.BMP\n",
      "\n",
      "TIMING INFORMATION\n",
      "\tDetect bounding box: 0.01222085952758789\n",
      "\tRotate bounding box: 0.005000114440917969\n",
      "\tRefine ROI image: 0.020473957061767578\n",
      "\n",
      "Wall time: 41.7 ms\n"
     ]
    }
   ],
   "source": [
    "%%time\n",
    "image_path = f'../images/{images_paths[47]}'\n",
    "image = cv2.imread(image_path)\n",
    "print(image_path)\n",
    "print()\n",
    "detect_rotate_refine_bb(image)"
   ]
  },
  {
   "cell_type": "code",
   "execution_count": 52,
   "id": "804c4c2d",
   "metadata": {},
   "outputs": [
    {
     "name": "stdout",
     "output_type": "stream",
     "text": [
      "../images/UPC#28.BMP\n",
      "\n",
      "TIMING INFORMATION\n",
      "\tDetect bounding box: 0.013250112533569336\n",
      "\tRotate bounding box: 0.005308866500854492\n",
      "\tRefine ROI image: 0.021331071853637695\n",
      "\n",
      "Wall time: 43.9 ms\n"
     ]
    }
   ],
   "source": [
    "%%time\n",
    "image_path = f'../images/{images_paths[48]}'\n",
    "image = cv2.imread(image_path)\n",
    "print(image_path)\n",
    "print()\n",
    "detect_rotate_refine_bb(image)"
   ]
  },
  {
   "cell_type": "code",
   "execution_count": 53,
   "id": "386b07a3",
   "metadata": {},
   "outputs": [
    {
     "name": "stdout",
     "output_type": "stream",
     "text": [
      "../images/UPC#29.BMP\n",
      "\n",
      "TIMING INFORMATION\n",
      "\tDetect bounding box: 0.012157678604125977\n",
      "\tRotate bounding box: 0.005032777786254883\n",
      "\tRefine ROI image: 0.018709659576416016\n",
      "\n",
      "Wall time: 39.9 ms\n"
     ]
    }
   ],
   "source": [
    "%%time\n",
    "image_path = f'../images/{images_paths[49]}'\n",
    "image = cv2.imread(image_path)\n",
    "print(image_path)\n",
    "print()\n",
    "detect_rotate_refine_bb(image)"
   ]
  },
  {
   "cell_type": "code",
   "execution_count": 54,
   "id": "7b021658",
   "metadata": {},
   "outputs": [
    {
     "name": "stdout",
     "output_type": "stream",
     "text": [
      "../images/UPC#30.BMP\n",
      "\n",
      "TIMING INFORMATION\n",
      "\tDetect bounding box: 0.014383077621459961\n",
      "\tRotate bounding box: 0.004956722259521484\n",
      "\tRefine ROI image: 0.019070863723754883\n",
      "\n",
      "Wall time: 43.2 ms\n"
     ]
    }
   ],
   "source": [
    "%%time\n",
    "image_path = f'../images/{images_paths[50]}'\n",
    "image = cv2.imread(image_path)\n",
    "print(image_path)\n",
    "print()\n",
    "detect_rotate_refine_bb(image)"
   ]
  },
  {
   "cell_type": "code",
   "execution_count": 55,
   "id": "e60d4558",
   "metadata": {},
   "outputs": [
    {
     "name": "stdout",
     "output_type": "stream",
     "text": [
      "../images/UPC#31.BMP\n",
      "\n",
      "TIMING INFORMATION\n",
      "\tDetect bounding box: 0.013915300369262695\n",
      "\tRotate bounding box: 0.004071474075317383\n",
      "\tRefine ROI image: 0.02092909812927246\n",
      "\n",
      "Wall time: 41.9 ms\n"
     ]
    }
   ],
   "source": [
    "%%time\n",
    "image_path = f'../images/{images_paths[51]}'\n",
    "image = cv2.imread(image_path)\n",
    "print(image_path)\n",
    "print()\n",
    "detect_rotate_refine_bb(image)"
   ]
  },
  {
   "cell_type": "code",
   "execution_count": 56,
   "id": "0bed81eb",
   "metadata": {},
   "outputs": [
    {
     "name": "stdout",
     "output_type": "stream",
     "text": [
      "../images/UPC#32.BMP\n",
      "\n",
      "TIMING INFORMATION\n",
      "\tDetect bounding box: 0.012714862823486328\n",
      "\tRotate bounding box: 0.005152463912963867\n",
      "\tRefine ROI image: 0.020033597946166992\n",
      "\n",
      "Wall time: 42 ms\n"
     ]
    }
   ],
   "source": [
    "%%time\n",
    "image_path = f'../images/{images_paths[52]}'\n",
    "image = cv2.imread(image_path)\n",
    "print(image_path)\n",
    "print()\n",
    "detect_rotate_refine_bb(image)"
   ]
  }
 ],
 "metadata": {
  "kernelspec": {
   "display_name": "Python 3",
   "language": "python",
   "name": "python3"
  },
  "language_info": {
   "codemirror_mode": {
    "name": "ipython",
    "version": 3
   },
   "file_extension": ".py",
   "mimetype": "text/x-python",
   "name": "python",
   "nbconvert_exporter": "python",
   "pygments_lexer": "ipython3",
   "version": "3.8.8"
  }
 },
 "nbformat": 4,
 "nbformat_minor": 5
}
