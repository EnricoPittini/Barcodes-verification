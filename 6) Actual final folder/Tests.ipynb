{
 "cells": [
  {
   "cell_type": "code",
   "execution_count": 1,
   "id": "eaf8c241",
   "metadata": {},
   "outputs": [],
   "source": [
    "from verify_barcode import verify_barcode"
   ]
  },
  {
   "cell_type": "code",
   "execution_count": 2,
   "id": "f1098d0c",
   "metadata": {},
   "outputs": [],
   "source": [
    "from os import listdir\n",
    "from os.path import isfile, join\n",
    "images_paths = [f for f in listdir('../images') if isfile(join('../images', f))]"
   ]
  },
  {
   "cell_type": "code",
   "execution_count": 3,
   "id": "1841c0dd",
   "metadata": {},
   "outputs": [
    {
     "name": "stdout",
     "output_type": "stream",
     "text": [
      "C128_4.4LOW\n",
      "./out\\output C128_4.4LOW.xlsx\n"
     ]
    }
   ],
   "source": [
    "image_path = f'../images/{images_paths[0]}'\n",
    "detection_dict, rotation_dict, refinement_dict, overall_quality_parameters_dict = verify_barcode(image_path, \n",
    "                                                                                                 create_output_file=True)"
   ]
  },
  {
   "cell_type": "code",
   "execution_count": 6,
   "id": "73668d6c",
   "metadata": {},
   "outputs": [
    {
     "data": {
      "text/plain": [
       "891"
      ]
     },
     "execution_count": 6,
     "metadata": {},
     "output_type": "execute_result"
    }
   ],
   "source": [
    "detection_dict['bb_width']"
   ]
  },
  {
   "cell_type": "code",
   "execution_count": 7,
   "id": "f931b174",
   "metadata": {},
   "outputs": [
    {
     "data": {
      "text/plain": [
       "16"
      ]
     },
     "execution_count": 7,
     "metadata": {},
     "output_type": "execute_result"
    }
   ],
   "source": [
    "refinement_dict['barcode_structure_dict']['first_bar_x']"
   ]
  },
  {
   "cell_type": "code",
   "execution_count": 8,
   "id": "40540385",
   "metadata": {},
   "outputs": [
    {
     "data": {
      "text/plain": [
       "872"
      ]
     },
     "execution_count": 8,
     "metadata": {},
     "output_type": "execute_result"
    }
   ],
   "source": [
    "refinement_dict['barcode_structure_dict']['last_bar_x']"
   ]
  }
 ],
 "metadata": {
  "kernelspec": {
   "display_name": "Python 3",
   "language": "python",
   "name": "python3"
  },
  "language_info": {
   "codemirror_mode": {
    "name": "ipython",
    "version": 3
   },
   "file_extension": ".py",
   "mimetype": "text/x-python",
   "name": "python",
   "nbconvert_exporter": "python",
   "pygments_lexer": "ipython3",
   "version": "3.8.8"
  }
 },
 "nbformat": 4,
 "nbformat_minor": 5
}
