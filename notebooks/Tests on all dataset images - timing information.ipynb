{
 "cells": [
  {
   "cell_type": "markdown",
   "id": "52777408",
   "metadata": {},
   "source": [
    "For each dataset image, the `verify_barcode` function is tested, by performing all the steps and printing the recquired solving time."
   ]
  },
  {
   "cell_type": "markdown",
   "id": "195ce209",
   "metadata": {},
   "source": [
    "### Import"
   ]
  },
  {
   "cell_type": "code",
   "execution_count": 4,
   "id": "0af156fc",
   "metadata": {},
   "outputs": [],
   "source": [
    "# Importing the python module 'src/verify_barcode.py' (for Windows)\n",
    "\n",
    "# Absolute path to the python file 'verify_barcode' inside the 'src' folder (in Windows)\n",
    "import pathlib\n",
    "file_abs_path = '\\\\'.join(str(pathlib.Path().resolve()).split('\\\\')[:-1]) + '\\\\src'\n",
    "\n",
    "import sys\n",
    "sys.path.insert(1, file_abs_path)\n",
    "\n",
    "from verify_barcode import verify_barcode"
   ]
  },
  {
   "cell_type": "markdown",
   "id": "a0e67a29",
   "metadata": {},
   "source": [
    "### List with all the dataset images"
   ]
  },
  {
   "cell_type": "code",
   "execution_count": 5,
   "id": "620e59c1",
   "metadata": {},
   "outputs": [
    {
     "data": {
      "text/plain": [
       "'TestChart.xls'"
      ]
     },
     "execution_count": 5,
     "metadata": {},
     "output_type": "execute_result"
    }
   ],
   "source": [
    "from os import listdir\n",
    "from os.path import isfile, join\n",
    "images_paths = [f for f in listdir('../dataset') if isfile(join('../dataset', f))]\n",
    "images_paths.pop(21)  # Removing the excel file"
   ]
  },
  {
   "cell_type": "markdown",
   "id": "47541701",
   "metadata": {},
   "source": [
    "### Tests"
   ]
  },
  {
   "cell_type": "code",
   "execution_count": 6,
   "id": "bbe215cb",
   "metadata": {},
   "outputs": [
    {
     "name": "stdout",
     "output_type": "stream",
     "text": [
      "../dataset/C128_4.4LOW.BMP\n",
      "TIMING INFORMATION (milliseconds)\n",
      "\tDetect bounding box: 0.03607320785522461\n",
      "\tRotate bounding box: 0.014002799987792969\n",
      "\tRefine ROI image: 0.08302879333496094\n",
      "\tCompute quality parameters: 0.030072927474975586\n",
      "\n"
     ]
    }
   ],
   "source": [
    "image_path = f'../dataset/{images_paths[0]}'\n",
    "print(image_path)\n",
    "verify_barcode(image_path, verbose_timing=True);"
   ]
  },
  {
   "cell_type": "code",
   "execution_count": 7,
   "id": "582a8ac7",
   "metadata": {},
   "outputs": [
    {
     "name": "stdout",
     "output_type": "stream",
     "text": [
      "../dataset/C128_4.4UP.BMP\n",
      "TIMING INFORMATION (milliseconds)\n",
      "\tDetect bounding box: 0.03917884826660156\n",
      "\tRotate bounding box: 0.010998964309692383\n",
      "\tRefine ROI image: 0.08215928077697754\n",
      "\tCompute quality parameters: 0.04990792274475098\n",
      "\n"
     ]
    }
   ],
   "source": [
    "image_path = f'../dataset/{images_paths[1]}'\n",
    "print(image_path)\n",
    "verify_barcode(image_path, verbose_timing=True);"
   ]
  },
  {
   "cell_type": "code",
   "execution_count": 8,
   "id": "10071349",
   "metadata": {},
   "outputs": [
    {
     "name": "stdout",
     "output_type": "stream",
     "text": [
      "../dataset/C128_7.5LOW.BMP\n",
      "TIMING INFORMATION (milliseconds)\n",
      "\tDetect bounding box: 0.0363917350769043\n",
      "\tRotate bounding box: 0.014001131057739258\n",
      "\tRefine ROI image: 0.06299972534179688\n",
      "\tCompute quality parameters: 0.03500008583068848\n",
      "\n"
     ]
    }
   ],
   "source": [
    "image_path = f'../dataset/{images_paths[2]}'\n",
    "print(image_path)\n",
    "verify_barcode(image_path, verbose_timing=True);"
   ]
  },
  {
   "cell_type": "code",
   "execution_count": 9,
   "id": "d2858452",
   "metadata": {},
   "outputs": [
    {
     "name": "stdout",
     "output_type": "stream",
     "text": [
      "../dataset/C128_7.5UP.BMP\n",
      "TIMING INFORMATION (milliseconds)\n",
      "\tDetect bounding box: 0.024172306060791016\n",
      "\tRotate bounding box: 0.005999326705932617\n",
      "\tRefine ROI image: 0.037999629974365234\n",
      "\tCompute quality parameters: 0.02449965476989746\n",
      "\n"
     ]
    }
   ],
   "source": [
    "image_path = f'../dataset/{images_paths[3]}'\n",
    "print(image_path)\n",
    "verify_barcode(image_path, verbose_timing=True);"
   ]
  },
  {
   "cell_type": "code",
   "execution_count": 10,
   "id": "3cadd057",
   "metadata": {},
   "outputs": [
    {
     "name": "stdout",
     "output_type": "stream",
     "text": [
      "../dataset/C39_4.4LOW.BMP\n",
      "TIMING INFORMATION (milliseconds)\n",
      "\tDetect bounding box: 0.019845962524414062\n",
      "\tRotate bounding box: 0.00592494010925293\n",
      "\tRefine ROI image: 0.03899574279785156\n",
      "\tCompute quality parameters: 0.025080442428588867\n",
      "\n"
     ]
    }
   ],
   "source": [
    "image_path = f'../dataset/{images_paths[4]}'\n",
    "print(image_path)\n",
    "verify_barcode(image_path, verbose_timing=True);"
   ]
  },
  {
   "cell_type": "code",
   "execution_count": 11,
   "id": "78937ebc",
   "metadata": {},
   "outputs": [
    {
     "name": "stdout",
     "output_type": "stream",
     "text": [
      "../dataset/C39_4.4UP.BMP\n",
      "TIMING INFORMATION (milliseconds)\n",
      "\tDetect bounding box: 0.023129701614379883\n",
      "\tRotate bounding box: 0.004075288772583008\n",
      "\tRefine ROI image: 0.07491707801818848\n",
      "\tCompute quality parameters: 0.0504152774810791\n",
      "\n"
     ]
    }
   ],
   "source": [
    "image_path = f'../dataset/{images_paths[5]}'\n",
    "print(image_path)\n",
    "verify_barcode(image_path, verbose_timing=True);"
   ]
  },
  {
   "cell_type": "code",
   "execution_count": 12,
   "id": "a1865921",
   "metadata": {},
   "outputs": [
    {
     "name": "stdout",
     "output_type": "stream",
     "text": [
      "../dataset/C39_7.5LOW.BMP\n",
      "TIMING INFORMATION (milliseconds)\n",
      "\tDetect bounding box: 0.0376744270324707\n",
      "\tRotate bounding box: 0.010500907897949219\n",
      "\tRefine ROI image: 0.07834982872009277\n",
      "\tCompute quality parameters: 0.02700066566467285\n",
      "\n"
     ]
    }
   ],
   "source": [
    "image_path = f'../dataset/{images_paths[6]}'\n",
    "print(image_path)\n",
    "verify_barcode(image_path, verbose_timing=True);"
   ]
  },
  {
   "cell_type": "code",
   "execution_count": 13,
   "id": "f9a1edf3",
   "metadata": {},
   "outputs": [
    {
     "name": "stdout",
     "output_type": "stream",
     "text": [
      "../dataset/C39_7.5UP.BMP\n",
      "TIMING INFORMATION (milliseconds)\n",
      "\tDetect bounding box: 0.026999950408935547\n",
      "\tRotate bounding box: 0.005086660385131836\n",
      "\tRefine ROI image: 0.06291437149047852\n",
      "\tCompute quality parameters: 0.03407478332519531\n",
      "\n"
     ]
    }
   ],
   "source": [
    "image_path = f'../dataset/{images_paths[7]}'\n",
    "print(image_path)\n",
    "verify_barcode(image_path, verbose_timing=True);"
   ]
  },
  {
   "cell_type": "code",
   "execution_count": 14,
   "id": "38dd8f3c",
   "metadata": {},
   "outputs": [
    {
     "name": "stdout",
     "output_type": "stream",
     "text": [
      "../dataset/EAN-UPC-CONTRAST IMGB.BMP\n",
      "TIMING INFORMATION (milliseconds)\n",
      "\tDetect bounding box: 0.021937847137451172\n",
      "\tRotate bounding box: 0.00946354866027832\n",
      "\tRefine ROI image: 0.047518014907836914\n",
      "\tCompute quality parameters: 0.04404568672180176\n",
      "\n"
     ]
    }
   ],
   "source": [
    "image_path = f'../dataset/{images_paths[8]}'\n",
    "print(image_path)\n",
    "verify_barcode(image_path, verbose_timing=True);"
   ]
  },
  {
   "cell_type": "code",
   "execution_count": 15,
   "id": "17f33174",
   "metadata": {},
   "outputs": [
    {
     "name": "stdout",
     "output_type": "stream",
     "text": [
      "../dataset/EAN-UPC-DECODABILITY IMGB.BMP\n",
      "TIMING INFORMATION (milliseconds)\n",
      "\tDetect bounding box: 0.032057762145996094\n",
      "\tRotate bounding box: 0.016000032424926758\n",
      "\tRefine ROI image: 0.046999454498291016\n",
      "\tCompute quality parameters: 0.018007993698120117\n",
      "\n"
     ]
    }
   ],
   "source": [
    "image_path = f'../dataset/{images_paths[9]}'\n",
    "print(image_path)\n",
    "verify_barcode(image_path, verbose_timing=True);"
   ]
  },
  {
   "cell_type": "code",
   "execution_count": 16,
   "id": "ce006b38",
   "metadata": {},
   "outputs": [
    {
     "name": "stdout",
     "output_type": "stream",
     "text": [
      "../dataset/EAN-UPC-DEFECTS IMGB.BMP\n",
      "TIMING INFORMATION (milliseconds)\n",
      "\tDetect bounding box: 0.017818450927734375\n",
      "\tRotate bounding box: 0.013607263565063477\n",
      "\tRefine ROI image: 0.031999826431274414\n",
      "\tCompute quality parameters: 0.018997907638549805\n",
      "\n"
     ]
    }
   ],
   "source": [
    "image_path = f'../dataset/{images_paths[10]}'\n",
    "print(image_path)\n",
    "verify_barcode(image_path, verbose_timing=True);"
   ]
  },
  {
   "cell_type": "code",
   "execution_count": 17,
   "id": "91f92e78",
   "metadata": {},
   "outputs": [
    {
     "name": "stdout",
     "output_type": "stream",
     "text": [
      "../dataset/EAN-UPC-EAN-13 MASTER GRADE IMGB.BMP\n",
      "TIMING INFORMATION (milliseconds)\n",
      "\tDetect bounding box: 0.01862359046936035\n",
      "\tRotate bounding box: 0.008000612258911133\n",
      "\tRefine ROI image: 0.030997514724731445\n",
      "\tCompute quality parameters: 0.019001483917236328\n",
      "\n"
     ]
    }
   ],
   "source": [
    "image_path = f'../dataset/{images_paths[11]}'\n",
    "print(image_path)\n",
    "verify_barcode(image_path, verbose_timing=True);"
   ]
  },
  {
   "cell_type": "code",
   "execution_count": 18,
   "id": "a1bf0b73",
   "metadata": {},
   "outputs": [
    {
     "name": "stdout",
     "output_type": "stream",
     "text": [
      "../dataset/EAN-UPC-UPC-A MASTER GRADE IMGB.BMP\n",
      "TIMING INFORMATION (milliseconds)\n",
      "\tDetect bounding box: 0.021999835968017578\n",
      "\tRotate bounding box: 0.011997222900390625\n",
      "\tRefine ROI image: 0.03799915313720703\n",
      "\tCompute quality parameters: 0.027003765106201172\n",
      "\n"
     ]
    }
   ],
   "source": [
    "image_path = f'../dataset/{images_paths[12]}'\n",
    "print(image_path)\n",
    "verify_barcode(image_path, verbose_timing=True);"
   ]
  },
  {
   "cell_type": "code",
   "execution_count": 19,
   "id": "62df2703",
   "metadata": {},
   "outputs": [
    {
     "name": "stdout",
     "output_type": "stream",
     "text": [
      "../dataset/EAN128-CONTRAST IMGB.BMP\n",
      "TIMING INFORMATION (milliseconds)\n",
      "\tDetect bounding box: 0.023733139038085938\n",
      "\tRotate bounding box: 0.011852264404296875\n",
      "\tRefine ROI image: 0.03999924659729004\n",
      "\tCompute quality parameters: 0.03251051902770996\n",
      "\n"
     ]
    }
   ],
   "source": [
    "image_path = f'../dataset/{images_paths[13]}'\n",
    "print(image_path)\n",
    "verify_barcode(image_path, verbose_timing=True);"
   ]
  },
  {
   "cell_type": "code",
   "execution_count": 20,
   "id": "82e52b7c",
   "metadata": {},
   "outputs": [
    {
     "name": "stdout",
     "output_type": "stream",
     "text": [
      "../dataset/EAN128-DEFECTS IMGB.BMP\n",
      "TIMING INFORMATION (milliseconds)\n",
      "\tDetect bounding box: 0.017496585845947266\n",
      "\tRotate bounding box: 0.002499103546142578\n",
      "\tRefine ROI image: 0.01969122886657715\n",
      "\tCompute quality parameters: 0.03884148597717285\n",
      "\n"
     ]
    }
   ],
   "source": [
    "image_path = f'../dataset/{images_paths[14]}'\n",
    "print(image_path)\n",
    "verify_barcode(image_path, verbose_timing=True);"
   ]
  },
  {
   "cell_type": "code",
   "execution_count": 21,
   "id": "dc291f56",
   "metadata": {},
   "outputs": [
    {
     "name": "stdout",
     "output_type": "stream",
     "text": [
      "../dataset/EAN128-LOW DECODABILITY IMGB.BMP\n",
      "TIMING INFORMATION (milliseconds)\n",
      "\tDetect bounding box: 0.017836332321166992\n",
      "\tRotate bounding box: 0.010495424270629883\n",
      "\tRefine ROI image: 0.05949902534484863\n",
      "\tCompute quality parameters: 0.030499696731567383\n",
      "\n"
     ]
    }
   ],
   "source": [
    "image_path = f'../dataset/{images_paths[15]}'\n",
    "print(image_path)\n",
    "verify_barcode(image_path, verbose_timing=True);"
   ]
  },
  {
   "cell_type": "code",
   "execution_count": 22,
   "id": "9f02ca44",
   "metadata": {},
   "outputs": [
    {
     "name": "stdout",
     "output_type": "stream",
     "text": [
      "../dataset/EAN128-MASTER IMGB.BMP\n",
      "TIMING INFORMATION (milliseconds)\n",
      "\tDetect bounding box: 0.013098716735839844\n",
      "\tRotate bounding box: 0.0025014877319335938\n",
      "\tRefine ROI image: 0.016498327255249023\n",
      "\tCompute quality parameters: 0.02700066566467285\n",
      "\n"
     ]
    }
   ],
   "source": [
    "image_path = f'../dataset/{images_paths[16]}'\n",
    "print(image_path)\n",
    "verify_barcode(image_path, verbose_timing=True);"
   ]
  },
  {
   "cell_type": "code",
   "execution_count": 23,
   "id": "5ca5a990",
   "metadata": {},
   "outputs": [
    {
     "name": "stdout",
     "output_type": "stream",
     "text": [
      "../dataset/I25-CONTRAST IMGB.BMP\n",
      "TIMING INFORMATION (milliseconds)\n",
      "\tDetect bounding box: 0.012500524520874023\n",
      "\tRotate bounding box: 0.00549769401550293\n",
      "\tRefine ROI image: 0.01749587059020996\n",
      "\tCompute quality parameters: 0.02342081069946289\n",
      "\n"
     ]
    }
   ],
   "source": [
    "image_path = f'../dataset/{images_paths[17]}'\n",
    "print(image_path)\n",
    "verify_barcode(image_path, verbose_timing=True);"
   ]
  },
  {
   "cell_type": "code",
   "execution_count": 24,
   "id": "60e15942",
   "metadata": {},
   "outputs": [
    {
     "name": "stdout",
     "output_type": "stream",
     "text": [
      "../dataset/I25-DEFECTS IMGB.BMP\n",
      "TIMING INFORMATION (milliseconds)\n",
      "\tDetect bounding box: 0.012999773025512695\n",
      "\tRotate bounding box: 0.004999399185180664\n",
      "\tRefine ROI image: 0.0279996395111084\n",
      "\tCompute quality parameters: 0.0260009765625\n",
      "\n"
     ]
    }
   ],
   "source": [
    "image_path = f'../dataset/{images_paths[18]}'\n",
    "print(image_path)\n",
    "verify_barcode(image_path, verbose_timing=True);"
   ]
  },
  {
   "cell_type": "code",
   "execution_count": 25,
   "id": "59891de4",
   "metadata": {},
   "outputs": [
    {
     "name": "stdout",
     "output_type": "stream",
     "text": [
      "../dataset/I25-LOW DECODABILITY IMGB.BMP\n",
      "TIMING INFORMATION (milliseconds)\n",
      "\tDetect bounding box: 0.013892412185668945\n",
      "\tRotate bounding box: 0.0030035972595214844\n",
      "\tRefine ROI image: 0.03799700736999512\n",
      "\tCompute quality parameters: 0.02507472038269043\n",
      "\n"
     ]
    }
   ],
   "source": [
    "image_path = f'../dataset/{images_paths[19]}'\n",
    "print(image_path)\n",
    "verify_barcode(image_path, verbose_timing=True);"
   ]
  },
  {
   "cell_type": "code",
   "execution_count": 26,
   "id": "53e72345",
   "metadata": {},
   "outputs": [
    {
     "name": "stdout",
     "output_type": "stream",
     "text": [
      "../dataset/I25-MASTER GRADE IMGB.BMP\n",
      "TIMING INFORMATION (milliseconds)\n",
      "\tDetect bounding box: 0.012000083923339844\n",
      "\tRotate bounding box: 0.006000041961669922\n",
      "\tRefine ROI image: 0.018000364303588867\n",
      "\tCompute quality parameters: 0.023998737335205078\n",
      "\n"
     ]
    }
   ],
   "source": [
    "image_path = f'../dataset/{images_paths[20]}'\n",
    "print(image_path)\n",
    "verify_barcode(image_path, verbose_timing=True);"
   ]
  },
  {
   "cell_type": "code",
   "execution_count": 27,
   "id": "c70eb1de",
   "metadata": {},
   "outputs": [
    {
     "name": "stdout",
     "output_type": "stream",
     "text": [
      "../dataset/UPC#01.BMP\n",
      "TIMING INFORMATION (milliseconds)\n",
      "\tDetect bounding box: 0.023900270462036133\n",
      "\tRotate bounding box: 0.0077075958251953125\n",
      "\tRefine ROI image: 0.04337739944458008\n",
      "\tCompute quality parameters: 0.03163337707519531\n",
      "\n"
     ]
    }
   ],
   "source": [
    "image_path = f'../dataset/{images_paths[21]}'\n",
    "print(image_path)\n",
    "verify_barcode(image_path, verbose_timing=True);"
   ]
  },
  {
   "cell_type": "code",
   "execution_count": 28,
   "id": "00032c70",
   "metadata": {},
   "outputs": [
    {
     "name": "stdout",
     "output_type": "stream",
     "text": [
      "../dataset/UPC#03.BMP\n",
      "TIMING INFORMATION (milliseconds)\n",
      "\tDetect bounding box: 0.027289867401123047\n",
      "\tRotate bounding box: 0.008927583694458008\n",
      "\tRefine ROI image: 0.03041243553161621\n",
      "\tCompute quality parameters: 0.016419649124145508\n",
      "\n"
     ]
    }
   ],
   "source": [
    "image_path = f'../dataset/{images_paths[22]}'\n",
    "print(image_path)\n",
    "verify_barcode(image_path, verbose_timing=True);"
   ]
  },
  {
   "cell_type": "code",
   "execution_count": 29,
   "id": "574467e4",
   "metadata": {},
   "outputs": [
    {
     "name": "stdout",
     "output_type": "stream",
     "text": [
      "../dataset/UPC#04.BMP\n",
      "TIMING INFORMATION (milliseconds)\n",
      "\tDetect bounding box: 0.017999649047851562\n",
      "\tRotate bounding box: 0.006089687347412109\n",
      "\tRefine ROI image: 0.029911279678344727\n",
      "\tCompute quality parameters: 0.016078948974609375\n",
      "\n"
     ]
    }
   ],
   "source": [
    "image_path = f'../dataset/{images_paths[23]}'\n",
    "print(image_path)\n",
    "verify_barcode(image_path, verbose_timing=True);"
   ]
  },
  {
   "cell_type": "code",
   "execution_count": 30,
   "id": "b93249ba",
   "metadata": {},
   "outputs": [
    {
     "name": "stdout",
     "output_type": "stream",
     "text": [
      "../dataset/UPC#05.BMP\n",
      "TIMING INFORMATION (milliseconds)\n",
      "\tDetect bounding box: 0.026374101638793945\n",
      "\tRotate bounding box: 0.008009910583496094\n",
      "\tRefine ROI image: 0.035912513732910156\n",
      "\tCompute quality parameters: 0.017071962356567383\n",
      "\n"
     ]
    }
   ],
   "source": [
    "image_path = f'../dataset/{images_paths[24]}'\n",
    "print(image_path)\n",
    "verify_barcode(image_path, verbose_timing=True);"
   ]
  },
  {
   "cell_type": "code",
   "execution_count": 31,
   "id": "f5907557",
   "metadata": {},
   "outputs": [
    {
     "name": "stdout",
     "output_type": "stream",
     "text": [
      "../dataset/UPC#06.BMP\n",
      "TIMING INFORMATION (milliseconds)\n",
      "\tDetect bounding box: 0.017745256423950195\n",
      "\tRotate bounding box: 0.006549358367919922\n",
      "\tRefine ROI image: 0.02950000762939453\n",
      "\tCompute quality parameters: 0.01699972152709961\n",
      "\n"
     ]
    }
   ],
   "source": [
    "image_path = f'../dataset/{images_paths[25]}'\n",
    "print(image_path)\n",
    "verify_barcode(image_path, verbose_timing=True);"
   ]
  },
  {
   "cell_type": "code",
   "execution_count": 32,
   "id": "ab3e9c14",
   "metadata": {},
   "outputs": [
    {
     "name": "stdout",
     "output_type": "stream",
     "text": [
      "../dataset/UPC#07.BMP\n",
      "TIMING INFORMATION (milliseconds)\n",
      "\tDetect bounding box: 0.018073081970214844\n",
      "\tRotate bounding box: 0.005922794342041016\n",
      "\tRefine ROI image: 0.024499893188476562\n",
      "\tCompute quality parameters: 0.017000675201416016\n",
      "\n"
     ]
    }
   ],
   "source": [
    "image_path = f'../dataset/{images_paths[26]}'\n",
    "print(image_path)\n",
    "verify_barcode(image_path, verbose_timing=True);"
   ]
  },
  {
   "cell_type": "code",
   "execution_count": 33,
   "id": "519820e4",
   "metadata": {},
   "outputs": [
    {
     "name": "stdout",
     "output_type": "stream",
     "text": [
      "../dataset/UPC#08.BMP\n",
      "TIMING INFORMATION (milliseconds)\n",
      "\tDetect bounding box: 0.02100539207458496\n",
      "\tRotate bounding box: 0.005606412887573242\n",
      "\tRefine ROI image: 0.02599787712097168\n",
      "\tCompute quality parameters: 0.017000436782836914\n",
      "\n"
     ]
    }
   ],
   "source": [
    "image_path = f'../dataset/{images_paths[27]}'\n",
    "print(image_path)\n",
    "verify_barcode(image_path, verbose_timing=True);"
   ]
  },
  {
   "cell_type": "code",
   "execution_count": 34,
   "id": "d1e0ba7a",
   "metadata": {},
   "outputs": [
    {
     "name": "stdout",
     "output_type": "stream",
     "text": [
      "../dataset/UPC#09.BMP\n",
      "TIMING INFORMATION (milliseconds)\n",
      "\tDetect bounding box: 0.021069765090942383\n",
      "\tRotate bounding box: 0.008000373840332031\n",
      "\tRefine ROI image: 0.026926517486572266\n",
      "\tCompute quality parameters: 0.018003225326538086\n",
      "\n"
     ]
    }
   ],
   "source": [
    "image_path = f'../dataset/{images_paths[28]}'\n",
    "print(image_path)\n",
    "verify_barcode(image_path, verbose_timing=True);"
   ]
  },
  {
   "cell_type": "code",
   "execution_count": 35,
   "id": "64fb7545",
   "metadata": {},
   "outputs": [
    {
     "name": "stdout",
     "output_type": "stream",
     "text": [
      "../dataset/UPC#10.BMP\n",
      "TIMING INFORMATION (milliseconds)\n",
      "\tDetect bounding box: 0.022851228713989258\n",
      "\tRotate bounding box: 0.008231878280639648\n",
      "\tRefine ROI image: 0.02500009536743164\n",
      "\tCompute quality parameters: 0.021086454391479492\n",
      "\n"
     ]
    }
   ],
   "source": [
    "image_path = f'../dataset/{images_paths[29]}'\n",
    "print(image_path)\n",
    "verify_barcode(image_path, verbose_timing=True);"
   ]
  },
  {
   "cell_type": "code",
   "execution_count": 36,
   "id": "13db3182",
   "metadata": {},
   "outputs": [
    {
     "name": "stdout",
     "output_type": "stream",
     "text": [
      "../dataset/UPC#11.BMP\n",
      "TIMING INFORMATION (milliseconds)\n",
      "\tDetect bounding box: 0.019179582595825195\n",
      "\tRotate bounding box: 0.008994579315185547\n",
      "\tRefine ROI image: 0.023000240325927734\n",
      "\tCompute quality parameters: 0.018004655838012695\n",
      "\n"
     ]
    }
   ],
   "source": [
    "image_path = f'../dataset/{images_paths[30]}'\n",
    "print(image_path)\n",
    "verify_barcode(image_path, verbose_timing=True);"
   ]
  },
  {
   "cell_type": "code",
   "execution_count": 37,
   "id": "4a8752f6",
   "metadata": {},
   "outputs": [
    {
     "name": "stdout",
     "output_type": "stream",
     "text": [
      "../dataset/UPC#12.BMP\n",
      "TIMING INFORMATION (milliseconds)\n",
      "\tDetect bounding box: 0.0286562442779541\n",
      "\tRotate bounding box: 0.0056302547454833984\n",
      "\tRefine ROI image: 0.04736518859863281\n",
      "\tCompute quality parameters: 0.018001556396484375\n",
      "\n"
     ]
    }
   ],
   "source": [
    "image_path = f'../dataset/{images_paths[31]}'\n",
    "print(image_path)\n",
    "verify_barcode(image_path, verbose_timing=True);"
   ]
  },
  {
   "cell_type": "code",
   "execution_count": 38,
   "id": "00a44cf0",
   "metadata": {},
   "outputs": [
    {
     "name": "stdout",
     "output_type": "stream",
     "text": [
      "../dataset/UPC#13.BMP\n",
      "TIMING INFORMATION (milliseconds)\n",
      "\tDetect bounding box: 0.031217098236083984\n",
      "\tRotate bounding box: 0.013077974319458008\n",
      "\tRefine ROI image: 0.04192185401916504\n",
      "\tCompute quality parameters: 0.02507638931274414\n",
      "\n"
     ]
    }
   ],
   "source": [
    "image_path = f'../dataset/{images_paths[32]}'\n",
    "print(image_path)\n",
    "verify_barcode(image_path, verbose_timing=True);"
   ]
  },
  {
   "cell_type": "code",
   "execution_count": 39,
   "id": "df0963e2",
   "metadata": {},
   "outputs": [
    {
     "name": "stdout",
     "output_type": "stream",
     "text": [
      "../dataset/UPC#14.BMP\n",
      "TIMING INFORMATION (milliseconds)\n",
      "\tDetect bounding box: 0.036017417907714844\n",
      "\tRotate bounding box: 0.014993906021118164\n",
      "\tRefine ROI image: 0.06700444221496582\n",
      "\tCompute quality parameters: 0.0413057804107666\n",
      "\n"
     ]
    }
   ],
   "source": [
    "image_path = f'../dataset/{images_paths[33]}'\n",
    "print(image_path)\n",
    "verify_barcode(image_path, verbose_timing=True);"
   ]
  },
  {
   "cell_type": "code",
   "execution_count": 40,
   "id": "39ae8b41",
   "metadata": {},
   "outputs": [
    {
     "name": "stdout",
     "output_type": "stream",
     "text": [
      "../dataset/UPC#15.BMP\n",
      "TIMING INFORMATION (milliseconds)\n",
      "\tDetect bounding box: 0.04078984260559082\n",
      "\tRotate bounding box: 0.014246940612792969\n",
      "\tRefine ROI image: 0.06199455261230469\n",
      "\tCompute quality parameters: 0.04107022285461426\n",
      "\n"
     ]
    }
   ],
   "source": [
    "image_path = f'../dataset/{images_paths[34]}'\n",
    "print(image_path)\n",
    "verify_barcode(image_path, verbose_timing=True);"
   ]
  },
  {
   "cell_type": "code",
   "execution_count": 41,
   "id": "694fa900",
   "metadata": {},
   "outputs": [
    {
     "name": "stdout",
     "output_type": "stream",
     "text": [
      "../dataset/UPC#16.BMP\n",
      "TIMING INFORMATION (milliseconds)\n",
      "\tDetect bounding box: 0.03585624694824219\n",
      "\tRotate bounding box: 0.007001638412475586\n",
      "\tRefine ROI image: 0.06599783897399902\n",
      "\tCompute quality parameters: 0.044000864028930664\n",
      "\n"
     ]
    }
   ],
   "source": [
    "image_path = f'../dataset/{images_paths[35]}'\n",
    "print(image_path)\n",
    "verify_barcode(image_path, verbose_timing=True);"
   ]
  },
  {
   "cell_type": "code",
   "execution_count": 42,
   "id": "adf25663",
   "metadata": {},
   "outputs": [
    {
     "name": "stdout",
     "output_type": "stream",
     "text": [
      "../dataset/UPC#17.BMP\n",
      "TIMING INFORMATION (milliseconds)\n",
      "\tDetect bounding box: 0.03776121139526367\n",
      "\tRotate bounding box: 0.014154672622680664\n",
      "\tRefine ROI image: 0.06299948692321777\n",
      "\tCompute quality parameters: 0.03800392150878906\n",
      "\n"
     ]
    }
   ],
   "source": [
    "image_path = f'../dataset/{images_paths[36]}'\n",
    "print(image_path)\n",
    "verify_barcode(image_path, verbose_timing=True);"
   ]
  },
  {
   "cell_type": "code",
   "execution_count": 43,
   "id": "50840f95",
   "metadata": {},
   "outputs": [
    {
     "name": "stdout",
     "output_type": "stream",
     "text": [
      "../dataset/UPC#18.BMP\n",
      "TIMING INFORMATION (milliseconds)\n",
      "\tDetect bounding box: 0.03484773635864258\n",
      "\tRotate bounding box: 0.005000114440917969\n",
      "\tRefine ROI image: 0.04107785224914551\n",
      "\tCompute quality parameters: 0.018005847930908203\n",
      "\n"
     ]
    }
   ],
   "source": [
    "image_path = f'../dataset/{images_paths[37]}'\n",
    "print(image_path)\n",
    "verify_barcode(image_path, verbose_timing=True);"
   ]
  },
  {
   "cell_type": "code",
   "execution_count": 44,
   "id": "3e0151ac",
   "metadata": {},
   "outputs": [
    {
     "name": "stdout",
     "output_type": "stream",
     "text": [
      "../dataset/UPC#19.BMP\n",
      "TIMING INFORMATION (milliseconds)\n",
      "\tDetect bounding box: 0.027585506439208984\n",
      "\tRotate bounding box: 0.009927988052368164\n",
      "\tRefine ROI image: 0.03799867630004883\n",
      "\tCompute quality parameters: 0.017000198364257812\n",
      "\n"
     ]
    }
   ],
   "source": [
    "image_path = f'../dataset/{images_paths[38]}'\n",
    "print(image_path)\n",
    "verify_barcode(image_path, verbose_timing=True);"
   ]
  },
  {
   "cell_type": "code",
   "execution_count": 45,
   "id": "842acb91",
   "metadata": {},
   "outputs": [
    {
     "name": "stdout",
     "output_type": "stream",
     "text": [
      "../dataset/UPC#20.BMP\n",
      "TIMING INFORMATION (milliseconds)\n",
      "\tDetect bounding box: 0.016630172729492188\n",
      "\tRotate bounding box: 0.0069272518157958984\n",
      "\tRefine ROI image: 0.03899812698364258\n",
      "\tCompute quality parameters: 0.028074026107788086\n",
      "\n"
     ]
    }
   ],
   "source": [
    "image_path = f'../dataset/{images_paths[39]}'\n",
    "print(image_path)\n",
    "verify_barcode(image_path, verbose_timing=True);"
   ]
  },
  {
   "cell_type": "code",
   "execution_count": 46,
   "id": "12c21912",
   "metadata": {},
   "outputs": [
    {
     "name": "stdout",
     "output_type": "stream",
     "text": [
      "../dataset/UPC#21.BMP\n",
      "TIMING INFORMATION (milliseconds)\n",
      "\tDetect bounding box: 0.024995803833007812\n",
      "\tRotate bounding box: 0.007998228073120117\n",
      "\tRefine ROI image: 0.02899909019470215\n",
      "\tCompute quality parameters: 0.01810288429260254\n",
      "\n"
     ]
    }
   ],
   "source": [
    "image_path = f'../dataset/{images_paths[40]}'\n",
    "print(image_path)\n",
    "verify_barcode(image_path, verbose_timing=True);"
   ]
  },
  {
   "cell_type": "code",
   "execution_count": 47,
   "id": "9dbce263",
   "metadata": {},
   "outputs": [
    {
     "name": "stdout",
     "output_type": "stream",
     "text": [
      "../dataset/UPC#22.BMP\n",
      "TIMING INFORMATION (milliseconds)\n",
      "\tDetect bounding box: 0.01655435562133789\n",
      "\tRotate bounding box: 0.0039980411529541016\n",
      "\tRefine ROI image: 0.030000686645507812\n",
      "\tCompute quality parameters: 0.018012046813964844\n",
      "\n"
     ]
    }
   ],
   "source": [
    "image_path = f'../dataset/{images_paths[41]}'\n",
    "print(image_path)\n",
    "verify_barcode(image_path, verbose_timing=True);"
   ]
  },
  {
   "cell_type": "code",
   "execution_count": 48,
   "id": "28d01cc9",
   "metadata": {},
   "outputs": [
    {
     "name": "stdout",
     "output_type": "stream",
     "text": [
      "../dataset/UPC#23.BMP\n",
      "TIMING INFORMATION (milliseconds)\n",
      "\tDetect bounding box: 0.015961647033691406\n",
      "\tRotate bounding box: 0.0030426979064941406\n",
      "\tRefine ROI image: 0.02697300910949707\n",
      "\tCompute quality parameters: 0.020059585571289062\n",
      "\n"
     ]
    }
   ],
   "source": [
    "image_path = f'../dataset/{images_paths[42]}'\n",
    "print(image_path)\n",
    "verify_barcode(image_path, verbose_timing=True);"
   ]
  },
  {
   "cell_type": "code",
   "execution_count": 49,
   "id": "0564ffbc",
   "metadata": {},
   "outputs": [
    {
     "name": "stdout",
     "output_type": "stream",
     "text": [
      "../dataset/UPC#24.BMP\n",
      "TIMING INFORMATION (milliseconds)\n",
      "\tDetect bounding box: 0.017000198364257812\n",
      "\tRotate bounding box: 0.006998777389526367\n",
      "\tRefine ROI image: 0.026004791259765625\n",
      "\tCompute quality parameters: 0.020994901657104492\n",
      "\n"
     ]
    }
   ],
   "source": [
    "image_path = f'../dataset/{images_paths[43]}'\n",
    "print(image_path)\n",
    "verify_barcode(image_path, verbose_timing=True);"
   ]
  },
  {
   "cell_type": "code",
   "execution_count": 50,
   "id": "c1199f55",
   "metadata": {},
   "outputs": [
    {
     "name": "stdout",
     "output_type": "stream",
     "text": [
      "../dataset/UPC#25.BMP\n",
      "TIMING INFORMATION (milliseconds)\n",
      "\tDetect bounding box: 0.022991657257080078\n",
      "\tRotate bounding box: 0.0070459842681884766\n",
      "\tRefine ROI image: 0.025958776473999023\n",
      "\tCompute quality parameters: 0.02199697494506836\n",
      "\n"
     ]
    }
   ],
   "source": [
    "image_path = f'../dataset/{images_paths[44]}'\n",
    "print(image_path)\n",
    "verify_barcode(image_path, verbose_timing=True);"
   ]
  },
  {
   "cell_type": "code",
   "execution_count": 51,
   "id": "9c62d6e1",
   "metadata": {},
   "outputs": [
    {
     "name": "stdout",
     "output_type": "stream",
     "text": [
      "../dataset/UPC#26.BMP\n",
      "TIMING INFORMATION (milliseconds)\n",
      "\tDetect bounding box: 0.030256032943725586\n",
      "\tRotate bounding box: 0.01574254035949707\n",
      "\tRefine ROI image: 0.06114053726196289\n",
      "\tCompute quality parameters: 0.04149985313415527\n",
      "\n"
     ]
    }
   ],
   "source": [
    "image_path = f'../dataset/{images_paths[45]}'\n",
    "print(image_path)\n",
    "verify_barcode(image_path, verbose_timing=True);"
   ]
  },
  {
   "cell_type": "code",
   "execution_count": 52,
   "id": "1f63e5f0",
   "metadata": {},
   "outputs": [
    {
     "name": "stdout",
     "output_type": "stream",
     "text": [
      "../dataset/UPC#27.BMP\n",
      "TIMING INFORMATION (milliseconds)\n",
      "\tDetect bounding box: 0.029790401458740234\n",
      "\tRotate bounding box: 0.012990951538085938\n",
      "\tRefine ROI image: 0.0449986457824707\n",
      "\tCompute quality parameters: 0.01700139045715332\n",
      "\n"
     ]
    }
   ],
   "source": [
    "image_path = f'../dataset/{images_paths[46]}'\n",
    "print(image_path)\n",
    "verify_barcode(image_path, verbose_timing=True);"
   ]
  },
  {
   "cell_type": "code",
   "execution_count": 53,
   "id": "1f73630c",
   "metadata": {},
   "outputs": [
    {
     "name": "stdout",
     "output_type": "stream",
     "text": [
      "../dataset/UPC#28.BMP\n",
      "TIMING INFORMATION (milliseconds)\n",
      "\tDetect bounding box: 0.025001049041748047\n",
      "\tRotate bounding box: 0.00646519660949707\n",
      "\tRefine ROI image: 0.026000499725341797\n",
      "\tCompute quality parameters: 0.01599907875061035\n",
      "\n"
     ]
    }
   ],
   "source": [
    "image_path = f'../dataset/{images_paths[47]}'\n",
    "print(image_path)\n",
    "verify_barcode(image_path, verbose_timing=True);"
   ]
  },
  {
   "cell_type": "code",
   "execution_count": 54,
   "id": "3a0213f6",
   "metadata": {},
   "outputs": [
    {
     "name": "stdout",
     "output_type": "stream",
     "text": [
      "../dataset/UPC#29.BMP\n",
      "TIMING INFORMATION (milliseconds)\n",
      "\tDetect bounding box: 0.02207159996032715\n",
      "\tRotate bounding box: 0.007927894592285156\n",
      "\tRefine ROI image: 0.026999473571777344\n",
      "\tCompute quality parameters: 0.016074657440185547\n",
      "\n"
     ]
    }
   ],
   "source": [
    "image_path = f'../dataset/{images_paths[48]}'\n",
    "print(image_path)\n",
    "verify_barcode(image_path, verbose_timing=True);"
   ]
  },
  {
   "cell_type": "code",
   "execution_count": 55,
   "id": "8fbe60bf",
   "metadata": {},
   "outputs": [
    {
     "name": "stdout",
     "output_type": "stream",
     "text": [
      "../dataset/UPC#30.BMP\n",
      "TIMING INFORMATION (milliseconds)\n",
      "\tDetect bounding box: 0.019634485244750977\n",
      "\tRotate bounding box: 0.008926630020141602\n",
      "\tRefine ROI image: 0.033499717712402344\n",
      "\tCompute quality parameters: 0.016573429107666016\n",
      "\n"
     ]
    }
   ],
   "source": [
    "image_path = f'../dataset/{images_paths[49]}'\n",
    "print(image_path)\n",
    "verify_barcode(image_path, verbose_timing=True);"
   ]
  },
  {
   "cell_type": "code",
   "execution_count": 56,
   "id": "ddc21710",
   "metadata": {},
   "outputs": [
    {
     "name": "stdout",
     "output_type": "stream",
     "text": [
      "../dataset/UPC#31.BMP\n",
      "TIMING INFORMATION (milliseconds)\n",
      "\tDetect bounding box: 0.019765138626098633\n",
      "\tRotate bounding box: 0.007498979568481445\n",
      "\tRefine ROI image: 0.027002573013305664\n",
      "\tCompute quality parameters: 0.025583982467651367\n",
      "\n"
     ]
    }
   ],
   "source": [
    "image_path = f'../dataset/{images_paths[50]}'\n",
    "print(image_path)\n",
    "verify_barcode(image_path, verbose_timing=True);"
   ]
  },
  {
   "cell_type": "code",
   "execution_count": 57,
   "id": "745878e9",
   "metadata": {},
   "outputs": [
    {
     "name": "stdout",
     "output_type": "stream",
     "text": [
      "../dataset/UPC#32.BMP\n",
      "TIMING INFORMATION (milliseconds)\n",
      "\tDetect bounding box: 0.029558897018432617\n",
      "\tRotate bounding box: 0.008385419845581055\n",
      "\tRefine ROI image: 0.03999972343444824\n",
      "\tCompute quality parameters: 0.01657247543334961\n",
      "\n"
     ]
    }
   ],
   "source": [
    "image_path = f'../dataset/{images_paths[51]}'\n",
    "print(image_path)\n",
    "verify_barcode(image_path, verbose_timing=True);"
   ]
  }
 ],
 "metadata": {
  "kernelspec": {
   "display_name": "Python 3",
   "language": "python",
   "name": "python3"
  },
  "language_info": {
   "codemirror_mode": {
    "name": "ipython",
    "version": 3
   },
   "file_extension": ".py",
   "mimetype": "text/x-python",
   "name": "python",
   "nbconvert_exporter": "python",
   "pygments_lexer": "ipython3",
   "version": "3.8.8"
  }
 },
 "nbformat": 4,
 "nbformat_minor": 5
}
