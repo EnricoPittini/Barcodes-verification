{
 "cells": [
  {
   "cell_type": "markdown",
   "id": "195ce209",
   "metadata": {},
   "source": [
    "### Import"
   ]
  },
  {
   "cell_type": "code",
   "execution_count": 1,
   "id": "0af156fc",
   "metadata": {},
   "outputs": [],
   "source": [
    "# Importing the python module 'src/verify_barcode.py' (for Windows)\n",
    "\n",
    "# Absolute path to the python file 'verify_barcode' inside the 'src' folder (in Windows)\n",
    "import pathlib\n",
    "file_abs_path = '\\\\'.join(str(pathlib.Path().resolve()).split('\\\\')[:-1]) + '\\\\src'\n",
    "\n",
    "import sys\n",
    "sys.path.insert(1, file_abs_path)\n",
    "\n",
    "from verify_barcode import verify_barcode"
   ]
  },
  {
   "cell_type": "markdown",
   "id": "a0e67a29",
   "metadata": {},
   "source": [
    "### List with all the dataset images"
   ]
  },
  {
   "cell_type": "code",
   "execution_count": 2,
   "id": "620e59c1",
   "metadata": {},
   "outputs": [
    {
     "data": {
      "text/plain": [
       "'TestChart.xls'"
      ]
     },
     "execution_count": 2,
     "metadata": {},
     "output_type": "execute_result"
    }
   ],
   "source": [
    "from os import listdir\n",
    "from os.path import isfile, join\n",
    "images_paths = [f for f in listdir('../dataset') if isfile(join('../dataset', f))]\n",
    "images_paths.pop(21)  # Removing the excel file"
   ]
  },
  {
   "cell_type": "markdown",
   "id": "0bba5eeb",
   "metadata": {},
   "source": [
    "### Creating the output files for all dataset images"
   ]
  },
  {
   "cell_type": "code",
   "execution_count": 3,
   "id": "b9268f35",
   "metadata": {},
   "outputs": [],
   "source": [
    "for image_name in images_paths:\n",
    "    image_path = f'../dataset/{image_name}'\n",
    "    detection_dict, rotation_dict, refinement_dict, overall_quality_parameters_dict = verify_barcode(image_path, \n",
    "                                                                                               create_output_file=True,\n",
    "                                                                                               output_folder_path='../out')"
   ]
  }
 ],
 "metadata": {
  "kernelspec": {
   "display_name": "Python 3",
   "language": "python",
   "name": "python3"
  },
  "language_info": {
   "codemirror_mode": {
    "name": "ipython",
    "version": 3
   },
   "file_extension": ".py",
   "mimetype": "text/x-python",
   "name": "python",
   "nbconvert_exporter": "python",
   "pygments_lexer": "ipython3",
   "version": "3.8.8"
  }
 },
 "nbformat": 4,
 "nbformat_minor": 5
}
