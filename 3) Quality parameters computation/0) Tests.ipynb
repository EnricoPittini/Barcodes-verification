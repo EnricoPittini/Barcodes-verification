{
 "cells": [
  {
   "cell_type": "code",
   "execution_count": 25,
   "id": "2efc18f2",
   "metadata": {},
   "outputs": [],
   "source": [
    "import numpy as np\n",
    "import cv2\n",
    "from matplotlib import pyplot as plt\n",
    "import imutils\n",
    "import math\n",
    "import matplotlib.patches as patches\n",
    "import time"
   ]
  },
  {
   "cell_type": "code",
   "execution_count": 26,
   "id": "a3f6ba7c",
   "metadata": {},
   "outputs": [],
   "source": [
    "import importlib  \n",
    "\n",
    "module = importlib.import_module('0) APIs')\n",
    "detect_and_refine_boundingBox = module.detect_and_refine_boundingBox"
   ]
  },
  {
   "cell_type": "code",
   "execution_count": 27,
   "id": "f68de93d",
   "metadata": {},
   "outputs": [],
   "source": [
    "from os import listdir\n",
    "from os.path import isfile, join\n",
    "images_paths = [f for f in listdir('../images') if isfile(join('../images', f))]"
   ]
  },
  {
   "cell_type": "code",
   "execution_count": 28,
   "id": "61a6590a",
   "metadata": {},
   "outputs": [
    {
     "name": "stdout",
     "output_type": "stream",
     "text": [
      "Computing roi time: 0.01650691032409668\n",
      "Rotating image and bounding box time: 0.004000425338745117\n",
      "Fixing horizontal bars case time: 0.0030815601348876953\n",
      "Computing barcode structure time: 0.03402590751647949\n",
      "Fixing wrong bar case time: 0.0\n",
      "Refining roi image and bounding box time: 0.0010037422180175781\n",
      "Wall time: 64.6 ms\n"
     ]
    }
   ],
   "source": [
    "%%time\n",
    "image_path = f'../images/{images_paths[0]}'\n",
    "roi_image_ref, bb_points_sorted_rot_ref, bb_width_ref, bb_height_ref = detect_and_refine_boundingBox(image_path, visualization_dict=None, verbose_timing=True)"
   ]
  },
  {
   "cell_type": "code",
   "execution_count": 30,
   "id": "5271797d",
   "metadata": {},
   "outputs": [
    {
     "name": "stdout",
     "output_type": "stream",
     "text": [
      "Computing roi time: 0.018000125885009766\n",
      "Rotating image and bounding box time: 0.0\n",
      "Fixing horizontal bars case time: 0.0030694007873535156\n",
      "Computing barcode structure time: 0.03302717208862305\n",
      "Fixing wrong bar case time: 0.0\n",
      "Refining roi image and bounding box time: 0.0\n",
      "Wall time: 60.6 ms\n"
     ]
    }
   ],
   "source": [
    "%%time\n",
    "image_path = f'../images/{images_paths[1]}'\n",
    "roi_image_ref, bb_points_sorted_rot_ref, bb_width_ref, bb_height_ref = detect_and_refine_boundingBox(image_path, visualization_dict=None, verbose_timing=True)"
   ]
  },
  {
   "cell_type": "code",
   "execution_count": 32,
   "id": "6666ff8d",
   "metadata": {},
   "outputs": [
    {
     "name": "stdout",
     "output_type": "stream",
     "text": [
      "Computing roi time: 0.014209270477294922\n",
      "Rotating image and bounding box time: 0.002371549606323242\n",
      "Fixing horizontal bars case time: 0.003003358840942383\n",
      "Computing barcode structure time: 0.021215200424194336\n",
      "Fixing wrong bar case time: 0.0\n",
      "Refining roi image and bounding box time: 0.0\n",
      "Wall time: 46.1 ms\n"
     ]
    }
   ],
   "source": [
    "%%time\n",
    "image_path = f'../images/{images_paths[2]}'\n",
    "roi_image_ref, bb_points_sorted_rot_ref, bb_width_ref, bb_height_ref = detect_and_refine_boundingBox(image_path, visualization_dict=None, verbose_timing=True)"
   ]
  },
  {
   "cell_type": "code",
   "execution_count": 33,
   "id": "175d4a8e",
   "metadata": {},
   "outputs": [
    {
     "name": "stdout",
     "output_type": "stream",
     "text": [
      "Computing roi time: 0.01327824592590332\n",
      "Rotating image and bounding box time: 0.0\n",
      "Fixing horizontal bars case time: 0.001997709274291992\n",
      "Computing barcode structure time: 0.023075580596923828\n",
      "Fixing wrong bar case time: 0.0\n",
      "Refining roi image and bounding box time: 0.0\n",
      "Wall time: 42.4 ms\n"
     ]
    }
   ],
   "source": [
    "%%time\n",
    "image_path = f'../images/{images_paths[3]}'\n",
    "roi_image_ref, bb_points_sorted_rot_ref, bb_width_ref, bb_height_ref = detect_and_refine_boundingBox(image_path, visualization_dict=None, verbose_timing=True)"
   ]
  },
  {
   "cell_type": "code",
   "execution_count": 34,
   "id": "b0b81230",
   "metadata": {},
   "outputs": [
    {
     "name": "stdout",
     "output_type": "stream",
     "text": [
      "Computing roi time: 0.016754865646362305\n",
      "Rotating image and bounding box time: 0.003999233245849609\n",
      "Fixing horizontal bars case time: 0.0031936168670654297\n",
      "Computing barcode structure time: 0.02956366539001465\n",
      "Fixing wrong bar case time: 0.0\n",
      "Refining roi image and bounding box time: 0.0\n",
      "Wall time: 59.1 ms\n"
     ]
    }
   ],
   "source": [
    "%%time\n",
    "image_path = f'../images/{images_paths[4]}'\n",
    "roi_image_ref, bb_points_sorted_rot_ref, bb_width_ref, bb_height_ref = detect_and_refine_boundingBox(image_path, visualization_dict=None, verbose_timing=True)"
   ]
  },
  {
   "cell_type": "code",
   "execution_count": 35,
   "id": "56783d09",
   "metadata": {},
   "outputs": [
    {
     "name": "stdout",
     "output_type": "stream",
     "text": [
      "Computing roi time: 0.016463041305541992\n",
      "Rotating image and bounding box time: 0.0\n",
      "Fixing horizontal bars case time: 0.0015461444854736328\n",
      "Computing barcode structure time: 0.030298709869384766\n",
      "Fixing wrong bar case time: 0.0\n",
      "Refining roi image and bounding box time: 0.0\n",
      "Wall time: 53.3 ms\n"
     ]
    }
   ],
   "source": [
    "%%time\n",
    "image_path = f'../images/{images_paths[5]}'\n",
    "roi_image_ref, bb_points_sorted_rot_ref, bb_width_ref, bb_height_ref = detect_and_refine_boundingBox(image_path, visualization_dict=None, verbose_timing=True)"
   ]
  },
  {
   "cell_type": "code",
   "execution_count": 36,
   "id": "b404ff2c",
   "metadata": {},
   "outputs": [
    {
     "name": "stdout",
     "output_type": "stream",
     "text": [
      "Computing roi time: 0.011998176574707031\n",
      "Rotating image and bounding box time: 0.0\n",
      "Fixing horizontal bars case time: 0.0031652450561523438\n",
      "Computing barcode structure time: 0.030982017517089844\n",
      "Fixing wrong bar case time: 0.0\n",
      "Refining roi image and bounding box time: 0.0\n",
      "Wall time: 50 ms\n"
     ]
    }
   ],
   "source": [
    "%%time\n",
    "image_path = f'../images/{images_paths[6]}'\n",
    "roi_image_ref, bb_points_sorted_rot_ref, bb_width_ref, bb_height_ref = detect_and_refine_boundingBox(image_path, visualization_dict=None, verbose_timing=True)"
   ]
  },
  {
   "cell_type": "code",
   "execution_count": 37,
   "id": "0c71deb3",
   "metadata": {},
   "outputs": [
    {
     "name": "stdout",
     "output_type": "stream",
     "text": [
      "Computing roi time: 0.016921281814575195\n",
      "Rotating image and bounding box time: 0.0\n",
      "Fixing horizontal bars case time: 0.0027074813842773438\n",
      "Computing barcode structure time: 0.03228259086608887\n",
      "Fixing wrong bar case time: 0.0\n",
      "Refining roi image and bounding box time: 0.001026153564453125\n",
      "Wall time: 57.9 ms\n"
     ]
    }
   ],
   "source": [
    "%%time\n",
    "image_path = f'../images/{images_paths[7]}'\n",
    "roi_image_ref, bb_points_sorted_rot_ref, bb_width_ref, bb_height_ref = detect_and_refine_boundingBox(image_path, visualization_dict=None, verbose_timing=True)"
   ]
  },
  {
   "cell_type": "code",
   "execution_count": 38,
   "id": "4ae4747d",
   "metadata": {},
   "outputs": [
    {
     "name": "stdout",
     "output_type": "stream",
     "text": [
      "Computing roi time: 0.012775897979736328\n",
      "Rotating image and bounding box time: 0.002962350845336914\n",
      "Fixing horizontal bars case time: 0.001077413558959961\n",
      "Computing barcode structure time: 0.01755666732788086\n",
      "Fixing wrong bar case time: 0.0010035037994384766\n",
      "Refining roi image and bounding box time: 0.0\n",
      "Wall time: 39.4 ms\n"
     ]
    }
   ],
   "source": [
    "%%time\n",
    "image_path = f'../images/{images_paths[8]}'\n",
    "roi_image_ref, bb_points_sorted_rot_ref, bb_width_ref, bb_height_ref = detect_and_refine_boundingBox(image_path, visualization_dict=None, verbose_timing=True)"
   ]
  },
  {
   "cell_type": "code",
   "execution_count": 39,
   "id": "2adeef49",
   "metadata": {},
   "outputs": [
    {
     "name": "stdout",
     "output_type": "stream",
     "text": [
      "Computing roi time: 0.012895822525024414\n",
      "Rotating image and bounding box time: 0.0025458335876464844\n",
      "Fixing horizontal bars case time: 0.002504110336303711\n",
      "Computing barcode structure time: 0.021589040756225586\n",
      "Fixing wrong bar case time: 0.0\n",
      "Refining roi image and bounding box time: 0.0\n",
      "Wall time: 43.6 ms\n"
     ]
    }
   ],
   "source": [
    "%%time\n",
    "image_path = f'../images/{images_paths[9]}'\n",
    "roi_image_ref, bb_points_sorted_rot_ref, bb_width_ref, bb_height_ref = detect_and_refine_boundingBox(image_path, visualization_dict=None, verbose_timing=True)"
   ]
  },
  {
   "cell_type": "code",
   "execution_count": 40,
   "id": "b341341b",
   "metadata": {},
   "outputs": [
    {
     "name": "stdout",
     "output_type": "stream",
     "text": [
      "Computing roi time: 0.014249563217163086\n",
      "Rotating image and bounding box time: 0.001918792724609375\n",
      "Fixing horizontal bars case time: 0.006001949310302734\n",
      "Computing barcode structure time: 0.01707935333251953\n",
      "Fixing wrong bar case time: 0.0\n",
      "Refining roi image and bounding box time: 0.0\n",
      "Wall time: 43.6 ms\n"
     ]
    }
   ],
   "source": [
    "%%time\n",
    "image_path = f'../images/{images_paths[10]}'\n",
    "roi_image_ref, bb_points_sorted_rot_ref, bb_width_ref, bb_height_ref = detect_and_refine_boundingBox(image_path, visualization_dict=None, verbose_timing=True)"
   ]
  },
  {
   "cell_type": "code",
   "execution_count": 41,
   "id": "fc32a13d",
   "metadata": {},
   "outputs": [
    {
     "name": "stdout",
     "output_type": "stream",
     "text": [
      "Computing roi time: 0.012807607650756836\n",
      "Rotating image and bounding box time: 0.003450632095336914\n",
      "Fixing horizontal bars case time: 0.0023648738861083984\n",
      "Computing barcode structure time: 0.024070024490356445\n",
      "Fixing wrong bar case time: 0.0\n",
      "Refining roi image and bounding box time: 0.0\n",
      "Wall time: 47.8 ms\n"
     ]
    }
   ],
   "source": [
    "%%time\n",
    "image_path = f'../images/{images_paths[11]}'\n",
    "roi_image_ref, bb_points_sorted_rot_ref, bb_width_ref, bb_height_ref = detect_and_refine_boundingBox(image_path, visualization_dict=None, verbose_timing=True)"
   ]
  },
  {
   "cell_type": "code",
   "execution_count": 42,
   "id": "d5cef6a6",
   "metadata": {},
   "outputs": [
    {
     "name": "stdout",
     "output_type": "stream",
     "text": [
      "Computing roi time: 0.014201164245605469\n",
      "Rotating image and bounding box time: 0.0\n",
      "Fixing horizontal bars case time: 0.005999565124511719\n",
      "Computing barcode structure time: 0.020949125289916992\n",
      "Fixing wrong bar case time: 0.0009634494781494141\n",
      "Refining roi image and bounding box time: 0.0\n",
      "Wall time: 46.1 ms\n"
     ]
    }
   ],
   "source": [
    "%%time\n",
    "image_path = f'../images/{images_paths[12]}'\n",
    "roi_image_ref, bb_points_sorted_rot_ref, bb_width_ref, bb_height_ref = detect_and_refine_boundingBox(image_path, visualization_dict=None, verbose_timing=True)"
   ]
  },
  {
   "cell_type": "code",
   "execution_count": 43,
   "id": "7f71f2f7",
   "metadata": {},
   "outputs": [
    {
     "name": "stdout",
     "output_type": "stream",
     "text": [
      "Computing roi time: 0.008999109268188477\n",
      "Rotating image and bounding box time: 0.002000570297241211\n",
      "Fixing horizontal bars case time: 0.0012042522430419922\n",
      "Computing barcode structure time: 0.020003080368041992\n",
      "Fixing wrong bar case time: 0.0\n",
      "Refining roi image and bounding box time: 0.0\n",
      "Wall time: 36.2 ms\n"
     ]
    }
   ],
   "source": [
    "%%time\n",
    "image_path = f'../images/{images_paths[13]}'\n",
    "roi_image_ref, bb_points_sorted_rot_ref, bb_width_ref, bb_height_ref = detect_and_refine_boundingBox(image_path, visualization_dict=None, verbose_timing=True)"
   ]
  },
  {
   "cell_type": "code",
   "execution_count": 44,
   "id": "08d573dc",
   "metadata": {},
   "outputs": [
    {
     "name": "stdout",
     "output_type": "stream",
     "text": [
      "Computing roi time: 0.012912273406982422\n",
      "Rotating image and bounding box time: 0.0\n",
      "Fixing horizontal bars case time: 0.0024483203887939453\n",
      "Computing barcode structure time: 0.021993398666381836\n",
      "Fixing wrong bar case time: 0.0010004043579101562\n",
      "Refining roi image and bounding box time: 0.0\n",
      "Wall time: 40.7 ms\n"
     ]
    }
   ],
   "source": [
    "%%time\n",
    "image_path = f'../images/{images_paths[14]}'\n",
    "roi_image_ref, bb_points_sorted_rot_ref, bb_width_ref, bb_height_ref = detect_and_refine_boundingBox(image_path, visualization_dict=None, verbose_timing=True)"
   ]
  },
  {
   "cell_type": "code",
   "execution_count": 45,
   "id": "954cccd9",
   "metadata": {},
   "outputs": [
    {
     "name": "stdout",
     "output_type": "stream",
     "text": [
      "Computing roi time: 0.011117219924926758\n",
      "Rotating image and bounding box time: 0.0028982162475585938\n",
      "Fixing horizontal bars case time: 0.0030350685119628906\n",
      "Computing barcode structure time: 0.026133060455322266\n",
      "Fixing wrong bar case time: 0.0\n",
      "Refining roi image and bounding box time: 0.0\n",
      "Wall time: 46.5 ms\n"
     ]
    }
   ],
   "source": [
    "%%time\n",
    "image_path = f'../images/{images_paths[15]}'\n",
    "roi_image_ref, bb_points_sorted_rot_ref, bb_width_ref, bb_height_ref = detect_and_refine_boundingBox(image_path, visualization_dict=None, verbose_timing=True)"
   ]
  },
  {
   "cell_type": "code",
   "execution_count": 46,
   "id": "d6b3ffd0",
   "metadata": {},
   "outputs": [
    {
     "name": "stdout",
     "output_type": "stream",
     "text": [
      "Computing roi time: 0.010720014572143555\n",
      "Rotating image and bounding box time: 0.0\n",
      "Fixing horizontal bars case time: 0.0020020008087158203\n",
      "Computing barcode structure time: 0.011687994003295898\n",
      "Fixing wrong bar case time: 0.0\n",
      "Refining roi image and bounding box time: 0.0009872913360595703\n",
      "Wall time: 27.5 ms\n"
     ]
    }
   ],
   "source": [
    "%%time\n",
    "image_path = f'../images/{images_paths[16]}'\n",
    "roi_image_ref, bb_points_sorted_rot_ref, bb_width_ref, bb_height_ref = detect_and_refine_boundingBox(image_path, visualization_dict=None, verbose_timing=True)"
   ]
  },
  {
   "cell_type": "code",
   "execution_count": 47,
   "id": "cc773cd6",
   "metadata": {},
   "outputs": [
    {
     "name": "stdout",
     "output_type": "stream",
     "text": [
      "Computing roi time: 0.009999752044677734\n",
      "Rotating image and bounding box time: 0.002651691436767578\n",
      "Fixing horizontal bars case time: 0.0018684864044189453\n",
      "Computing barcode structure time: 0.013038396835327148\n",
      "Fixing wrong bar case time: 0.0\n",
      "Refining roi image and bounding box time: 0.0\n",
      "Wall time: 29.6 ms\n"
     ]
    }
   ],
   "source": [
    "%%time\n",
    "image_path = f'../images/{images_paths[17]}'\n",
    "roi_image_ref, bb_points_sorted_rot_ref, bb_width_ref, bb_height_ref = detect_and_refine_boundingBox(image_path, visualization_dict=None, verbose_timing=True)"
   ]
  },
  {
   "cell_type": "code",
   "execution_count": 48,
   "id": "e0d17a1a",
   "metadata": {},
   "outputs": [
    {
     "name": "stdout",
     "output_type": "stream",
     "text": [
      "Computing roi time: 0.008000373840332031\n",
      "Rotating image and bounding box time: 0.001903533935546875\n",
      "Fixing horizontal bars case time: 0.002003908157348633\n",
      "Computing barcode structure time: 0.013970136642456055\n",
      "Fixing wrong bar case time: 0.0\n",
      "Refining roi image and bounding box time: 0.0\n",
      "Wall time: 28.9 ms\n"
     ]
    }
   ],
   "source": [
    "%%time\n",
    "image_path = f'../images/{images_paths[18]}'\n",
    "roi_image_ref, bb_points_sorted_rot_ref, bb_width_ref, bb_height_ref = detect_and_refine_boundingBox(image_path, visualization_dict=None, verbose_timing=True)"
   ]
  },
  {
   "cell_type": "code",
   "execution_count": 49,
   "id": "582e9ee5",
   "metadata": {},
   "outputs": [
    {
     "name": "stdout",
     "output_type": "stream",
     "text": [
      "Computing roi time: 0.00938105583190918\n",
      "Rotating image and bounding box time: 0.0\n",
      "Fixing horizontal bars case time: 0.002609729766845703\n",
      "Computing barcode structure time: 0.024080991744995117\n",
      "Fixing wrong bar case time: 0.0\n",
      "Refining roi image and bounding box time: 0.0009908676147460938\n",
      "Wall time: 40.1 ms\n"
     ]
    }
   ],
   "source": [
    "%%time\n",
    "image_path = f'../images/{images_paths[19]}'\n",
    "roi_image_ref, bb_points_sorted_rot_ref, bb_width_ref, bb_height_ref = detect_and_refine_boundingBox(image_path, visualization_dict=None, verbose_timing=True)"
   ]
  },
  {
   "cell_type": "code",
   "execution_count": 50,
   "id": "2358ced6",
   "metadata": {},
   "outputs": [
    {
     "name": "stdout",
     "output_type": "stream",
     "text": [
      "Computing roi time: 0.009987592697143555\n",
      "Rotating image and bounding box time: 0.0018224716186523438\n",
      "Fixing horizontal bars case time: 0.0030143260955810547\n",
      "Computing barcode structure time: 0.014986753463745117\n",
      "Fixing wrong bar case time: 0.0\n",
      "Refining roi image and bounding box time: 0.0\n",
      "Wall time: 33.8 ms\n"
     ]
    }
   ],
   "source": [
    "%%time\n",
    "image_path = f'../images/{images_paths[20]}'\n",
    "roi_image_ref, bb_points_sorted_rot_ref, bb_width_ref, bb_height_ref = detect_and_refine_boundingBox(image_path, visualization_dict=None, verbose_timing=True)"
   ]
  },
  {
   "cell_type": "code",
   "execution_count": 52,
   "id": "3ff7468b",
   "metadata": {},
   "outputs": [
    {
     "name": "stdout",
     "output_type": "stream",
     "text": [
      "Computing roi time: 0.01184225082397461\n",
      "Rotating image and bounding box time: 0.002999544143676758\n",
      "Fixing horizontal bars case time: 0.0020689964294433594\n",
      "Computing barcode structure time: 0.018008708953857422\n",
      "Fixing wrong bar case time: 0.0\n",
      "Refining roi image and bounding box time: 0.0\n",
      "Wall time: 39.9 ms\n"
     ]
    }
   ],
   "source": [
    "%%time\n",
    "image_path = f'../images/{images_paths[22]}'\n",
    "roi_image_ref, bb_points_sorted_rot_ref, bb_width_ref, bb_height_ref = detect_and_refine_boundingBox(image_path, visualization_dict=None, verbose_timing=True)"
   ]
  },
  {
   "cell_type": "code",
   "execution_count": 54,
   "id": "88bac12b",
   "metadata": {},
   "outputs": [
    {
     "name": "stdout",
     "output_type": "stream",
     "text": [
      "Computing roi time: 0.013076305389404297\n",
      "Rotating image and bounding box time: 0.0032329559326171875\n",
      "Fixing horizontal bars case time: 0.0025053024291992188\n",
      "Computing barcode structure time: 0.0177004337310791\n",
      "Fixing wrong bar case time: 0.0\n",
      "Refining roi image and bounding box time: 0.0\n",
      "Wall time: 41.1 ms\n"
     ]
    }
   ],
   "source": [
    "%%time\n",
    "image_path = f'../images/{images_paths[23]}'\n",
    "roi_image_ref, bb_points_sorted_rot_ref, bb_width_ref, bb_height_ref = detect_and_refine_boundingBox(image_path, visualization_dict=None, verbose_timing=True)"
   ]
  },
  {
   "cell_type": "code",
   "execution_count": 55,
   "id": "4ecca467",
   "metadata": {},
   "outputs": [
    {
     "name": "stdout",
     "output_type": "stream",
     "text": [
      "Computing roi time: 0.013998270034790039\n",
      "Rotating image and bounding box time: 0.0029997825622558594\n",
      "Fixing horizontal bars case time: 0.0020380020141601562\n",
      "Computing barcode structure time: 0.019033193588256836\n",
      "Fixing wrong bar case time: 0.0\n",
      "Refining roi image and bounding box time: 0.0\n",
      "Wall time: 42 ms\n"
     ]
    }
   ],
   "source": [
    "%%time\n",
    "image_path = f'../images/{images_paths[24]}'\n",
    "roi_image_ref, bb_points_sorted_rot_ref, bb_width_ref, bb_height_ref = detect_and_refine_boundingBox(image_path, visualization_dict=None, verbose_timing=True)"
   ]
  },
  {
   "cell_type": "code",
   "execution_count": 56,
   "id": "742ba93a",
   "metadata": {},
   "outputs": [
    {
     "name": "stdout",
     "output_type": "stream",
     "text": [
      "Computing roi time: 0.013056278228759766\n",
      "Rotating image and bounding box time: 0.003251314163208008\n",
      "Fixing horizontal bars case time: 0.002008676528930664\n",
      "Computing barcode structure time: 0.019484281539916992\n",
      "Fixing wrong bar case time: 0.0\n",
      "Refining roi image and bounding box time: 0.0\n",
      "Wall time: 42.8 ms\n"
     ]
    }
   ],
   "source": [
    "%%time\n",
    "image_path = f'../images/{images_paths[25]}'\n",
    "roi_image_ref, bb_points_sorted_rot_ref, bb_width_ref, bb_height_ref = detect_and_refine_boundingBox(image_path, visualization_dict=None, verbose_timing=True)"
   ]
  },
  {
   "cell_type": "code",
   "execution_count": 57,
   "id": "c19b3e2e",
   "metadata": {},
   "outputs": [
    {
     "name": "stdout",
     "output_type": "stream",
     "text": [
      "Computing roi time: 0.014001607894897461\n",
      "Rotating image and bounding box time: 0.002999544143676758\n",
      "Fixing horizontal bars case time: 0.0010001659393310547\n",
      "Computing barcode structure time: 0.019421815872192383\n",
      "Fixing wrong bar case time: 0.0010001659393310547\n",
      "Refining roi image and bounding box time: 0.0\n",
      "Wall time: 41.4 ms\n"
     ]
    }
   ],
   "source": [
    "%%time\n",
    "image_path = f'../images/{images_paths[26]}'\n",
    "roi_image_ref, bb_points_sorted_rot_ref, bb_width_ref, bb_height_ref = detect_and_refine_boundingBox(image_path, visualization_dict=None, verbose_timing=True)"
   ]
  },
  {
   "cell_type": "code",
   "execution_count": 58,
   "id": "1874006d",
   "metadata": {},
   "outputs": [
    {
     "name": "stdout",
     "output_type": "stream",
     "text": [
      "Computing roi time: 0.012123823165893555\n",
      "Rotating image and bounding box time: 0.0029993057250976562\n",
      "Fixing horizontal bars case time: 0.0010004043579101562\n",
      "Computing barcode structure time: 0.0200803279876709\n",
      "Fixing wrong bar case time: 0.0\n",
      "Refining roi image and bounding box time: 0.0\n",
      "Wall time: 40.2 ms\n"
     ]
    }
   ],
   "source": [
    "%%time\n",
    "image_path = f'../images/{images_paths[27]}'\n",
    "roi_image_ref, bb_points_sorted_rot_ref, bb_width_ref, bb_height_ref = detect_and_refine_boundingBox(image_path, visualization_dict=None, verbose_timing=True)"
   ]
  },
  {
   "cell_type": "code",
   "execution_count": 59,
   "id": "45fa78ac",
   "metadata": {},
   "outputs": [
    {
     "name": "stdout",
     "output_type": "stream",
     "text": [
      "Computing roi time: 0.012331962585449219\n",
      "Rotating image and bounding box time: 0.001997709274291992\n",
      "Fixing horizontal bars case time: 0.0010004043579101562\n",
      "Computing barcode structure time: 0.021042823791503906\n",
      "Fixing wrong bar case time: 0.0\n",
      "Refining roi image and bounding box time: 0.0\n",
      "Wall time: 40.4 ms\n"
     ]
    }
   ],
   "source": [
    "%%time\n",
    "image_path = f'../images/{images_paths[28]}'\n",
    "roi_image_ref, bb_points_sorted_rot_ref, bb_width_ref, bb_height_ref = detect_and_refine_boundingBox(image_path, visualization_dict=None, verbose_timing=True)"
   ]
  },
  {
   "cell_type": "code",
   "execution_count": 60,
   "id": "4de46d15",
   "metadata": {},
   "outputs": [
    {
     "name": "stdout",
     "output_type": "stream",
     "text": [
      "Computing roi time: 0.013000249862670898\n",
      "Rotating image and bounding box time: 0.004000186920166016\n",
      "Fixing horizontal bars case time: 0.00099945068359375\n",
      "Computing barcode structure time: 0.021999835968017578\n",
      "Fixing wrong bar case time: 0.0\n",
      "Refining roi image and bounding box time: 0.0\n",
      "Wall time: 45.1 ms\n"
     ]
    }
   ],
   "source": [
    "%%time\n",
    "image_path = f'../images/{images_paths[29]}'\n",
    "roi_image_ref, bb_points_sorted_rot_ref, bb_width_ref, bb_height_ref = detect_and_refine_boundingBox(image_path, visualization_dict=None, verbose_timing=True)"
   ]
  },
  {
   "cell_type": "code",
   "execution_count": 61,
   "id": "e9f03d65",
   "metadata": {},
   "outputs": [
    {
     "name": "stdout",
     "output_type": "stream",
     "text": [
      "Computing roi time: 0.013406515121459961\n",
      "Rotating image and bounding box time: 0.0030121803283691406\n",
      "Fixing horizontal bars case time: 0.0019979476928710938\n",
      "Computing barcode structure time: 0.018598556518554688\n",
      "Fixing wrong bar case time: 0.0009286403656005859\n",
      "Refining roi image and bounding box time: 0.0\n",
      "Wall time: 42.9 ms\n"
     ]
    }
   ],
   "source": [
    "%%time\n",
    "image_path = f'../images/{images_paths[30]}'\n",
    "roi_image_ref, bb_points_sorted_rot_ref, bb_width_ref, bb_height_ref = detect_and_refine_boundingBox(image_path, visualization_dict=None, verbose_timing=True)"
   ]
  },
  {
   "cell_type": "code",
   "execution_count": 62,
   "id": "67802166",
   "metadata": {},
   "outputs": [
    {
     "name": "stdout",
     "output_type": "stream",
     "text": [
      "Computing roi time: 0.013084173202514648\n",
      "Rotating image and bounding box time: 0.0029027462005615234\n",
      "Fixing horizontal bars case time: 0.0010395050048828125\n",
      "Computing barcode structure time: 0.018048524856567383\n",
      "Fixing wrong bar case time: 0.0009126663208007812\n",
      "Refining roi image and bounding box time: 0.0\n",
      "Wall time: 41 ms\n"
     ]
    }
   ],
   "source": [
    "%%time\n",
    "image_path = f'../images/{images_paths[31]}'\n",
    "roi_image_ref, bb_points_sorted_rot_ref, bb_width_ref, bb_height_ref = detect_and_refine_boundingBox(image_path, visualization_dict=None, verbose_timing=True)"
   ]
  },
  {
   "cell_type": "code",
   "execution_count": 63,
   "id": "fc540642",
   "metadata": {},
   "outputs": [
    {
     "name": "stdout",
     "output_type": "stream",
     "text": [
      "Computing roi time: 0.012610435485839844\n",
      "Rotating image and bounding box time: 0.0\n",
      "Fixing horizontal bars case time: 0.002362966537475586\n",
      "Computing barcode structure time: 0.018139362335205078\n",
      "Fixing wrong bar case time: 0.0\n",
      "Refining roi image and bounding box time: 0.0008246898651123047\n",
      "Wall time: 37.9 ms\n"
     ]
    }
   ],
   "source": [
    "%%time\n",
    "image_path = f'../images/{images_paths[32]}'\n",
    "roi_image_ref, bb_points_sorted_rot_ref, bb_width_ref, bb_height_ref = detect_and_refine_boundingBox(image_path, visualization_dict=None, verbose_timing=True)"
   ]
  },
  {
   "cell_type": "code",
   "execution_count": 64,
   "id": "49c01cf3",
   "metadata": {},
   "outputs": [
    {
     "name": "stdout",
     "output_type": "stream",
     "text": [
      "Computing roi time: 0.014427661895751953\n",
      "Rotating image and bounding box time: 0.0029993057250976562\n",
      "Fixing horizontal bars case time: 0.0009999275207519531\n",
      "Computing barcode structure time: 0.02200007438659668\n",
      "Fixing wrong bar case time: 0.0\n",
      "Refining roi image and bounding box time: 0.0\n",
      "Wall time: 45.6 ms\n"
     ]
    }
   ],
   "source": [
    "%%time\n",
    "image_path = f'../images/{images_paths[33]}'\n",
    "roi_image_ref, bb_points_sorted_rot_ref, bb_width_ref, bb_height_ref = detect_and_refine_boundingBox(image_path, visualization_dict=None, verbose_timing=True)"
   ]
  },
  {
   "cell_type": "code",
   "execution_count": 65,
   "id": "72c70dbb",
   "metadata": {},
   "outputs": [
    {
     "name": "stdout",
     "output_type": "stream",
     "text": [
      "Computing roi time: 0.013051748275756836\n",
      "Rotating image and bounding box time: 0.002521514892578125\n",
      "Fixing horizontal bars case time: 0.0024917125701904297\n",
      "Computing barcode structure time: 0.019040822982788086\n",
      "Fixing wrong bar case time: 0.0\n",
      "Refining roi image and bounding box time: 0.0\n",
      "Wall time: 42.2 ms\n"
     ]
    }
   ],
   "source": [
    "%%time\n",
    "image_path = f'../images/{images_paths[34]}'\n",
    "roi_image_ref, bb_points_sorted_rot_ref, bb_width_ref, bb_height_ref = detect_and_refine_boundingBox(image_path, visualization_dict=None, verbose_timing=True)"
   ]
  },
  {
   "cell_type": "code",
   "execution_count": 66,
   "id": "01eee300",
   "metadata": {},
   "outputs": [
    {
     "name": "stdout",
     "output_type": "stream",
     "text": [
      "Computing roi time: 0.01328134536743164\n",
      "Rotating image and bounding box time: 0.0029997825622558594\n",
      "Fixing horizontal bars case time: 0.0010454654693603516\n",
      "Computing barcode structure time: 0.021167993545532227\n",
      "Fixing wrong bar case time: 0.0\n",
      "Refining roi image and bounding box time: 0.0\n",
      "Wall time: 42.5 ms\n"
     ]
    }
   ],
   "source": [
    "%%time\n",
    "image_path = f'../images/{images_paths[35]}'\n",
    "roi_image_ref, bb_points_sorted_rot_ref, bb_width_ref, bb_height_ref = detect_and_refine_boundingBox(image_path, visualization_dict=None, verbose_timing=True)"
   ]
  },
  {
   "cell_type": "code",
   "execution_count": 67,
   "id": "530f217b",
   "metadata": {},
   "outputs": [
    {
     "name": "stdout",
     "output_type": "stream",
     "text": [
      "Computing roi time: 0.013501167297363281\n",
      "Rotating image and bounding box time: 0.0\n",
      "Fixing horizontal bars case time: 0.0007064342498779297\n",
      "Computing barcode structure time: 0.021207571029663086\n",
      "Fixing wrong bar case time: 0.0\n",
      "Refining roi image and bounding box time: 0.0\n",
      "Wall time: 40.3 ms\n"
     ]
    }
   ],
   "source": [
    "%%time\n",
    "image_path = f'../images/{images_paths[36]}'\n",
    "roi_image_ref, bb_points_sorted_rot_ref, bb_width_ref, bb_height_ref = detect_and_refine_boundingBox(image_path, visualization_dict=None, verbose_timing=True)"
   ]
  },
  {
   "cell_type": "code",
   "execution_count": 68,
   "id": "328c9207",
   "metadata": {},
   "outputs": [
    {
     "name": "stdout",
     "output_type": "stream",
     "text": [
      "Computing roi time: 0.01296234130859375\n",
      "Rotating image and bounding box time: 0.002918243408203125\n",
      "Fixing horizontal bars case time: 0.0020029544830322266\n",
      "Computing barcode structure time: 0.018016338348388672\n",
      "Fixing wrong bar case time: 0.0\n",
      "Refining roi image and bounding box time: 0.0010459423065185547\n",
      "Wall time: 40.9 ms\n"
     ]
    }
   ],
   "source": [
    "%%time\n",
    "image_path = f'../images/{images_paths[37]}'\n",
    "roi_image_ref, bb_points_sorted_rot_ref, bb_width_ref, bb_height_ref = detect_and_refine_boundingBox(image_path, visualization_dict=None, verbose_timing=True)"
   ]
  },
  {
   "cell_type": "code",
   "execution_count": 69,
   "id": "e0011f95",
   "metadata": {},
   "outputs": [
    {
     "name": "stdout",
     "output_type": "stream",
     "text": [
      "Computing roi time: 0.011916875839233398\n",
      "Rotating image and bounding box time: 0.0\n",
      "Fixing horizontal bars case time: 0.0005850791931152344\n",
      "Computing barcode structure time: 0.02113056182861328\n",
      "Fixing wrong bar case time: 0.0\n",
      "Refining roi image and bounding box time: 0.0\n",
      "Wall time: 38.7 ms\n"
     ]
    }
   ],
   "source": [
    "%%time\n",
    "image_path = f'../images/{images_paths[38]}'\n",
    "roi_image_ref, bb_points_sorted_rot_ref, bb_width_ref, bb_height_ref = detect_and_refine_boundingBox(image_path, visualization_dict=None, verbose_timing=True)"
   ]
  },
  {
   "cell_type": "code",
   "execution_count": 70,
   "id": "33dc2bbb",
   "metadata": {},
   "outputs": [
    {
     "name": "stdout",
     "output_type": "stream",
     "text": [
      "Computing roi time: 0.012573003768920898\n",
      "Rotating image and bounding box time: 0.002997159957885742\n",
      "Fixing horizontal bars case time: 0.0020835399627685547\n",
      "Computing barcode structure time: 0.017917394638061523\n",
      "Fixing wrong bar case time: 0.0010001659393310547\n",
      "Refining roi image and bounding box time: 0.0\n",
      "Wall time: 42 ms\n"
     ]
    }
   ],
   "source": [
    "%%time\n",
    "image_path = f'../images/{images_paths[39]}'\n",
    "roi_image_ref, bb_points_sorted_rot_ref, bb_width_ref, bb_height_ref = detect_and_refine_boundingBox(image_path, visualization_dict=None, verbose_timing=True)"
   ]
  },
  {
   "cell_type": "code",
   "execution_count": 71,
   "id": "c3cf4f67",
   "metadata": {},
   "outputs": [
    {
     "name": "stdout",
     "output_type": "stream",
     "text": [
      "Computing roi time: 0.01282954216003418\n",
      "Rotating image and bounding box time: 0.0019180774688720703\n",
      "Fixing horizontal bars case time: 0.002550363540649414\n",
      "Computing barcode structure time: 0.018086671829223633\n",
      "Fixing wrong bar case time: 0.0009970664978027344\n",
      "Refining roi image and bounding box time: 0.0\n",
      "Wall time: 41.4 ms\n"
     ]
    }
   ],
   "source": [
    "%%time\n",
    "image_path = f'../images/{images_paths[40]}'\n",
    "roi_image_ref, bb_points_sorted_rot_ref, bb_width_ref, bb_height_ref = detect_and_refine_boundingBox(image_path, visualization_dict=None, verbose_timing=True)"
   ]
  },
  {
   "cell_type": "code",
   "execution_count": 72,
   "id": "3c15b9e9",
   "metadata": {},
   "outputs": [
    {
     "name": "stdout",
     "output_type": "stream",
     "text": [
      "Computing roi time: 0.015044689178466797\n",
      "Rotating image and bounding box time: 0.002954721450805664\n",
      "Fixing horizontal bars case time: 0.0010013580322265625\n",
      "Computing barcode structure time: 0.0200808048248291\n",
      "Fixing wrong bar case time: 0.0009908676147460938\n",
      "Refining roi image and bounding box time: 0.0\n",
      "Wall time: 43 ms\n"
     ]
    }
   ],
   "source": [
    "%%time\n",
    "image_path = f'../images/{images_paths[41]}'\n",
    "roi_image_ref, bb_points_sorted_rot_ref, bb_width_ref, bb_height_ref = detect_and_refine_boundingBox(image_path, visualization_dict=None, verbose_timing=True)"
   ]
  },
  {
   "cell_type": "code",
   "execution_count": 73,
   "id": "d20a8139",
   "metadata": {},
   "outputs": [
    {
     "name": "stdout",
     "output_type": "stream",
     "text": [
      "Computing roi time: 0.012209653854370117\n",
      "Rotating image and bounding box time: 0.0\n",
      "Fixing horizontal bars case time: 0.0019600391387939453\n",
      "Computing barcode structure time: 0.01799941062927246\n",
      "Fixing wrong bar case time: 0.0\n",
      "Refining roi image and bounding box time: 0.0010025501251220703\n",
      "Wall time: 36.8 ms\n"
     ]
    }
   ],
   "source": [
    "%%time\n",
    "image_path = f'../images/{images_paths[42]}'\n",
    "roi_image_ref, bb_points_sorted_rot_ref, bb_width_ref, bb_height_ref = detect_and_refine_boundingBox(image_path, visualization_dict=None, verbose_timing=True)"
   ]
  },
  {
   "cell_type": "code",
   "execution_count": 74,
   "id": "5856c16d",
   "metadata": {},
   "outputs": [
    {
     "name": "stdout",
     "output_type": "stream",
     "text": [
      "Computing roi time: 0.012705564498901367\n",
      "Rotating image and bounding box time: 0.0\n",
      "Fixing horizontal bars case time: 0.0005419254302978516\n",
      "Computing barcode structure time: 0.02040266990661621\n",
      "Fixing wrong bar case time: 0.0\n",
      "Refining roi image and bounding box time: 0.000988006591796875\n",
      "Wall time: 38.6 ms\n"
     ]
    }
   ],
   "source": [
    "%%time\n",
    "image_path = f'../images/{images_paths[43]}'\n",
    "roi_image_ref, bb_points_sorted_rot_ref, bb_width_ref, bb_height_ref = detect_and_refine_boundingBox(image_path, visualization_dict=None, verbose_timing=True)"
   ]
  },
  {
   "cell_type": "code",
   "execution_count": 75,
   "id": "4c79b661",
   "metadata": {},
   "outputs": [
    {
     "name": "stdout",
     "output_type": "stream",
     "text": [
      "Computing roi time: 0.013948440551757812\n",
      "Rotating image and bounding box time: 0.0019989013671875\n",
      "Fixing horizontal bars case time: 0.0020017623901367188\n",
      "Computing barcode structure time: 0.019999027252197266\n",
      "Fixing wrong bar case time: 0.0\n",
      "Refining roi image and bounding box time: 0.0010006427764892578\n",
      "Wall time: 42.6 ms\n"
     ]
    }
   ],
   "source": [
    "%%time\n",
    "image_path = f'../images/{images_paths[44]}'\n",
    "roi_image_ref, bb_points_sorted_rot_ref, bb_width_ref, bb_height_ref = detect_and_refine_boundingBox(image_path, visualization_dict=None, verbose_timing=True)"
   ]
  },
  {
   "cell_type": "code",
   "execution_count": 76,
   "id": "540070d6",
   "metadata": {},
   "outputs": [
    {
     "name": "stdout",
     "output_type": "stream",
     "text": [
      "Computing roi time: 0.014423131942749023\n",
      "Rotating image and bounding box time: 0.002893209457397461\n",
      "Fixing horizontal bars case time: 0.00180816650390625\n",
      "Computing barcode structure time: 0.020999670028686523\n",
      "Fixing wrong bar case time: 0.0\n",
      "Refining roi image and bounding box time: 0.0\n",
      "Wall time: 45.2 ms\n"
     ]
    }
   ],
   "source": [
    "%%time\n",
    "image_path = f'../images/{images_paths[45]}'\n",
    "roi_image_ref, bb_points_sorted_rot_ref, bb_width_ref, bb_height_ref = detect_and_refine_boundingBox(image_path, visualization_dict=None, verbose_timing=True)"
   ]
  },
  {
   "cell_type": "code",
   "execution_count": 77,
   "id": "2001398e",
   "metadata": {},
   "outputs": [
    {
     "name": "stdout",
     "output_type": "stream",
     "text": [
      "Computing roi time: 0.011655330657958984\n",
      "Rotating image and bounding box time: 0.00299835205078125\n",
      "Fixing horizontal bars case time: 0.0010023117065429688\n",
      "Computing barcode structure time: 0.020998716354370117\n",
      "Fixing wrong bar case time: 0.0\n",
      "Refining roi image and bounding box time: 0.0\n",
      "Wall time: 41.4 ms\n"
     ]
    }
   ],
   "source": [
    "%%time\n",
    "image_path = f'../images/{images_paths[46]}'\n",
    "roi_image_ref, bb_points_sorted_rot_ref, bb_width_ref, bb_height_ref = detect_and_refine_boundingBox(image_path, visualization_dict=None, verbose_timing=True)"
   ]
  },
  {
   "cell_type": "code",
   "execution_count": 78,
   "id": "9fba1fcf",
   "metadata": {},
   "outputs": [
    {
     "name": "stdout",
     "output_type": "stream",
     "text": [
      "Computing roi time: 0.012366771697998047\n",
      "Rotating image and bounding box time: 0.003002166748046875\n",
      "Fixing horizontal bars case time: 0.0019991397857666016\n",
      "Computing barcode structure time: 0.019910097122192383\n",
      "Fixing wrong bar case time: 0.0010004043579101562\n",
      "Refining roi image and bounding box time: 0.00016260147094726562\n",
      "Wall time: 41.4 ms\n"
     ]
    }
   ],
   "source": [
    "%%time\n",
    "image_path = f'../images/{images_paths[47]}'\n",
    "roi_image_ref, bb_points_sorted_rot_ref, bb_width_ref, bb_height_ref = detect_and_refine_boundingBox(image_path, visualization_dict=None, verbose_timing=True)"
   ]
  },
  {
   "cell_type": "code",
   "execution_count": 79,
   "id": "25ec4bc8",
   "metadata": {},
   "outputs": [
    {
     "name": "stdout",
     "output_type": "stream",
     "text": [
      "Computing roi time: 0.01369166374206543\n",
      "Rotating image and bounding box time: 0.002998828887939453\n",
      "Fixing horizontal bars case time: 0.002002239227294922\n",
      "Computing barcode structure time: 0.019088268280029297\n",
      "Fixing wrong bar case time: 0.0\n",
      "Refining roi image and bounding box time: 0.0\n",
      "Wall time: 42.8 ms\n"
     ]
    }
   ],
   "source": [
    "%%time\n",
    "image_path = f'../images/{images_paths[48]}'\n",
    "roi_image_ref, bb_points_sorted_rot_ref, bb_width_ref, bb_height_ref = detect_and_refine_boundingBox(image_path, visualization_dict=None, verbose_timing=True)"
   ]
  },
  {
   "cell_type": "code",
   "execution_count": 80,
   "id": "14da99b0",
   "metadata": {},
   "outputs": [
    {
     "name": "stdout",
     "output_type": "stream",
     "text": [
      "Computing roi time: 0.013001441955566406\n",
      "Rotating image and bounding box time: 0.0019979476928710938\n",
      "Fixing horizontal bars case time: 0.0020008087158203125\n",
      "Computing barcode structure time: 0.020466327667236328\n",
      "Fixing wrong bar case time: 0.0\n",
      "Refining roi image and bounding box time: 0.0\n",
      "Wall time: 43.5 ms\n"
     ]
    }
   ],
   "source": [
    "%%time\n",
    "image_path = f'../images/{images_paths[49]}'\n",
    "roi_image_ref, bb_points_sorted_rot_ref, bb_width_ref, bb_height_ref = detect_and_refine_boundingBox(image_path, visualization_dict=None, verbose_timing=True)"
   ]
  },
  {
   "cell_type": "code",
   "execution_count": 81,
   "id": "d031c158",
   "metadata": {},
   "outputs": [
    {
     "name": "stdout",
     "output_type": "stream",
     "text": [
      "Computing roi time: 0.012066841125488281\n",
      "Rotating image and bounding box time: 0.00324249267578125\n",
      "Fixing horizontal bars case time: 0.0010006427764892578\n",
      "Computing barcode structure time: 0.020314455032348633\n",
      "Fixing wrong bar case time: 0.0\n",
      "Refining roi image and bounding box time: 0.0\n",
      "Wall time: 42.6 ms\n"
     ]
    }
   ],
   "source": [
    "%%time\n",
    "image_path = f'../images/{images_paths[50]}'\n",
    "roi_image_ref, bb_points_sorted_rot_ref, bb_width_ref, bb_height_ref = detect_and_refine_boundingBox(image_path, visualization_dict=None, verbose_timing=True)"
   ]
  },
  {
   "cell_type": "code",
   "execution_count": 82,
   "id": "d4b7a263",
   "metadata": {},
   "outputs": [
    {
     "name": "stdout",
     "output_type": "stream",
     "text": [
      "Computing roi time: 0.01260066032409668\n",
      "Rotating image and bounding box time: 0.0030007362365722656\n",
      "Fixing horizontal bars case time: 0.0010001659393310547\n",
      "Computing barcode structure time: 0.02107691764831543\n",
      "Fixing wrong bar case time: 0.001024007797241211\n",
      "Refining roi image and bounding box time: 0.0\n",
      "Wall time: 42.7 ms\n"
     ]
    }
   ],
   "source": [
    "%%time\n",
    "image_path = f'../images/{images_paths[51]}'\n",
    "roi_image_ref, bb_points_sorted_rot_ref, bb_width_ref, bb_height_ref = detect_and_refine_boundingBox(image_path, visualization_dict=None, verbose_timing=True)"
   ]
  },
  {
   "cell_type": "code",
   "execution_count": 83,
   "id": "6de0cf98",
   "metadata": {},
   "outputs": [
    {
     "name": "stdout",
     "output_type": "stream",
     "text": [
      "Computing roi time: 0.011651754379272461\n",
      "Rotating image and bounding box time: 0.003007650375366211\n",
      "Fixing horizontal bars case time: 0.0010023117065429688\n",
      "Computing barcode structure time: 0.01945352554321289\n",
      "Fixing wrong bar case time: 0.0\n",
      "Refining roi image and bounding box time: 0.0\n",
      "Wall time: 40.3 ms\n"
     ]
    }
   ],
   "source": [
    "%%time\n",
    "image_path = f'../images/{images_paths[52]}'\n",
    "roi_image_ref, bb_points_sorted_rot_ref, bb_width_ref, bb_height_ref = detect_and_refine_boundingBox(image_path, visualization_dict=None, verbose_timing=True)"
   ]
  },
  {
   "cell_type": "code",
   "execution_count": null,
   "id": "ba513217",
   "metadata": {},
   "outputs": [],
   "source": []
  },
  {
   "cell_type": "code",
   "execution_count": 84,
   "id": "38b82812",
   "metadata": {},
   "outputs": [
    {
     "name": "stdout",
     "output_type": "stream",
     "text": [
      "Computing roi time: 0.0010018348693847656\n",
      "Rotating image and bounding box time: 0.0\n",
      "Fixing horizontal bars case time: 0.0009980201721191406\n",
      "Computing barcode structure time: 0.002998828887939453\n",
      "Fixing wrong bar case time: 0.0010943412780761719\n",
      "Refining roi image and bounding box time: 0.0\n",
      "Wall time: 7.1 ms\n"
     ]
    }
   ],
   "source": [
    "%%time\n",
    "image_path = f'../other images/1.png'\n",
    "roi_image_ref, bb_points_sorted_rot_ref, bb_width_ref, bb_height_ref = detect_and_refine_boundingBox(image_path, visualization_dict=None, verbose_timing=True)"
   ]
  },
  {
   "cell_type": "code",
   "execution_count": 85,
   "id": "e7c921ae",
   "metadata": {},
   "outputs": [
    {
     "name": "stdout",
     "output_type": "stream",
     "text": [
      "Computing roi time: 0.002000093460083008\n",
      "Rotating image and bounding box time: 0.0\n",
      "Fixing horizontal bars case time: 0.0\n",
      "Computing barcode structure time: 0.0039997100830078125\n",
      "Fixing wrong bar case time: 0.0\n",
      "Refining roi image and bounding box time: 0.0\n",
      "Wall time: 8 ms\n"
     ]
    }
   ],
   "source": [
    "%%time\n",
    "image_path = f'../other images/1.png'\n",
    "roi_image_ref, bb_points_sorted_rot_ref, bb_width_ref, bb_height_ref = detect_and_refine_boundingBox(image_path, visualization_dict=None, verbose_timing=True)"
   ]
  },
  {
   "cell_type": "code",
   "execution_count": 86,
   "id": "81e635f4",
   "metadata": {},
   "outputs": [
    {
     "ename": "IndexError",
     "evalue": "index 283 is out of bounds for axis 1 with size 283",
     "output_type": "error",
     "traceback": [
      "\u001b[1;31m---------------------------------------------------------------------------\u001b[0m",
      "\u001b[1;31mIndexError\u001b[0m                                Traceback (most recent call last)",
      "\u001b[1;32m<timed exec>\u001b[0m in \u001b[0;36m<module>\u001b[1;34m\u001b[0m\n",
      "\u001b[1;32m~\\Desktop\\Artificial Intelligence - Master degree\\First year\\Computer Vision and Image Processing\\Project\\Barcodes-verification\\3) Quality parameters computation\\0) APIs.py\u001b[0m in \u001b[0;36mdetect_and_refine_boundingBox\u001b[1;34m(image_path, use_same_threshold, compute_barcode_structure_algorithm, verbose_timing, outlier_detection_level, visualization_dict)\u001b[0m\n\u001b[0;32m     97\u001b[0m \u001b[1;33m\u001b[0m\u001b[0m\n\u001b[0;32m     98\u001b[0m     \u001b[1;31m# 4) COMPUTE BARCODE STRUCTURE\u001b[0m\u001b[1;33m\u001b[0m\u001b[1;33m\u001b[0m\u001b[1;33m\u001b[0m\u001b[0m\n\u001b[1;32m---> 99\u001b[1;33m     barcode_structure_dict = compute_barcode_structure(roi_image, bb_width, bb_height,\n\u001b[0m\u001b[0;32m    100\u001b[0m                                                        \u001b[0malgorithm\u001b[0m\u001b[1;33m=\u001b[0m\u001b[0mcompute_barcode_structure_algorithm\u001b[0m\u001b[1;33m,\u001b[0m\u001b[1;33m\u001b[0m\u001b[1;33m\u001b[0m\u001b[0m\n\u001b[0;32m    101\u001b[0m                                                        \u001b[0mthreshold\u001b[0m\u001b[1;33m=\u001b[0m\u001b[0mthreshold\u001b[0m \u001b[1;32mif\u001b[0m \u001b[0muse_same_threshold\u001b[0m \u001b[1;32melse\u001b[0m \u001b[1;32mNone\u001b[0m\u001b[1;33m,\u001b[0m\u001b[1;33m\u001b[0m\u001b[1;33m\u001b[0m\u001b[0m\n",
      "\u001b[1;32m~\\Desktop\\Artificial Intelligence - Master degree\\First year\\Computer Vision and Image Processing\\Project\\Barcodes-verification\\3) Quality parameters computation\\0) APIs.py\u001b[0m in \u001b[0;36mcompute_barcode_structure\u001b[1;34m(roi_image, bb_width, bb_height, algorithm, threshold, verbose, visualize_refined_bb, visualize_barcode_structure)\u001b[0m\n\u001b[0;32m    505\u001b[0m         \u001b[1;32mraise\u001b[0m \u001b[0mValueError\u001b[0m\u001b[1;33m(\u001b[0m\u001b[1;34mf'Invalid algorithm {algorithm}'\u001b[0m\u001b[1;33m)\u001b[0m\u001b[1;33m\u001b[0m\u001b[1;33m\u001b[0m\u001b[0m\n\u001b[0;32m    506\u001b[0m \u001b[1;33m\u001b[0m\u001b[0m\n\u001b[1;32m--> 507\u001b[1;33m     \u001b[0mbars_start\u001b[0m\u001b[1;33m,\u001b[0m \u001b[0mbars_width\u001b[0m\u001b[1;33m,\u001b[0m \u001b[0mbars_halfHeightUp\u001b[0m\u001b[1;33m,\u001b[0m \u001b[0mbars_halfHeightDown\u001b[0m \u001b[1;33m=\u001b[0m \u001b[0malgorithm_function\u001b[0m\u001b[1;33m(\u001b[0m\u001b[0mROI_thresh\u001b[0m\u001b[1;33m,\u001b[0m \u001b[0mbb_width\u001b[0m\u001b[1;33m,\u001b[0m \u001b[0mbb_height\u001b[0m\u001b[1;33m)\u001b[0m\u001b[1;33m\u001b[0m\u001b[1;33m\u001b[0m\u001b[0m\n\u001b[0m\u001b[0;32m    508\u001b[0m \u001b[1;33m\u001b[0m\u001b[0m\n\u001b[0;32m    509\u001b[0m     \u001b[0mfirst_bar_x\u001b[0m \u001b[1;33m=\u001b[0m \u001b[0mmin\u001b[0m\u001b[1;33m(\u001b[0m\u001b[0mbars_start\u001b[0m\u001b[1;33m)\u001b[0m\u001b[1;33m\u001b[0m\u001b[1;33m\u001b[0m\u001b[0m\n",
      "\u001b[1;32m~\\Desktop\\Artificial Intelligence - Master degree\\First year\\Computer Vision and Image Processing\\Project\\Barcodes-verification\\3) Quality parameters computation\\0) APIs.py\u001b[0m in \u001b[0;36m_algorithm1\u001b[1;34m(ROI_thresh, bb_width, bb_height)\u001b[0m\n\u001b[0;32m    586\u001b[0m         \u001b[1;31m# We go right, till finding a white pixel.\u001b[0m\u001b[1;33m\u001b[0m\u001b[1;33m\u001b[0m\u001b[1;33m\u001b[0m\u001b[0m\n\u001b[0;32m    587\u001b[0m         \u001b[1;31m# In this way, we compute the width of this current bar.\u001b[0m\u001b[1;33m\u001b[0m\u001b[1;33m\u001b[0m\u001b[1;33m\u001b[0m\u001b[0m\n\u001b[1;32m--> 588\u001b[1;33m         \u001b[1;32mwhile\u001b[0m \u001b[0mROI_thresh\u001b[0m\u001b[1;33m[\u001b[0m\u001b[0mhalf_height_index\u001b[0m\u001b[1;33m,\u001b[0m \u001b[0mi_end\u001b[0m\u001b[1;33m]\u001b[0m\u001b[1;33m==\u001b[0m\u001b[1;36m0\u001b[0m\u001b[1;33m:\u001b[0m\u001b[1;33m\u001b[0m\u001b[1;33m\u001b[0m\u001b[0m\n\u001b[0m\u001b[0;32m    589\u001b[0m             \u001b[0mX_curr\u001b[0m \u001b[1;33m+=\u001b[0m \u001b[1;36m1\u001b[0m\u001b[1;33m\u001b[0m\u001b[1;33m\u001b[0m\u001b[0m\n\u001b[0;32m    590\u001b[0m             \u001b[0mi_end\u001b[0m \u001b[1;33m+=\u001b[0m \u001b[1;36m1\u001b[0m\u001b[1;33m\u001b[0m\u001b[1;33m\u001b[0m\u001b[0m\n",
      "\u001b[1;31mIndexError\u001b[0m: index 283 is out of bounds for axis 1 with size 283"
     ]
    }
   ],
   "source": [
    "%%time\n",
    "image_path = f'../other images/2.jpg'\n",
    "roi_image_ref, bb_points_sorted_rot_ref, bb_width_ref, bb_height_ref = detect_and_refine_boundingBox(image_path, visualization_dict=None, verbose_timing=True)"
   ]
  },
  {
   "cell_type": "code",
   "execution_count": 87,
   "id": "b9562cec",
   "metadata": {},
   "outputs": [
    {
     "ename": "IndexError",
     "evalue": "index 1434 is out of bounds for axis 1 with size 1434",
     "output_type": "error",
     "traceback": [
      "\u001b[1;31m---------------------------------------------------------------------------\u001b[0m",
      "\u001b[1;31mIndexError\u001b[0m                                Traceback (most recent call last)",
      "\u001b[1;32m<timed exec>\u001b[0m in \u001b[0;36m<module>\u001b[1;34m\u001b[0m\n",
      "\u001b[1;32m~\\Desktop\\Artificial Intelligence - Master degree\\First year\\Computer Vision and Image Processing\\Project\\Barcodes-verification\\3) Quality parameters computation\\0) APIs.py\u001b[0m in \u001b[0;36mdetect_and_refine_boundingBox\u001b[1;34m(image_path, use_same_threshold, compute_barcode_structure_algorithm, verbose_timing, outlier_detection_level, visualization_dict)\u001b[0m\n\u001b[0;32m     97\u001b[0m \u001b[1;33m\u001b[0m\u001b[0m\n\u001b[0;32m     98\u001b[0m     \u001b[1;31m# 4) COMPUTE BARCODE STRUCTURE\u001b[0m\u001b[1;33m\u001b[0m\u001b[1;33m\u001b[0m\u001b[1;33m\u001b[0m\u001b[0m\n\u001b[1;32m---> 99\u001b[1;33m     barcode_structure_dict = compute_barcode_structure(roi_image, bb_width, bb_height,\n\u001b[0m\u001b[0;32m    100\u001b[0m                                                        \u001b[0malgorithm\u001b[0m\u001b[1;33m=\u001b[0m\u001b[0mcompute_barcode_structure_algorithm\u001b[0m\u001b[1;33m,\u001b[0m\u001b[1;33m\u001b[0m\u001b[1;33m\u001b[0m\u001b[0m\n\u001b[0;32m    101\u001b[0m                                                        \u001b[0mthreshold\u001b[0m\u001b[1;33m=\u001b[0m\u001b[0mthreshold\u001b[0m \u001b[1;32mif\u001b[0m \u001b[0muse_same_threshold\u001b[0m \u001b[1;32melse\u001b[0m \u001b[1;32mNone\u001b[0m\u001b[1;33m,\u001b[0m\u001b[1;33m\u001b[0m\u001b[1;33m\u001b[0m\u001b[0m\n",
      "\u001b[1;32m~\\Desktop\\Artificial Intelligence - Master degree\\First year\\Computer Vision and Image Processing\\Project\\Barcodes-verification\\3) Quality parameters computation\\0) APIs.py\u001b[0m in \u001b[0;36mcompute_barcode_structure\u001b[1;34m(roi_image, bb_width, bb_height, algorithm, threshold, verbose, visualize_refined_bb, visualize_barcode_structure)\u001b[0m\n\u001b[0;32m    505\u001b[0m         \u001b[1;32mraise\u001b[0m \u001b[0mValueError\u001b[0m\u001b[1;33m(\u001b[0m\u001b[1;34mf'Invalid algorithm {algorithm}'\u001b[0m\u001b[1;33m)\u001b[0m\u001b[1;33m\u001b[0m\u001b[1;33m\u001b[0m\u001b[0m\n\u001b[0;32m    506\u001b[0m \u001b[1;33m\u001b[0m\u001b[0m\n\u001b[1;32m--> 507\u001b[1;33m     \u001b[0mbars_start\u001b[0m\u001b[1;33m,\u001b[0m \u001b[0mbars_width\u001b[0m\u001b[1;33m,\u001b[0m \u001b[0mbars_halfHeightUp\u001b[0m\u001b[1;33m,\u001b[0m \u001b[0mbars_halfHeightDown\u001b[0m \u001b[1;33m=\u001b[0m \u001b[0malgorithm_function\u001b[0m\u001b[1;33m(\u001b[0m\u001b[0mROI_thresh\u001b[0m\u001b[1;33m,\u001b[0m \u001b[0mbb_width\u001b[0m\u001b[1;33m,\u001b[0m \u001b[0mbb_height\u001b[0m\u001b[1;33m)\u001b[0m\u001b[1;33m\u001b[0m\u001b[1;33m\u001b[0m\u001b[0m\n\u001b[0m\u001b[0;32m    508\u001b[0m \u001b[1;33m\u001b[0m\u001b[0m\n\u001b[0;32m    509\u001b[0m     \u001b[0mfirst_bar_x\u001b[0m \u001b[1;33m=\u001b[0m \u001b[0mmin\u001b[0m\u001b[1;33m(\u001b[0m\u001b[0mbars_start\u001b[0m\u001b[1;33m)\u001b[0m\u001b[1;33m\u001b[0m\u001b[1;33m\u001b[0m\u001b[0m\n",
      "\u001b[1;32m~\\Desktop\\Artificial Intelligence - Master degree\\First year\\Computer Vision and Image Processing\\Project\\Barcodes-verification\\3) Quality parameters computation\\0) APIs.py\u001b[0m in \u001b[0;36m_algorithm1\u001b[1;34m(ROI_thresh, bb_width, bb_height)\u001b[0m\n\u001b[0;32m    586\u001b[0m         \u001b[1;31m# We go right, till finding a white pixel.\u001b[0m\u001b[1;33m\u001b[0m\u001b[1;33m\u001b[0m\u001b[1;33m\u001b[0m\u001b[0m\n\u001b[0;32m    587\u001b[0m         \u001b[1;31m# In this way, we compute the width of this current bar.\u001b[0m\u001b[1;33m\u001b[0m\u001b[1;33m\u001b[0m\u001b[1;33m\u001b[0m\u001b[0m\n\u001b[1;32m--> 588\u001b[1;33m         \u001b[1;32mwhile\u001b[0m \u001b[0mROI_thresh\u001b[0m\u001b[1;33m[\u001b[0m\u001b[0mhalf_height_index\u001b[0m\u001b[1;33m,\u001b[0m \u001b[0mi_end\u001b[0m\u001b[1;33m]\u001b[0m\u001b[1;33m==\u001b[0m\u001b[1;36m0\u001b[0m\u001b[1;33m:\u001b[0m\u001b[1;33m\u001b[0m\u001b[1;33m\u001b[0m\u001b[0m\n\u001b[0m\u001b[0;32m    589\u001b[0m             \u001b[0mX_curr\u001b[0m \u001b[1;33m+=\u001b[0m \u001b[1;36m1\u001b[0m\u001b[1;33m\u001b[0m\u001b[1;33m\u001b[0m\u001b[0m\n\u001b[0;32m    590\u001b[0m             \u001b[0mi_end\u001b[0m \u001b[1;33m+=\u001b[0m \u001b[1;36m1\u001b[0m\u001b[1;33m\u001b[0m\u001b[1;33m\u001b[0m\u001b[0m\n",
      "\u001b[1;31mIndexError\u001b[0m: index 1434 is out of bounds for axis 1 with size 1434"
     ]
    }
   ],
   "source": [
    "%%time\n",
    "image_path = f'../other images/3.jpg'\n",
    "roi_image_ref, bb_points_sorted_rot_ref, bb_width_ref, bb_height_ref = detect_and_refine_boundingBox(image_path, visualization_dict=None, verbose_timing=True)"
   ]
  },
  {
   "cell_type": "code",
   "execution_count": 88,
   "id": "c75398fb",
   "metadata": {},
   "outputs": [
    {
     "name": "stdout",
     "output_type": "stream",
     "text": [
      "Computing roi time: 0.0039997100830078125\n",
      "Rotating image and bounding box time: 0.0\n",
      "Fixing horizontal bars case time: 0.0010013580322265625\n",
      "Computing barcode structure time: 0.007069587707519531\n",
      "Fixing wrong bar case time: 0.0\n",
      "Refining roi image and bounding box time: 0.0\n",
      "Wall time: 15 ms\n"
     ]
    }
   ],
   "source": [
    "%%time\n",
    "image_path = f'../other images/4.jpg'\n",
    "roi_image_ref, bb_points_sorted_rot_ref, bb_width_ref, bb_height_ref = detect_and_refine_boundingBox(image_path, visualization_dict=None, verbose_timing=True)"
   ]
  },
  {
   "cell_type": "code",
   "execution_count": 89,
   "id": "b5aa9128",
   "metadata": {},
   "outputs": [
    {
     "name": "stdout",
     "output_type": "stream",
     "text": [
      "Computing roi time: 0.03900289535522461\n",
      "Rotating image and bounding box time: 0.010558843612670898\n",
      "Fixing horizontal bars case time: 0.014999866485595703\n",
      "Computing barcode structure time: 0.01761913299560547\n",
      "Fixing wrong bar case time: 0.0009913444519042969\n",
      "Refining roi image and bounding box time: 0.0\n",
      "Wall time: 104 ms\n"
     ]
    }
   ],
   "source": [
    "%%time\n",
    "image_path = f'../other images/5.jpg'\n",
    "roi_image_ref, bb_points_sorted_rot_ref, bb_width_ref, bb_height_ref = detect_and_refine_boundingBox(image_path, visualization_dict=None, verbose_timing=True)"
   ]
  },
  {
   "cell_type": "code",
   "execution_count": 90,
   "id": "931408d9",
   "metadata": {},
   "outputs": [
    {
     "ename": "IndexError",
     "evalue": "list index out of range",
     "output_type": "error",
     "traceback": [
      "\u001b[1;31m---------------------------------------------------------------------------\u001b[0m",
      "\u001b[1;31mIndexError\u001b[0m                                Traceback (most recent call last)",
      "\u001b[1;32m<timed exec>\u001b[0m in \u001b[0;36m<module>\u001b[1;34m\u001b[0m\n",
      "\u001b[1;32m~\\Desktop\\Artificial Intelligence - Master degree\\First year\\Computer Vision and Image Processing\\Project\\Barcodes-verification\\3) Quality parameters computation\\0) APIs.py\u001b[0m in \u001b[0;36mdetect_and_refine_boundingBox\u001b[1;34m(image_path, use_same_threshold, compute_barcode_structure_algorithm, verbose_timing, outlier_detection_level, visualization_dict)\u001b[0m\n\u001b[0;32m     76\u001b[0m \u001b[1;33m\u001b[0m\u001b[0m\n\u001b[0;32m     77\u001b[0m     \u001b[1;31m# 1) DETECT ROI\u001b[0m\u001b[1;33m\u001b[0m\u001b[1;33m\u001b[0m\u001b[1;33m\u001b[0m\u001b[0m\n\u001b[1;32m---> 78\u001b[1;33m     bb_points_sorted, bb_width, bb_height, threshold = detect_boundingBox(image, \n\u001b[0m\u001b[0;32m     79\u001b[0m                                             visualize_bounding_box=visualization_dict['visualize_original_image_boundingBox'])\n\u001b[0;32m     80\u001b[0m     \u001b[0mdetecting_bb_end_time\u001b[0m \u001b[1;33m=\u001b[0m \u001b[0mtime\u001b[0m\u001b[1;33m.\u001b[0m\u001b[0mtime\u001b[0m\u001b[1;33m(\u001b[0m\u001b[1;33m)\u001b[0m\u001b[1;33m\u001b[0m\u001b[1;33m\u001b[0m\u001b[0m\n",
      "\u001b[1;32m~\\Desktop\\Artificial Intelligence - Master degree\\First year\\Computer Vision and Image Processing\\Project\\Barcodes-verification\\3) Quality parameters computation\\0) APIs.py\u001b[0m in \u001b[0;36mdetect_boundingBox\u001b[1;34m(image, visualize_bounding_box)\u001b[0m\n\u001b[0;32m    235\u001b[0m     \u001b[0mcnts\u001b[0m \u001b[1;33m=\u001b[0m \u001b[0mcv2\u001b[0m\u001b[1;33m.\u001b[0m\u001b[0mfindContours\u001b[0m\u001b[1;33m(\u001b[0m\u001b[0mdilated\u001b[0m\u001b[1;33m.\u001b[0m\u001b[0mcopy\u001b[0m\u001b[1;33m(\u001b[0m\u001b[1;33m)\u001b[0m\u001b[1;33m,\u001b[0m \u001b[0mcv2\u001b[0m\u001b[1;33m.\u001b[0m\u001b[0mRETR_EXTERNAL\u001b[0m\u001b[1;33m,\u001b[0m \u001b[0mcv2\u001b[0m\u001b[1;33m.\u001b[0m\u001b[0mCHAIN_APPROX_SIMPLE\u001b[0m\u001b[1;33m)\u001b[0m\u001b[1;33m\u001b[0m\u001b[1;33m\u001b[0m\u001b[0m\n\u001b[0;32m    236\u001b[0m     \u001b[0mcnts\u001b[0m \u001b[1;33m=\u001b[0m \u001b[0mimutils\u001b[0m\u001b[1;33m.\u001b[0m\u001b[0mgrab_contours\u001b[0m\u001b[1;33m(\u001b[0m\u001b[0mcnts\u001b[0m\u001b[1;33m)\u001b[0m\u001b[1;33m\u001b[0m\u001b[1;33m\u001b[0m\u001b[0m\n\u001b[1;32m--> 237\u001b[1;33m     \u001b[0mc\u001b[0m \u001b[1;33m=\u001b[0m \u001b[0msorted\u001b[0m\u001b[1;33m(\u001b[0m\u001b[0mcnts\u001b[0m\u001b[1;33m,\u001b[0m \u001b[0mkey\u001b[0m \u001b[1;33m=\u001b[0m \u001b[0mcv2\u001b[0m\u001b[1;33m.\u001b[0m\u001b[0mcontourArea\u001b[0m\u001b[1;33m,\u001b[0m \u001b[0mreverse\u001b[0m \u001b[1;33m=\u001b[0m \u001b[1;32mTrue\u001b[0m\u001b[1;33m)\u001b[0m\u001b[1;33m[\u001b[0m\u001b[1;36m0\u001b[0m\u001b[1;33m]\u001b[0m\u001b[1;33m\u001b[0m\u001b[1;33m\u001b[0m\u001b[0m\n\u001b[0m\u001b[0;32m    238\u001b[0m     \u001b[1;31m# Compute the rotated bounding box of the largest contour\u001b[0m\u001b[1;33m\u001b[0m\u001b[1;33m\u001b[0m\u001b[1;33m\u001b[0m\u001b[0m\n\u001b[0;32m    239\u001b[0m     \u001b[0mrect\u001b[0m \u001b[1;33m=\u001b[0m \u001b[0mcv2\u001b[0m\u001b[1;33m.\u001b[0m\u001b[0mminAreaRect\u001b[0m\u001b[1;33m(\u001b[0m\u001b[0mc\u001b[0m\u001b[1;33m)\u001b[0m\u001b[1;33m\u001b[0m\u001b[1;33m\u001b[0m\u001b[0m\n",
      "\u001b[1;31mIndexError\u001b[0m: list index out of range"
     ]
    }
   ],
   "source": [
    "%%time\n",
    "image_path = f'../other images/6.png'\n",
    "roi_image_ref, bb_points_sorted_rot_ref, bb_width_ref, bb_height_ref = detect_and_refine_boundingBox(image_path, visualization_dict=None, verbose_timing=True)"
   ]
  },
  {
   "cell_type": "code",
   "execution_count": 91,
   "id": "20673d7c",
   "metadata": {},
   "outputs": [
    {
     "name": "stdout",
     "output_type": "stream",
     "text": [
      "Computing roi time: 0.009097099304199219\n",
      "Rotating image and bounding box time: 0.0\n",
      "Fixing horizontal bars case time: 0.0019996166229248047\n",
      "Computing barcode structure time: 0.01907181739807129\n",
      "Fixing wrong bar case time: 0.00099945068359375\n",
      "Refining roi image and bounding box time: 0.0\n",
      "Wall time: 37.2 ms\n"
     ]
    }
   ],
   "source": [
    "%%time\n",
    "image_path = f'../other images/7.jpg'\n",
    "roi_image_ref, bb_points_sorted_rot_ref, bb_width_ref, bb_height_ref = detect_and_refine_boundingBox(image_path, visualization_dict=None, verbose_timing=True)"
   ]
  },
  {
   "cell_type": "code",
   "execution_count": 92,
   "id": "6dc76419",
   "metadata": {},
   "outputs": [
    {
     "name": "stdout",
     "output_type": "stream",
     "text": [
      "Computing roi time: 0.0009958744049072266\n",
      "Rotating image and bounding box time: 0.0\n",
      "Fixing horizontal bars case time: 0.0\n",
      "Computing barcode structure time: 0.00999903678894043\n",
      "Fixing wrong bar case time: 0.0\n",
      "Refining roi image and bounding box time: 0.0\n",
      "Wall time: 13 ms\n"
     ]
    }
   ],
   "source": [
    "%%time\n",
    "image_path = f'../other images/8.png'\n",
    "roi_image_ref, bb_points_sorted_rot_ref, bb_width_ref, bb_height_ref = detect_and_refine_boundingBox(image_path, visualization_dict=None, verbose_timing=True)"
   ]
  }
 ],
 "metadata": {
  "kernelspec": {
   "display_name": "Python 3",
   "language": "python",
   "name": "python3"
  },
  "language_info": {
   "codemirror_mode": {
    "name": "ipython",
    "version": 3
   },
   "file_extension": ".py",
   "mimetype": "text/x-python",
   "name": "python",
   "nbconvert_exporter": "python",
   "pygments_lexer": "ipython3",
   "version": "3.8.8"
  },
  "vscode": {
   "interpreter": {
    "hash": "d14990a399795653de35f1f5395269163893147857e74010bc072f6042c8e8da"
   }
  }
 },
 "nbformat": 4,
 "nbformat_minor": 5
}
