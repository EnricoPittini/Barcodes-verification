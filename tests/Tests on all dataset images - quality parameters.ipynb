{
 "cells": [
  {
   "cell_type": "markdown",
   "id": "52777408",
   "metadata": {},
   "source": [
    "For each dataset image, the `verify_barcode` function is tested, by performing all the steps and computing the quality parameters."
   ]
  },
  {
   "cell_type": "markdown",
   "id": "195ce209",
   "metadata": {},
   "source": [
    "### Import"
   ]
  },
  {
   "cell_type": "code",
   "execution_count": 6,
   "id": "0af156fc",
   "metadata": {},
   "outputs": [],
   "source": [
    "# Importing the python module 'src/verify_barcode.py' (for Windows)\n",
    "\n",
    "# Absolute path to the python file 'verify_barcode' inside the 'src' folder (in Windows)\n",
    "import pathlib\n",
    "file_abs_path = '\\\\'.join(str(pathlib.Path().resolve()).split('\\\\')[:-1]) + '\\\\src'\n",
    "\n",
    "import sys\n",
    "sys.path.insert(1, file_abs_path)\n",
    "\n",
    "from verify_barcode import verify_barcode"
   ]
  },
  {
   "cell_type": "markdown",
   "id": "a0e67a29",
   "metadata": {},
   "source": [
    "### List with all the dataset images"
   ]
  },
  {
   "cell_type": "code",
   "execution_count": 7,
   "id": "620e59c1",
   "metadata": {},
   "outputs": [
    {
     "data": {
      "text/plain": [
       "'TestChart.xls'"
      ]
     },
     "execution_count": 7,
     "metadata": {},
     "output_type": "execute_result"
    }
   ],
   "source": [
    "from os import listdir\n",
    "from os.path import isfile, join\n",
    "images_paths = [f for f in listdir('../dataset') if isfile(join('../dataset', f))]\n",
    "images_paths.pop(21)  # Removing the excel file"
   ]
  },
  {
   "cell_type": "markdown",
   "id": "96c00fe4",
   "metadata": {},
   "source": [
    "### Auxiliary function for the pretty-printing of the quality parameters"
   ]
  },
  {
   "cell_type": "code",
   "execution_count": 8,
   "id": "aa388d70",
   "metadata": {},
   "outputs": [],
   "source": [
    "def print_quality_parameters(overall_quality_parameters_dict):\n",
    "    n_scanlines = 10\n",
    "    print('Scanline grades:', [overall_quality_parameters_dict[f'scanline_{i}']['scanline_grade'] \n",
    "                               for i in range(n_scanlines)])\n",
    "\n",
    "    print('OVERALL_NUMERICAL_VALUE:', overall_quality_parameters_dict['OVERALL_NUMERICAL_VALUE'])\n",
    "    print('OVERALL_NUMERICAL_GRADE:', overall_quality_parameters_dict['OVERALL_SYMBOL_GRADE'])\n",
    "    print()\n",
    "\n",
    "    print('R_min_MEAN:', overall_quality_parameters_dict['R_min_MEAN'])\n",
    "    print('R_min_MEAN_grade:', overall_quality_parameters_dict['R_min_MEAN_grade'])\n",
    "    print()\n",
    "\n",
    "    print('SC_MEAN:', overall_quality_parameters_dict['SC_MEAN'])\n",
    "    print('SC_MEAN_grade:', overall_quality_parameters_dict['SC_MEAN_grade'])\n",
    "    print()\n",
    "\n",
    "    print('EC_min_MEAN:', overall_quality_parameters_dict['EC_min_MEAN'])\n",
    "    print('EC_min_MEAN_grade:', overall_quality_parameters_dict['EC_min_MEAN_grade'])\n",
    "    print()\n",
    "\n",
    "    print('MODULATION_MEAN:', overall_quality_parameters_dict['MODULATION_MEAN'])\n",
    "    print('MODULATION_MEAN_grade:', overall_quality_parameters_dict['MODULATION_MEAN_grade'])\n",
    "    print()\n",
    "\n",
    "    print('DEFECT_MEAN:', overall_quality_parameters_dict['DEFECT_MEAN'])\n",
    "    print('DEFECT_MEAN_grade:', overall_quality_parameters_dict['DEFECT_MEAN_grade'])"
   ]
  },
  {
   "cell_type": "markdown",
   "id": "47541701",
   "metadata": {},
   "source": [
    "### Tests"
   ]
  },
  {
   "cell_type": "code",
   "execution_count": 9,
   "id": "bbe215cb",
   "metadata": {},
   "outputs": [
    {
     "name": "stdout",
     "output_type": "stream",
     "text": [
      "../dataset/C128_4.4LOW.BMP\n",
      "\n",
      "Scanline grades: ['D', 'C', 'D', 'F', 'D', 'D', 'D', 'D', 'F', 'D']\n",
      "OVERALL_NUMERICAL_VALUE: 0.9\n",
      "OVERALL_NUMERICAL_GRADE: D\n",
      "\n",
      "R_min_MEAN: 8.352941176470587\n",
      "R_min_MEAN_grade: A\n",
      "\n",
      "SC_MEAN: 73.37254901960783\n",
      "SC_MEAN_grade: A\n",
      "\n",
      "EC_min_MEAN: 40.196078431372555\n",
      "EC_min_MEAN_grade: A\n",
      "\n",
      "MODULATION_MEAN: 0.5485784136717923\n",
      "MODULATION_MEAN_grade: C\n",
      "\n",
      "DEFECT_MEAN: 0.27430877621030425\n",
      "DEFECT_MEAN_grade: D\n"
     ]
    }
   ],
   "source": [
    "# ACTUAL QUALITY PARAMETERS VALUES WRITTEN IN THE EXCEL FILE\n",
    "#    - SC: 74.9, 80. GRADE 'A'\n",
    "#    - MODULATION: 55.2, 62.1. GRADE 'C' (Between 'C' and 'B')\n",
    "#    - DEFECT: 22.4, 21.7. GRADE 'C'\n",
    "\n",
    "image_path = f'../dataset/{images_paths[0]}'\n",
    "print(image_path)\n",
    "print()\n",
    "detection_dict, rotation_dict, refinement_dict, overall_quality_parameters_dict = verify_barcode(image_path)\n",
    "print_quality_parameters(overall_quality_parameters_dict)"
   ]
  },
  {
   "cell_type": "code",
   "execution_count": 10,
   "id": "582a8ac7",
   "metadata": {},
   "outputs": [
    {
     "name": "stdout",
     "output_type": "stream",
     "text": [
      "../dataset/C128_4.4UP.BMP\n",
      "\n",
      "Scanline grades: ['B', 'B', 'B', 'B', 'C', 'B', 'B', 'B', 'B', 'B']\n",
      "OVERALL_NUMERICAL_VALUE: 2.9\n",
      "OVERALL_NUMERICAL_GRADE: B\n",
      "\n",
      "R_min_MEAN: 7.921568627450981\n",
      "R_min_MEAN_grade: A\n",
      "\n",
      "SC_MEAN: 73.45098039215685\n",
      "SC_MEAN_grade: A\n",
      "\n",
      "EC_min_MEAN: 45.01960784313726\n",
      "EC_min_MEAN_grade: A\n",
      "\n",
      "MODULATION_MEAN: 0.6130123058291123\n",
      "MODULATION_MEAN_grade: B\n",
      "\n",
      "DEFECT_MEAN: 0.11105010218844151\n",
      "DEFECT_MEAN_grade: A\n"
     ]
    }
   ],
   "source": [
    "# ACTUAL QUALITY PARAMETERS VALUES WRITTEN IN THE EXCEL FILE\n",
    "#    - SC: 74.8, 78.9. GRADE 'A'\n",
    "#    - MODULATION: 65.4, 63.2. GRADE 'B' \n",
    "#    - DEFECT: 3.4, 3.4. GRADE 'A'\n",
    "\n",
    "image_path = f'../dataset/{images_paths[1]}'\n",
    "print(image_path)\n",
    "print()\n",
    "detection_dict, rotation_dict, refinement_dict, overall_quality_parameters_dict = verify_barcode(image_path)\n",
    "print_quality_parameters(overall_quality_parameters_dict)"
   ]
  },
  {
   "cell_type": "code",
   "execution_count": 11,
   "id": "10071349",
   "metadata": {},
   "outputs": [
    {
     "name": "stdout",
     "output_type": "stream",
     "text": [
      "../dataset/C128_7.5LOW.BMP\n",
      "\n",
      "Scanline grades: ['C', 'B', 'C', 'C', 'C', 'C', 'C', 'C', 'C', 'C']\n",
      "OVERALL_NUMERICAL_VALUE: 2.1\n",
      "OVERALL_NUMERICAL_GRADE: C\n",
      "\n",
      "R_min_MEAN: 0.8627450980392158\n",
      "R_min_MEAN_grade: A\n",
      "\n",
      "SC_MEAN: 73.52941176470588\n",
      "SC_MEAN_grade: A\n",
      "\n",
      "EC_min_MEAN: 45.72549019607843\n",
      "EC_min_MEAN_grade: A\n",
      "\n",
      "MODULATION_MEAN: 0.6219466002731833\n",
      "MODULATION_MEAN_grade: B\n",
      "\n",
      "DEFECT_MEAN: 0.21447096498644025\n",
      "DEFECT_MEAN_grade: C\n"
     ]
    }
   ],
   "source": [
    "# ACTUAL QUALITY PARAMETERS VALUES WRITTEN IN THE EXCEL FILE\n",
    "#    - SC: 76.4, 76.7. GRADE 'A'\n",
    "#    - MODULATION: 57.4, 74.7. GRADE 'B' (mean) \n",
    "#    - DEFECT: 22.6, 22.9. GRADE 'C'\n",
    "\n",
    "image_path = f'../dataset/{images_paths[2]}'\n",
    "print(image_path)\n",
    "print()\n",
    "detection_dict, rotation_dict, refinement_dict, overall_quality_parameters_dict = verify_barcode(image_path)\n",
    "print_quality_parameters(overall_quality_parameters_dict)"
   ]
  },
  {
   "cell_type": "code",
   "execution_count": 12,
   "id": "d2858452",
   "metadata": {},
   "outputs": [
    {
     "name": "stdout",
     "output_type": "stream",
     "text": [
      "../dataset/C128_7.5UP.BMP\n",
      "\n",
      "Scanline grades: ['C', 'B', 'B', 'B', 'B', 'B', 'B', 'B', 'B', 'B']\n",
      "OVERALL_NUMERICAL_VALUE: 2.9\n",
      "OVERALL_NUMERICAL_GRADE: B\n",
      "\n",
      "R_min_MEAN: 0.39215686274509803\n",
      "R_min_MEAN_grade: A\n",
      "\n",
      "SC_MEAN: 75.41176470588235\n",
      "SC_MEAN_grade: A\n",
      "\n",
      "EC_min_MEAN: 47.21568627450981\n",
      "EC_min_MEAN_grade: A\n",
      "\n",
      "MODULATION_MEAN: 0.6262455936944757\n",
      "MODULATION_MEAN_grade: B\n",
      "\n",
      "DEFECT_MEAN: 0.08156657925367475\n",
      "DEFECT_MEAN_grade: A\n"
     ]
    }
   ],
   "source": [
    "# ACTUAL QUALITY PARAMETERS VALUES WRITTEN IN THE EXCEL FILE\n",
    "#    - SC: 76, 75.3. GRADE 'A'\n",
    "#    - MODULATION: 77.9, 77.5. GRADE 'A'  \n",
    "#    - DEFECT: 0.9, 2.4. GRADE 'A'\n",
    "\n",
    "image_path = f'../dataset/{images_paths[3]}'\n",
    "print(image_path)\n",
    "print()\n",
    "detection_dict, rotation_dict, refinement_dict, overall_quality_parameters_dict = verify_barcode(image_path)\n",
    "print_quality_parameters(overall_quality_parameters_dict)"
   ]
  },
  {
   "cell_type": "code",
   "execution_count": 13,
   "id": "3cadd057",
   "metadata": {},
   "outputs": [
    {
     "name": "stdout",
     "output_type": "stream",
     "text": [
      "../dataset/C39_4.4LOW.BMP\n",
      "\n",
      "Scanline grades: ['D', 'D', 'D', 'D', 'D', 'D', 'D', 'D', 'D', 'D']\n",
      "OVERALL_NUMERICAL_VALUE: 1.0\n",
      "OVERALL_NUMERICAL_GRADE: D\n",
      "\n",
      "R_min_MEAN: 1.7254901960784312\n",
      "R_min_MEAN_grade: A\n",
      "\n",
      "SC_MEAN: 73.33333333333334\n",
      "SC_MEAN_grade: A\n",
      "\n",
      "EC_min_MEAN: 34.03921568627452\n",
      "EC_min_MEAN_grade: A\n",
      "\n",
      "MODULATION_MEAN: 0.4643966909102472\n",
      "MODULATION_MEAN_grade: D\n",
      "\n",
      "DEFECT_MEAN: 0.20340539184183867\n",
      "DEFECT_MEAN_grade: C\n"
     ]
    }
   ],
   "source": [
    "# ACTUAL QUALITY PARAMETERS VALUES WRITTEN IN THE EXCEL FILE\n",
    "#    - SC: 74.9, 80. GRADE 'A'\n",
    "#    - MODULATION: 55.2, 62.1. GRADE 'C' (mean)  \n",
    "#    - DEFECT: 22.4, 21.7 GRADE 'C'\n",
    "\n",
    "image_path = f'../dataset/{images_paths[4]}'\n",
    "print(image_path)\n",
    "print()\n",
    "detection_dict, rotation_dict, refinement_dict, overall_quality_parameters_dict = verify_barcode(image_path)\n",
    "print_quality_parameters(overall_quality_parameters_dict)"
   ]
  },
  {
   "cell_type": "code",
   "execution_count": 14,
   "id": "78937ebc",
   "metadata": {},
   "outputs": [
    {
     "name": "stdout",
     "output_type": "stream",
     "text": [
      "../dataset/C39_4.4UP.BMP\n",
      "\n",
      "Scanline grades: ['C', 'C', 'C', 'C', 'C', 'C', 'C', 'C', 'C', 'C']\n",
      "OVERALL_NUMERICAL_VALUE: 2.0\n",
      "OVERALL_NUMERICAL_GRADE: C\n",
      "\n",
      "R_min_MEAN: 1.1372549019607845\n",
      "R_min_MEAN_grade: A\n",
      "\n",
      "SC_MEAN: 73.33333333333334\n",
      "SC_MEAN_grade: A\n",
      "\n",
      "EC_min_MEAN: 43.17647058823529\n",
      "EC_min_MEAN_grade: A\n",
      "\n",
      "MODULATION_MEAN: 0.5887808491084232\n",
      "MODULATION_MEAN_grade: C\n",
      "\n",
      "DEFECT_MEAN: 0.0636086581587431\n",
      "DEFECT_MEAN_grade: A\n"
     ]
    }
   ],
   "source": [
    "# ACTUAL QUALITY PARAMETERS VALUES WRITTEN IN THE EXCEL FILE\n",
    "#    - SC: 74.8, 78.9. GRADE 'A'\n",
    "#    - MODULATION: 65.4, 63.2. GRADE 'B' \n",
    "#    - DEFECT: 3.4, 3.4 GRADE 'A'\n",
    "\n",
    "image_path = f'../dataset/{images_paths[5]}'\n",
    "print(image_path)\n",
    "print()\n",
    "detection_dict, rotation_dict, refinement_dict, overall_quality_parameters_dict = verify_barcode(image_path)\n",
    "print_quality_parameters(overall_quality_parameters_dict)"
   ]
  },
  {
   "cell_type": "code",
   "execution_count": 15,
   "id": "a1865921",
   "metadata": {},
   "outputs": [
    {
     "name": "stdout",
     "output_type": "stream",
     "text": [
      "../dataset/C39_7.5LOW.BMP\n",
      "\n",
      "Scanline grades: ['F', 'F', 'F', 'F', 'F', 'F', 'F', 'F', 'F', 'F']\n",
      "OVERALL_NUMERICAL_VALUE: 0.0\n",
      "OVERALL_NUMERICAL_GRADE: F\n",
      "\n",
      "R_min_MEAN: 0.1568627450980392\n",
      "R_min_MEAN_grade: A\n",
      "\n",
      "SC_MEAN: 75.92156862745098\n",
      "SC_MEAN_grade: A\n",
      "\n",
      "EC_min_MEAN: 47.372549019607845\n",
      "EC_min_MEAN_grade: A\n",
      "\n",
      "MODULATION_MEAN: 0.6240311518222108\n",
      "MODULATION_MEAN_grade: B\n",
      "\n",
      "DEFECT_MEAN: 0.3399363875776991\n",
      "DEFECT_MEAN_grade: F\n"
     ]
    }
   ],
   "source": [
    "# ACTUAL QUALITY PARAMETERS VALUES WRITTEN IN THE EXCEL FILE\n",
    "#    - SC: 76.4, 76.7. GRADE 'A'\n",
    "#    - MODULATION: 57.4, 74.7. GRADE 'B' (mean) \n",
    "#    - DEFECT: 22.6, 22.9 GRADE 'C'\n",
    "\n",
    "image_path = f'../dataset/{images_paths[6]}'\n",
    "print(image_path)\n",
    "print()\n",
    "detection_dict, rotation_dict, refinement_dict, overall_quality_parameters_dict = verify_barcode(image_path)\n",
    "print_quality_parameters(overall_quality_parameters_dict)"
   ]
  },
  {
   "cell_type": "code",
   "execution_count": 16,
   "id": "f9a1edf3",
   "metadata": {},
   "outputs": [
    {
     "name": "stdout",
     "output_type": "stream",
     "text": [
      "\n",
      "Scanline grades: ['A', 'B', 'A', 'A', 'A', 'A', 'A', 'A', 'A', 'A']\n",
      "OVERALL_NUMERICAL_VALUE: 3.9\n",
      "OVERALL_NUMERICAL_GRADE: A\n",
      "\n",
      "R_min_MEAN: 0.23529411764705882\n",
      "R_min_MEAN_grade: A\n",
      "\n",
      "SC_MEAN: 76.43137254901961\n",
      "SC_MEAN_grade: A\n",
      "\n",
      "EC_min_MEAN: 54.196078431372555\n",
      "EC_min_MEAN_grade: A\n",
      "\n",
      "MODULATION_MEAN: 0.7091561206343975\n",
      "MODULATION_MEAN_grade: A\n",
      "\n",
      "DEFECT_MEAN: 0.08210110862586942\n",
      "DEFECT_MEAN_grade: A\n"
     ]
    }
   ],
   "source": [
    "# ACTUAL QUALITY PARAMETERS VALUES WRITTEN IN THE EXCEL FILE\n",
    "#    - SC: 76, 75.3. GRADE 'A'\n",
    "#    - MODULATION: 77.9, 77.5. GRADE 'A' \n",
    "#    - DEFECT: 0.9, 2.4 GRADE 'A'\n",
    "\n",
    "image_path = f'../dataset/{images_paths[7]}'\n",
    "print()\n",
    "detection_dict, rotation_dict, refinement_dict, overall_quality_parameters_dict = verify_barcode(image_path)\n",
    "print_quality_parameters(overall_quality_parameters_dict)"
   ]
  },
  {
   "cell_type": "code",
   "execution_count": 17,
   "id": "38dd8f3c",
   "metadata": {},
   "outputs": [
    {
     "name": "stdout",
     "output_type": "stream",
     "text": [
      "\n",
      "Scanline grades: ['C', 'C', 'C', 'C', 'C', 'C', 'C', 'C', 'C', 'C']\n",
      "OVERALL_NUMERICAL_VALUE: 2.0\n",
      "OVERALL_NUMERICAL_GRADE: C\n",
      "\n",
      "R_min_MEAN: 10.705882352941178\n",
      "R_min_MEAN_grade: A\n",
      "\n",
      "SC_MEAN: 46.23529411764706\n",
      "SC_MEAN_grade: C\n",
      "\n",
      "EC_min_MEAN: 33.803921568627445\n",
      "EC_min_MEAN_grade: A\n",
      "\n",
      "MODULATION_MEAN: 0.7315534193279983\n",
      "MODULATION_MEAN_grade: A\n",
      "\n",
      "DEFECT_MEAN: 0.08980376780033018\n",
      "DEFECT_MEAN_grade: A\n"
     ]
    }
   ],
   "source": [
    "# ACTUAL QUALITY PARAMETERS VALUES WRITTEN IN THE EXCEL FILE\n",
    "#    - SC: 48.7. GRADE 'C'\n",
    "#    - MODULATION: 80.7. GRADE 'A' \n",
    "#    - DEFECT: 0.0 GRADE 'A'\n",
    "\n",
    "image_path = f'../dataset/{images_paths[8]}'\n",
    "print()\n",
    "detection_dict, rotation_dict, refinement_dict, overall_quality_parameters_dict = verify_barcode(image_path)\n",
    "print_quality_parameters(overall_quality_parameters_dict)"
   ]
  },
  {
   "cell_type": "code",
   "execution_count": 18,
   "id": "17f33174",
   "metadata": {},
   "outputs": [
    {
     "name": "stdout",
     "output_type": "stream",
     "text": [
      "\n",
      "Scanline grades: ['A', 'A', 'A', 'A', 'A', 'A', 'A', 'A', 'A', 'A']\n",
      "OVERALL_NUMERICAL_VALUE: 4.0\n",
      "OVERALL_NUMERICAL_GRADE: A\n",
      "\n",
      "R_min_MEAN: 8.196078431372548\n",
      "R_min_MEAN_grade: A\n",
      "\n",
      "SC_MEAN: 76.86274509803921\n",
      "SC_MEAN_grade: A\n",
      "\n",
      "EC_min_MEAN: 57.921568627450974\n",
      "EC_min_MEAN_grade: A\n",
      "\n",
      "MODULATION_MEAN: 0.7537256528431059\n",
      "MODULATION_MEAN_grade: A\n",
      "\n",
      "DEFECT_MEAN: 0.05409034188616273\n",
      "DEFECT_MEAN_grade: A\n"
     ]
    }
   ],
   "source": [
    "# ACTUAL QUALITY PARAMETERS VALUES WRITTEN IN THE EXCEL FILE\n",
    "#    - SC: 80.7. GRADE 'A'\n",
    "#    - MODULATION: 85. GRADE 'A' \n",
    "#    - DEFECT: 1.7 GRADE 'A'\n",
    "\n",
    "image_path = f'../dataset/{images_paths[9]}'\n",
    "print()\n",
    "detection_dict, rotation_dict, refinement_dict, overall_quality_parameters_dict = verify_barcode(image_path)\n",
    "print_quality_parameters(overall_quality_parameters_dict)"
   ]
  },
  {
   "cell_type": "code",
   "execution_count": 19,
   "id": "ce006b38",
   "metadata": {},
   "outputs": [
    {
     "name": "stdout",
     "output_type": "stream",
     "text": [
      "\n",
      "Scanline grades: ['C', 'C', 'B', 'C', 'B', 'B', 'B', 'C', 'C', 'B']\n",
      "OVERALL_NUMERICAL_VALUE: 2.5\n",
      "OVERALL_NUMERICAL_GRADE: B\n",
      "\n",
      "R_min_MEAN: 7.84313725490196\n",
      "R_min_MEAN_grade: A\n",
      "\n",
      "SC_MEAN: 80.27450980392157\n",
      "SC_MEAN_grade: A\n",
      "\n",
      "EC_min_MEAN: 57.72549019607842\n",
      "EC_min_MEAN_grade: A\n",
      "\n",
      "MODULATION_MEAN: 0.7191001461681876\n",
      "MODULATION_MEAN_grade: A\n",
      "\n",
      "DEFECT_MEAN: 0.20124684951918947\n",
      "DEFECT_MEAN_grade: C\n"
     ]
    }
   ],
   "source": [
    "# ACTUAL QUALITY PARAMETERS VALUES WRITTEN IN THE EXCEL FILE\n",
    "#    - SC: 78.5, GRADE 'A'\n",
    "#    - MODULATION: 86.4. GRADE 'A' \n",
    "#    - DEFECT: 22.3 GRADE 'C'\n",
    "\n",
    "image_path = f'../dataset/{images_paths[10]}'\n",
    "print()\n",
    "detection_dict, rotation_dict, refinement_dict, overall_quality_parameters_dict = verify_barcode(image_path)\n",
    "print_quality_parameters(overall_quality_parameters_dict)"
   ]
  },
  {
   "cell_type": "code",
   "execution_count": 20,
   "id": "91f92e78",
   "metadata": {},
   "outputs": [
    {
     "name": "stdout",
     "output_type": "stream",
     "text": [
      "\n",
      "Scanline grades: ['A', 'A', 'A', 'A', 'A', 'A', 'A', 'A', 'A', 'A']\n",
      "OVERALL_NUMERICAL_VALUE: 4.0\n",
      "OVERALL_NUMERICAL_GRADE: A\n",
      "\n",
      "R_min_MEAN: 7.882352941176469\n",
      "R_min_MEAN_grade: A\n",
      "\n",
      "SC_MEAN: 77.33333333333334\n",
      "SC_MEAN_grade: A\n",
      "\n",
      "EC_min_MEAN: 56.98039215686274\n",
      "EC_min_MEAN_grade: A\n",
      "\n",
      "MODULATION_MEAN: 0.7368771007046163\n",
      "MODULATION_MEAN_grade: A\n",
      "\n",
      "DEFECT_MEAN: 0.07031856969238623\n",
      "DEFECT_MEAN_grade: A\n"
     ]
    }
   ],
   "source": [
    "# ACTUAL QUALITY PARAMETERS VALUES WRITTEN IN THE EXCEL FILE\n",
    "#    - SC: 74.9, 80. GRADE 'A'\n",
    "#    - MODULATION: 85.4. GRADE 'A' \n",
    "#    - DEFECT: n.a. \n",
    "\n",
    "image_path = f'../dataset/{images_paths[11]}'\n",
    "print()\n",
    "detection_dict, rotation_dict, refinement_dict, overall_quality_parameters_dict = verify_barcode(image_path)\n",
    "print_quality_parameters(overall_quality_parameters_dict)"
   ]
  },
  {
   "cell_type": "code",
   "execution_count": 21,
   "id": "a1bf0b73",
   "metadata": {},
   "outputs": [
    {
     "name": "stdout",
     "output_type": "stream",
     "text": [
      "\n",
      "Scanline grades: ['A', 'A', 'A', 'A', 'A', 'A', 'A', 'A', 'A', 'D']\n",
      "OVERALL_NUMERICAL_VALUE: 3.7\n",
      "OVERALL_NUMERICAL_GRADE: A\n",
      "\n",
      "R_min_MEAN: 6.901960784313727\n",
      "R_min_MEAN_grade: A\n",
      "\n",
      "SC_MEAN: 80.66666666666666\n",
      "SC_MEAN_grade: A\n",
      "\n",
      "EC_min_MEAN: 56.549019607843135\n",
      "EC_min_MEAN_grade: A\n",
      "\n",
      "MODULATION_MEAN: 0.7015201065726353\n",
      "MODULATION_MEAN_grade: A\n",
      "\n",
      "DEFECT_MEAN: 0.09245870305046847\n",
      "DEFECT_MEAN_grade: A\n"
     ]
    }
   ],
   "source": [
    "# ACTUAL QUALITY PARAMETERS VALUES WRITTEN IN THE EXCEL FILE\n",
    "#    - SC:  80.1. GRADE 'A'\n",
    "#    - MODULATION: 85.4. GRADE 'A' \n",
    "#    - DEFECT: n.a. \n",
    "\n",
    "image_path = f'../dataset/{images_paths[12]}'\n",
    "print()\n",
    "detection_dict, rotation_dict, refinement_dict, overall_quality_parameters_dict = verify_barcode(image_path)\n",
    "print_quality_parameters(overall_quality_parameters_dict)"
   ]
  },
  {
   "cell_type": "code",
   "execution_count": 22,
   "id": "62df2703",
   "metadata": {},
   "outputs": [
    {
     "name": "stdout",
     "output_type": "stream",
     "text": [
      "\n",
      "Scanline grades: ['C', 'C', 'C', 'C', 'C', 'C', 'C', 'C', 'C', 'C']\n",
      "OVERALL_NUMERICAL_VALUE: 2.0\n",
      "OVERALL_NUMERICAL_GRADE: C\n",
      "\n",
      "R_min_MEAN: 9.333333333333332\n",
      "R_min_MEAN_grade: A\n",
      "\n",
      "SC_MEAN: 50.31372549019609\n",
      "SC_MEAN_grade: C\n",
      "\n",
      "EC_min_MEAN: 35.05882352941176\n",
      "EC_min_MEAN_grade: A\n",
      "\n",
      "MODULATION_MEAN: 0.6968260163621316\n",
      "MODULATION_MEAN_grade: B\n",
      "\n",
      "DEFECT_MEAN: 0.1206089865475817\n",
      "DEFECT_MEAN_grade: A\n"
     ]
    }
   ],
   "source": [
    "# ACTUAL QUALITY PARAMETERS VALUES WRITTEN IN THE EXCEL FILE\n",
    "#    - SC: 46.3. GRADE 'C'\n",
    "#    - MODULATION: 88.5. GRADE 'A' \n",
    "#    - DEFECT: 0.0 GRADE 'A'\n",
    "\n",
    "image_path = f'../dataset/{images_paths[13]}'\n",
    "print()\n",
    "detection_dict, rotation_dict, refinement_dict, overall_quality_parameters_dict = verify_barcode(image_path)\n",
    "print_quality_parameters(overall_quality_parameters_dict)"
   ]
  },
  {
   "cell_type": "code",
   "execution_count": 23,
   "id": "82e52b7c",
   "metadata": {},
   "outputs": [
    {
     "name": "stdout",
     "output_type": "stream",
     "text": [
      "\n",
      "Scanline grades: ['F', 'F', 'F', 'F', 'F', 'F', 'F', 'F', 'F', 'D']\n",
      "OVERALL_NUMERICAL_VALUE: 0.1\n",
      "OVERALL_NUMERICAL_GRADE: F\n",
      "\n",
      "R_min_MEAN: 5.529411764705882\n",
      "R_min_MEAN_grade: A\n",
      "\n",
      "SC_MEAN: 80.58823529411765\n",
      "SC_MEAN_grade: A\n",
      "\n",
      "EC_min_MEAN: 58.47058823529411\n",
      "EC_min_MEAN_grade: A\n",
      "\n",
      "MODULATION_MEAN: 0.7257044848508879\n",
      "MODULATION_MEAN_grade: A\n",
      "\n",
      "DEFECT_MEAN: 0.3168690827809509\n",
      "DEFECT_MEAN_grade: F\n"
     ]
    }
   ],
   "source": [
    "# ACTUAL QUALITY PARAMETERS VALUES WRITTEN IN THE EXCEL FILE\n",
    "#    - SC: 75.3. GRADE 'A'\n",
    "#    - MODULATION: 91.3. GRADE 'A' \n",
    "#    - DEFECT: 22.7 GRADE 'C'\n",
    "\n",
    "image_path = f'../dataset/{images_paths[14]}'\n",
    "print()\n",
    "detection_dict, rotation_dict, refinement_dict, overall_quality_parameters_dict = verify_barcode(image_path)\n",
    "print_quality_parameters(overall_quality_parameters_dict)"
   ]
  },
  {
   "cell_type": "code",
   "execution_count": 24,
   "id": "dc291f56",
   "metadata": {},
   "outputs": [
    {
     "name": "stdout",
     "output_type": "stream",
     "text": [
      "\n",
      "Scanline grades: ['A', 'A', 'A', 'A', 'A', 'A', 'A', 'A', 'A', 'A']\n",
      "OVERALL_NUMERICAL_VALUE: 4.0\n",
      "OVERALL_NUMERICAL_GRADE: A\n",
      "\n",
      "R_min_MEAN: 6.823529411764706\n",
      "R_min_MEAN_grade: A\n",
      "\n",
      "SC_MEAN: 87.01960784313725\n",
      "SC_MEAN_grade: A\n",
      "\n",
      "EC_min_MEAN: 65.37254901960785\n",
      "EC_min_MEAN_grade: A\n",
      "\n",
      "MODULATION_MEAN: 0.7512699021995795\n",
      "MODULATION_MEAN_grade: A\n",
      "\n",
      "DEFECT_MEAN: 0.06978838165597165\n",
      "DEFECT_MEAN_grade: A\n"
     ]
    }
   ],
   "source": [
    "# ACTUAL QUALITY PARAMETERS VALUES WRITTEN IN THE EXCEL FILE\n",
    "#    - SC: 75.4. GRADE 'A'\n",
    "#    - MODULATION: 91.6. GRADE 'A' \n",
    "#    - DEFECT: 0.0 GRADE 'A'\n",
    "\n",
    "image_path = f'../dataset/{images_paths[15]}'\n",
    "print()\n",
    "detection_dict, rotation_dict, refinement_dict, overall_quality_parameters_dict = verify_barcode(image_path)\n",
    "print_quality_parameters(overall_quality_parameters_dict)"
   ]
  },
  {
   "cell_type": "code",
   "execution_count": 25,
   "id": "9f02ca44",
   "metadata": {},
   "outputs": [
    {
     "name": "stdout",
     "output_type": "stream",
     "text": [
      "\n",
      "Scanline grades: ['B', 'A', 'A', 'A', 'A', 'A', 'A', 'A', 'A', 'B']\n",
      "OVERALL_NUMERICAL_VALUE: 3.8\n",
      "OVERALL_NUMERICAL_GRADE: A\n",
      "\n",
      "R_min_MEAN: 5.76470588235294\n",
      "R_min_MEAN_grade: A\n",
      "\n",
      "SC_MEAN: 82.15686274509804\n",
      "SC_MEAN_grade: A\n",
      "\n",
      "EC_min_MEAN: 59.21568627450979\n",
      "EC_min_MEAN_grade: A\n",
      "\n",
      "MODULATION_MEAN: 0.7209764405660009\n",
      "MODULATION_MEAN_grade: A\n",
      "\n",
      "DEFECT_MEAN: 0.09311958334284892\n",
      "DEFECT_MEAN_grade: A\n"
     ]
    }
   ],
   "source": [
    "# ACTUAL QUALITY PARAMETERS VALUES WRITTEN IN THE EXCEL FILE\n",
    "#    - SC: 74.8. GRADE 'A'\n",
    "#    - MODULATION: 91.5. GRADE 'A' \n",
    "#    - DEFECT: 0.0 GRADE 'A'\n",
    "\n",
    "image_path = f'../dataset/{images_paths[16]}'\n",
    "print()\n",
    "detection_dict, rotation_dict, refinement_dict, overall_quality_parameters_dict = verify_barcode(image_path)\n",
    "print_quality_parameters(overall_quality_parameters_dict)"
   ]
  },
  {
   "cell_type": "code",
   "execution_count": 26,
   "id": "5ca5a990",
   "metadata": {},
   "outputs": [
    {
     "name": "stdout",
     "output_type": "stream",
     "text": [
      "\n",
      "Scanline grades: ['C', 'C', 'C', 'C', 'C', 'C', 'C', 'C', 'C', 'C']\n",
      "OVERALL_NUMERICAL_VALUE: 2.0\n",
      "OVERALL_NUMERICAL_GRADE: C\n",
      "\n",
      "R_min_MEAN: 7.84313725490196\n",
      "R_min_MEAN_grade: A\n",
      "\n",
      "SC_MEAN: 53.607843137254896\n",
      "SC_MEAN_grade: C\n",
      "\n",
      "EC_min_MEAN: 39.529411764705884\n",
      "EC_min_MEAN_grade: A\n",
      "\n",
      "MODULATION_MEAN: 0.7374437504117626\n",
      "MODULATION_MEAN_grade: A\n",
      "\n",
      "DEFECT_MEAN: 0.0980327921923028\n",
      "DEFECT_MEAN_grade: A\n"
     ]
    }
   ],
   "source": [
    "# ACTUAL QUALITY PARAMETERS VALUES WRITTEN IN THE EXCEL FILE\n",
    "#    - SC: 50.1. GRADE 'C'\n",
    "#    - MODULATION: 87. GRADE 'A' \n",
    "#    - DEFECT: 0.0 GRADE 'A'\n",
    "\n",
    "image_path = f'../dataset/{images_paths[17]}'\n",
    "print()\n",
    "detection_dict, rotation_dict, refinement_dict, overall_quality_parameters_dict = verify_barcode(image_path)\n",
    "print_quality_parameters(overall_quality_parameters_dict)"
   ]
  },
  {
   "cell_type": "code",
   "execution_count": 27,
   "id": "60e15942",
   "metadata": {},
   "outputs": [
    {
     "name": "stdout",
     "output_type": "stream",
     "text": [
      "\n",
      "Scanline grades: ['F', 'F', 'F', 'D', 'D', 'F', 'F', 'F', 'F', 'F']\n",
      "OVERALL_NUMERICAL_VALUE: 0.2\n",
      "OVERALL_NUMERICAL_GRADE: F\n",
      "\n",
      "R_min_MEAN: 4.862745098039215\n",
      "R_min_MEAN_grade: A\n",
      "\n",
      "SC_MEAN: 82.50980392156865\n",
      "SC_MEAN_grade: A\n",
      "\n",
      "EC_min_MEAN: 32.43137254901961\n",
      "EC_min_MEAN_grade: A\n",
      "\n",
      "MODULATION_MEAN: 0.39297603831261374\n",
      "MODULATION_MEAN_grade: F\n",
      "\n",
      "DEFECT_MEAN: 0.07509842653695478\n",
      "DEFECT_MEAN_grade: A\n"
     ]
    }
   ],
   "source": [
    "# ACTUAL QUALITY PARAMETERS VALUES WRITTEN IN THE EXCEL FILE\n",
    "#    - SC: 77.8. GRADE 'A'\n",
    "#    - MODULATION: 86.4. GRADE 'A' \n",
    "#    - DEFECT: 22.9 GRADE 'C'\n",
    "\n",
    "image_path = f'../dataset/{images_paths[18]}'\n",
    "print()\n",
    "detection_dict, rotation_dict, refinement_dict, overall_quality_parameters_dict = verify_barcode(image_path)\n",
    "print_quality_parameters(overall_quality_parameters_dict)"
   ]
  },
  {
   "cell_type": "code",
   "execution_count": 28,
   "id": "59891de4",
   "metadata": {},
   "outputs": [
    {
     "name": "stdout",
     "output_type": "stream",
     "text": [
      "\n",
      "Scanline grades: ['A', 'A', 'A', 'A', 'A', 'A', 'A', 'B', 'A', 'A']\n",
      "OVERALL_NUMERICAL_VALUE: 3.9\n",
      "OVERALL_NUMERICAL_GRADE: A\n",
      "\n",
      "R_min_MEAN: 4.627450980392156\n",
      "R_min_MEAN_grade: A\n",
      "\n",
      "SC_MEAN: 84.15686274509804\n",
      "SC_MEAN_grade: A\n",
      "\n",
      "EC_min_MEAN: 62.47058823529411\n",
      "EC_min_MEAN_grade: A\n",
      "\n",
      "MODULATION_MEAN: 0.7424023247111203\n",
      "MODULATION_MEAN_grade: A\n",
      "\n",
      "DEFECT_MEAN: 0.10678492053904143\n",
      "DEFECT_MEAN_grade: A\n"
     ]
    }
   ],
   "source": [
    "# ACTUAL QUALITY PARAMETERS VALUES WRITTEN IN THE EXCEL FILE\n",
    "#    - SC: 77.8. GRADE 'A'\n",
    "#    - MODULATION: 88.1. GRADE 'A' \n",
    "#    - DEFECT: 0.0 GRADE 'A'\n",
    "\n",
    "image_path = f'../dataset/{images_paths[19]}'\n",
    "print()\n",
    "detection_dict, rotation_dict, refinement_dict, overall_quality_parameters_dict = verify_barcode(image_path)\n",
    "print_quality_parameters(overall_quality_parameters_dict)"
   ]
  },
  {
   "cell_type": "code",
   "execution_count": 29,
   "id": "53e72345",
   "metadata": {},
   "outputs": [
    {
     "name": "stdout",
     "output_type": "stream",
     "text": [
      "\n",
      "Scanline grades: ['A', 'A', 'A', 'A', 'A', 'A', 'A', 'A', 'A', 'A']\n",
      "OVERALL_NUMERICAL_VALUE: 4.0\n",
      "OVERALL_NUMERICAL_GRADE: A\n",
      "\n",
      "R_min_MEAN: 4.627450980392156\n",
      "R_min_MEAN_grade: A\n",
      "\n",
      "SC_MEAN: 81.76470588235296\n",
      "SC_MEAN_grade: A\n",
      "\n",
      "EC_min_MEAN: 59.647058823529406\n",
      "EC_min_MEAN_grade: A\n",
      "\n",
      "MODULATION_MEAN: 0.729530085348163\n",
      "MODULATION_MEAN_grade: A\n",
      "\n",
      "DEFECT_MEAN: 0.07190759501114195\n",
      "DEFECT_MEAN_grade: A\n"
     ]
    }
   ],
   "source": [
    "# ACTUAL QUALITY PARAMETERS VALUES WRITTEN IN THE EXCEL FILE\n",
    "#    - SC: 77.9. GRADE 'A'\n",
    "#    - MODULATION: 87.1. GRADE 'A'\n",
    "#    - DEFECT: 0.0 GRADE 'A'\n",
    "\n",
    "image_path = f'../dataset/{images_paths[20]}'\n",
    "print()\n",
    "detection_dict, rotation_dict, refinement_dict, overall_quality_parameters_dict = verify_barcode(image_path)\n",
    "print_quality_parameters(overall_quality_parameters_dict)"
   ]
  },
  {
   "cell_type": "code",
   "execution_count": 30,
   "id": "c70eb1de",
   "metadata": {},
   "outputs": [
    {
     "name": "stdout",
     "output_type": "stream",
     "text": [
      "\n",
      "Scanline grades: ['A', 'A', 'A', 'A', 'A', 'A', 'A', 'A', 'A', 'A']\n",
      "OVERALL_NUMERICAL_VALUE: 4.0\n",
      "OVERALL_NUMERICAL_GRADE: A\n",
      "\n",
      "R_min_MEAN: 13.372549019607842\n",
      "R_min_MEAN_grade: A\n",
      "\n",
      "SC_MEAN: 77.01960784313727\n",
      "SC_MEAN_grade: A\n",
      "\n",
      "EC_min_MEAN: 60.7843137254902\n",
      "EC_min_MEAN_grade: A\n",
      "\n",
      "MODULATION_MEAN: 0.7892420790853756\n",
      "MODULATION_MEAN_grade: A\n",
      "\n",
      "DEFECT_MEAN: 0.04379481299737443\n",
      "DEFECT_MEAN_grade: A\n"
     ]
    }
   ],
   "source": [
    "# ACTUAL QUALITY PARAMETERS VALUES WRITTEN IN THE EXCEL FILE\n",
    "#    - SC: 75. GRADE 'A'\n",
    "#    - MODULATION: 87.1. GRADE 'A' \n",
    "#    - DEFECT: n.a.\n",
    "\n",
    "image_path = f'../dataset/{images_paths[21]}'\n",
    "print()\n",
    "detection_dict, rotation_dict, refinement_dict, overall_quality_parameters_dict = verify_barcode(image_path)\n",
    "print_quality_parameters(overall_quality_parameters_dict)"
   ]
  },
  {
   "cell_type": "code",
   "execution_count": 31,
   "id": "00032c70",
   "metadata": {},
   "outputs": [
    {
     "name": "stdout",
     "output_type": "stream",
     "text": [
      "\n",
      "Scanline grades: ['A', 'A', 'A', 'A', 'A', 'A', 'A', 'A', 'A', 'A']\n",
      "OVERALL_NUMERICAL_VALUE: 4.0\n",
      "OVERALL_NUMERICAL_GRADE: A\n",
      "\n",
      "R_min_MEAN: 9.647058823529415\n",
      "R_min_MEAN_grade: A\n",
      "\n",
      "SC_MEAN: 79.52941176470588\n",
      "SC_MEAN_grade: A\n",
      "\n",
      "EC_min_MEAN: 61.92156862745098\n",
      "EC_min_MEAN_grade: A\n",
      "\n",
      "MODULATION_MEAN: 0.7786729861116853\n",
      "MODULATION_MEAN_grade: A\n",
      "\n",
      "DEFECT_MEAN: 0.045345062418856906\n",
      "DEFECT_MEAN_grade: A\n"
     ]
    }
   ],
   "source": [
    "# ACTUAL QUALITY PARAMETERS VALUES WRITTEN IN THE EXCEL FILE\n",
    "#    - SC: 83.6. GRADE 'A'\n",
    "#    - MODULATION: 85.3. GRADE 'A' \n",
    "#    - DEFECT: 2.3 GRADE 'A'\n",
    "\n",
    "image_path = f'../dataset/{images_paths[22]}'\n",
    "print()\n",
    "detection_dict, rotation_dict, refinement_dict, overall_quality_parameters_dict = verify_barcode(image_path)\n",
    "print_quality_parameters(overall_quality_parameters_dict)"
   ]
  },
  {
   "cell_type": "code",
   "execution_count": 32,
   "id": "574467e4",
   "metadata": {},
   "outputs": [
    {
     "name": "stdout",
     "output_type": "stream",
     "text": [
      "\n",
      "Scanline grades: ['B', 'B', 'B', 'B', 'B', 'B', 'B', 'B', 'B', 'B']\n",
      "OVERALL_NUMERICAL_VALUE: 3.0\n",
      "OVERALL_NUMERICAL_GRADE: B\n",
      "\n",
      "R_min_MEAN: 12.117647058823529\n",
      "R_min_MEAN_grade: A\n",
      "\n",
      "SC_MEAN: 67.25490196078432\n",
      "SC_MEAN_grade: B\n",
      "\n",
      "EC_min_MEAN: 51.92156862745098\n",
      "EC_min_MEAN_grade: A\n",
      "\n",
      "MODULATION_MEAN: 0.7720543035700531\n",
      "MODULATION_MEAN_grade: A\n",
      "\n",
      "DEFECT_MEAN: 0.05184468623471061\n",
      "DEFECT_MEAN_grade: A\n"
     ]
    }
   ],
   "source": [
    "# ACTUAL QUALITY PARAMETERS VALUES WRITTEN IN THE EXCEL FILE\n",
    "#    - SC: 63. GRADE 'B'\n",
    "#    - MODULATION: 89.1. GRADE 'A' \n",
    "#    - DEFECT: 0.0 GRADE 'A'\n",
    "\n",
    "image_path = f'../dataset/{images_paths[23]}'\n",
    "print()\n",
    "detection_dict, rotation_dict, refinement_dict, overall_quality_parameters_dict = verify_barcode(image_path)\n",
    "print_quality_parameters(overall_quality_parameters_dict)"
   ]
  },
  {
   "cell_type": "code",
   "execution_count": 33,
   "id": "b93249ba",
   "metadata": {},
   "outputs": [
    {
     "name": "stdout",
     "output_type": "stream",
     "text": [
      "\n",
      "Scanline grades: ['C', 'C', 'C', 'C', 'C', 'C', 'C', 'C', 'C', 'C']\n",
      "OVERALL_NUMERICAL_VALUE: 2.0\n",
      "OVERALL_NUMERICAL_GRADE: C\n",
      "\n",
      "R_min_MEAN: 16.745098039215687\n",
      "R_min_MEAN_grade: A\n",
      "\n",
      "SC_MEAN: 51.411764705882355\n",
      "SC_MEAN_grade: C\n",
      "\n",
      "EC_min_MEAN: 38.23529411764705\n",
      "EC_min_MEAN_grade: A\n",
      "\n",
      "MODULATION_MEAN: 0.7437784128868092\n",
      "MODULATION_MEAN_grade: A\n",
      "\n",
      "DEFECT_MEAN: 0.0700473330308629\n",
      "DEFECT_MEAN_grade: A\n"
     ]
    }
   ],
   "source": [
    "# ACTUAL QUALITY PARAMETERS VALUES WRITTEN IN THE EXCEL FILE\n",
    "#    - SC: 47.7. GRADE 'C'\n",
    "#    - MODULATION: 87.6. GRADE 'A' \n",
    "#    - DEFECT: 0.0 GRADE 'A'\n",
    "\n",
    "image_path = f'../dataset/{images_paths[24]}'\n",
    "print()\n",
    "detection_dict, rotation_dict, refinement_dict, overall_quality_parameters_dict = verify_barcode(image_path)\n",
    "print_quality_parameters(overall_quality_parameters_dict)"
   ]
  },
  {
   "cell_type": "code",
   "execution_count": 34,
   "id": "f5907557",
   "metadata": {},
   "outputs": [
    {
     "name": "stdout",
     "output_type": "stream",
     "text": [
      "\n",
      "Scanline grades: ['D', 'D', 'D', 'D', 'D', 'D', 'D', 'D', 'D', 'D']\n",
      "OVERALL_NUMERICAL_VALUE: 1.0\n",
      "OVERALL_NUMERICAL_GRADE: D\n",
      "\n",
      "R_min_MEAN: 16.901960784313726\n",
      "R_min_MEAN_grade: A\n",
      "\n",
      "SC_MEAN: 36.86274509803921\n",
      "SC_MEAN_grade: D\n",
      "\n",
      "EC_min_MEAN: 26.627450980392155\n",
      "EC_min_MEAN_grade: A\n",
      "\n",
      "MODULATION_MEAN: 0.7225339633830631\n",
      "MODULATION_MEAN_grade: A\n",
      "\n",
      "DEFECT_MEAN: 0.07436777033237406\n",
      "DEFECT_MEAN_grade: A\n"
     ]
    }
   ],
   "source": [
    "# ACTUAL QUALITY PARAMETERS VALUES WRITTEN IN THE EXCEL FILE\n",
    "#    - SC: 38.2. GRADE 'D'\n",
    "#    - MODULATION: 84. GRADE 'A' \n",
    "#    - DEFECT: 5.3 GRADE 'A'\n",
    "\n",
    "image_path = f'../dataset/{images_paths[25]}'\n",
    "print()\n",
    "detection_dict, rotation_dict, refinement_dict, overall_quality_parameters_dict = verify_barcode(image_path)\n",
    "print_quality_parameters(overall_quality_parameters_dict)"
   ]
  },
  {
   "cell_type": "code",
   "execution_count": 35,
   "id": "ab3e9c14",
   "metadata": {},
   "outputs": [
    {
     "name": "stdout",
     "output_type": "stream",
     "text": [
      "\n",
      "Scanline grades: ['F', 'F', 'F', 'F', 'F', 'F', 'F', 'F', 'F', 'F']\n",
      "OVERALL_NUMERICAL_VALUE: 0.0\n",
      "OVERALL_NUMERICAL_GRADE: F\n",
      "\n",
      "R_min_MEAN: 16.666666666666668\n",
      "R_min_MEAN_grade: A\n",
      "\n",
      "SC_MEAN: 17.098039215686278\n",
      "SC_MEAN_grade: F\n",
      "\n",
      "EC_min_MEAN: 11.294117647058824\n",
      "EC_min_MEAN_grade: F\n",
      "\n",
      "MODULATION_MEAN: 0.6609891271519179\n",
      "MODULATION_MEAN_grade: B\n",
      "\n",
      "DEFECT_MEAN: 0.12356068995603871\n",
      "DEFECT_MEAN_grade: A\n"
     ]
    }
   ],
   "source": [
    "# ACTUAL QUALITY PARAMETERS VALUES WRITTEN IN THE EXCEL FILE\n",
    "#    - SC: 15. GRADE 'F'\n",
    "#    - MODULATION: 84.7. GRADE 'A' \n",
    "#    - DEFECT: 0.0 GRADE 'A'\n",
    "\n",
    "image_path = f'../dataset/{images_paths[26]}'\n",
    "print()\n",
    "detection_dict, rotation_dict, refinement_dict, overall_quality_parameters_dict = verify_barcode(image_path)\n",
    "print_quality_parameters(overall_quality_parameters_dict)"
   ]
  },
  {
   "cell_type": "code",
   "execution_count": 36,
   "id": "519820e4",
   "metadata": {},
   "outputs": [
    {
     "name": "stdout",
     "output_type": "stream",
     "text": [
      "\n",
      "Scanline grades: ['A', 'B', 'A', 'A', 'A', 'A', 'B', 'A', 'A', 'A']\n",
      "OVERALL_NUMERICAL_VALUE: 3.8\n",
      "OVERALL_NUMERICAL_GRADE: A\n",
      "\n",
      "R_min_MEAN: 13.80392156862745\n",
      "R_min_MEAN_grade: A\n",
      "\n",
      "SC_MEAN: 79.05882352941175\n",
      "SC_MEAN_grade: A\n",
      "\n",
      "EC_min_MEAN: 55.72549019607844\n",
      "EC_min_MEAN_grade: A\n",
      "\n",
      "MODULATION_MEAN: 0.7048914666561803\n",
      "MODULATION_MEAN_grade: A\n",
      "\n",
      "DEFECT_MEAN: 0.048115294351393945\n",
      "DEFECT_MEAN_grade: A\n"
     ]
    }
   ],
   "source": [
    "# ACTUAL QUALITY PARAMETERS VALUES WRITTEN IN THE EXCEL FILE\n",
    "#    - SC: 74.4. GRADE 'A'\n",
    "#    - MODULATION: 75.5. GRADE 'A' \n",
    "#    - DEFECT: 0.0 GRADE 'A'\n",
    "\n",
    "image_path = f'../dataset/{images_paths[27]}'\n",
    "print()\n",
    "detection_dict, rotation_dict, refinement_dict, overall_quality_parameters_dict = verify_barcode(image_path)\n",
    "print_quality_parameters(overall_quality_parameters_dict)"
   ]
  },
  {
   "cell_type": "code",
   "execution_count": 37,
   "id": "d1e0ba7a",
   "metadata": {},
   "outputs": [
    {
     "name": "stdout",
     "output_type": "stream",
     "text": [
      "\n",
      "Scanline grades: ['C', 'B', 'C', 'B', 'C', 'C', 'C', 'C', 'C', 'C']\n",
      "OVERALL_NUMERICAL_VALUE: 2.2\n",
      "OVERALL_NUMERICAL_GRADE: C\n",
      "\n",
      "R_min_MEAN: 13.92156862745098\n",
      "R_min_MEAN_grade: A\n",
      "\n",
      "SC_MEAN: 79.17647058823528\n",
      "SC_MEAN_grade: A\n",
      "\n",
      "EC_min_MEAN: 47.13725490196079\n",
      "EC_min_MEAN_grade: A\n",
      "\n",
      "MODULATION_MEAN: 0.5954077553744203\n",
      "MODULATION_MEAN_grade: C\n",
      "\n",
      "DEFECT_MEAN: 0.04403271631508409\n",
      "DEFECT_MEAN_grade: A\n"
     ]
    }
   ],
   "source": [
    "# ACTUAL QUALITY PARAMETERS VALUES WRITTEN IN THE EXCEL FILE\n",
    "#    - SC: 75.7. GRADE 'A'\n",
    "#    - MODULATION: 64.6. GRADE 'B'\n",
    "#    - DEFECT: 0.0 GRADE 'A'\n",
    "\n",
    "image_path = f'../dataset/{images_paths[28]}'\n",
    "print()\n",
    "detection_dict, rotation_dict, refinement_dict, overall_quality_parameters_dict = verify_barcode(image_path)\n",
    "print_quality_parameters(overall_quality_parameters_dict)"
   ]
  },
  {
   "cell_type": "code",
   "execution_count": 38,
   "id": "64fb7545",
   "metadata": {},
   "outputs": [
    {
     "name": "stdout",
     "output_type": "stream",
     "text": [
      "\n",
      "Scanline grades: ['C', 'C', 'C', 'C', 'C', 'C', 'C', 'C', 'C', 'C']\n",
      "OVERALL_NUMERICAL_VALUE: 2.0\n",
      "OVERALL_NUMERICAL_GRADE: C\n",
      "\n",
      "R_min_MEAN: 14.156862745098039\n",
      "R_min_MEAN_grade: A\n",
      "\n",
      "SC_MEAN: 79.76470588235294\n",
      "SC_MEAN_grade: A\n",
      "\n",
      "EC_min_MEAN: 41.68627450980392\n",
      "EC_min_MEAN_grade: A\n",
      "\n",
      "MODULATION_MEAN: 0.5226522823967017\n",
      "MODULATION_MEAN_grade: C\n",
      "\n",
      "DEFECT_MEAN: 0.04223001782287043\n",
      "DEFECT_MEAN_grade: A\n"
     ]
    }
   ],
   "source": [
    "# ACTUAL QUALITY PARAMETERS VALUES WRITTEN IN THE EXCEL FILE\n",
    "#    - SC: 75.8. GRADE 'A'\n",
    "#    - MODULATION: 56.2. GRADE 'C' \n",
    "#    - DEFECT: 0.0 GRADE 'A'\n",
    "\n",
    "image_path = f'../dataset/{images_paths[29]}'\n",
    "print()\n",
    "detection_dict, rotation_dict, refinement_dict, overall_quality_parameters_dict = verify_barcode(image_path)\n",
    "print_quality_parameters(overall_quality_parameters_dict)"
   ]
  },
  {
   "cell_type": "code",
   "execution_count": 39,
   "id": "13db3182",
   "metadata": {},
   "outputs": [
    {
     "name": "stdout",
     "output_type": "stream",
     "text": [
      "\n",
      "Scanline grades: ['D', 'D', 'D', 'D', 'D', 'D', 'D', 'D', 'D', 'D']\n",
      "OVERALL_NUMERICAL_VALUE: 1.0\n",
      "OVERALL_NUMERICAL_GRADE: D\n",
      "\n",
      "R_min_MEAN: 10.352941176470589\n",
      "R_min_MEAN_grade: A\n",
      "\n",
      "SC_MEAN: 78.90196078431373\n",
      "SC_MEAN_grade: A\n",
      "\n",
      "EC_min_MEAN: 35.96078431372548\n",
      "EC_min_MEAN_grade: A\n",
      "\n",
      "MODULATION_MEAN: 0.4558725437854558\n",
      "MODULATION_MEAN_grade: D\n",
      "\n",
      "DEFECT_MEAN: 0.05478113911971869\n",
      "DEFECT_MEAN_grade: A\n"
     ]
    }
   ],
   "source": [
    "# ACTUAL QUALITY PARAMETERS VALUES WRITTEN IN THE EXCEL FILE\n",
    "#    - SC: 82.6. GRADE 'A'\n",
    "#    - MODULATION: 47.5. GRADE 'D'\n",
    "#    - DEFECT: 3.6 GRADE 'A'\n",
    "\n",
    "image_path = f'../dataset/{images_paths[30]}'\n",
    "print()\n",
    "detection_dict, rotation_dict, refinement_dict, overall_quality_parameters_dict = verify_barcode(image_path)\n",
    "print_quality_parameters(overall_quality_parameters_dict)"
   ]
  },
  {
   "cell_type": "code",
   "execution_count": 40,
   "id": "4a8752f6",
   "metadata": {},
   "outputs": [
    {
     "name": "stdout",
     "output_type": "stream",
     "text": [
      "\n",
      "Scanline grades: ['F', 'F', 'F', 'F', 'F', 'F', 'F', 'F', 'F', 'F']\n",
      "OVERALL_NUMERICAL_VALUE: 0.0\n",
      "OVERALL_NUMERICAL_GRADE: F\n",
      "\n",
      "R_min_MEAN: 12.23529411764706\n",
      "R_min_MEAN_grade: A\n",
      "\n",
      "SC_MEAN: 81.60784313725489\n",
      "SC_MEAN_grade: A\n",
      "\n",
      "EC_min_MEAN: 21.372549019607842\n",
      "EC_min_MEAN_grade: A\n",
      "\n",
      "MODULATION_MEAN: 0.26193637356106764\n",
      "MODULATION_MEAN_grade: F\n",
      "\n",
      "DEFECT_MEAN: 0.057141568599272094\n",
      "DEFECT_MEAN_grade: A\n"
     ]
    }
   ],
   "source": [
    "# ACTUAL QUALITY PARAMETERS VALUES WRITTEN IN THE EXCEL FILE\n",
    "#    - SC: 76.4. GRADE 'A'\n",
    "#    - MODULATION: 29.2. GRADE 'F'\n",
    "#    - DEFECT: 0.0 GRADE 'A'\n",
    "\n",
    "image_path = f'../dataset/{images_paths[31]}'\n",
    "print()\n",
    "detection_dict, rotation_dict, refinement_dict, overall_quality_parameters_dict = verify_barcode(image_path)\n",
    "print_quality_parameters(overall_quality_parameters_dict)"
   ]
  },
  {
   "cell_type": "code",
   "execution_count": 41,
   "id": "00a44cf0",
   "metadata": {},
   "outputs": [
    {
     "name": "stdout",
     "output_type": "stream",
     "text": [
      "\n",
      "Scanline grades: ['A', 'A', 'A', 'A', 'A', 'A', 'A', 'A', 'A', 'A']\n",
      "OVERALL_NUMERICAL_VALUE: 4.0\n",
      "OVERALL_NUMERICAL_GRADE: A\n",
      "\n",
      "R_min_MEAN: 11.215686274509803\n",
      "R_min_MEAN_grade: A\n",
      "\n",
      "SC_MEAN: 81.01960784313727\n",
      "SC_MEAN_grade: A\n",
      "\n",
      "EC_min_MEAN: 62.03921568627451\n",
      "EC_min_MEAN_grade: A\n",
      "\n",
      "MODULATION_MEAN: 0.7657764460903674\n",
      "MODULATION_MEAN_grade: A\n",
      "\n",
      "DEFECT_MEAN: 0.0678081536487814\n",
      "DEFECT_MEAN_grade: A\n"
     ]
    }
   ],
   "source": [
    "# ACTUAL QUALITY PARAMETERS VALUES WRITTEN IN THE EXCEL FILE\n",
    "#    - SC: 76.5. GRADE 'A'\n",
    "#    - MODULATION: 86.6. GRADE 'A' \n",
    "#    - DEFECT: 6.9 GRADE 'A'\n",
    "\n",
    "image_path = f'../dataset/{images_paths[32]}'\n",
    "print()\n",
    "detection_dict, rotation_dict, refinement_dict, overall_quality_parameters_dict = verify_barcode(image_path)\n",
    "print_quality_parameters(overall_quality_parameters_dict)"
   ]
  },
  {
   "cell_type": "code",
   "execution_count": 42,
   "id": "df0963e2",
   "metadata": {},
   "outputs": [
    {
     "name": "stdout",
     "output_type": "stream",
     "text": [
      "\n",
      "Scanline grades: ['B', 'B', 'A', 'B', 'B', 'A', 'B', 'B', 'A', 'A']\n",
      "OVERALL_NUMERICAL_VALUE: 3.4\n",
      "OVERALL_NUMERICAL_GRADE: B\n",
      "\n",
      "R_min_MEAN: 14.156862745098039\n",
      "R_min_MEAN_grade: A\n",
      "\n",
      "SC_MEAN: 79.56862745098039\n",
      "SC_MEAN_grade: A\n",
      "\n",
      "EC_min_MEAN: 61.372549019607845\n",
      "EC_min_MEAN_grade: A\n",
      "\n",
      "MODULATION_MEAN: 0.7713986994485882\n",
      "MODULATION_MEAN_grade: A\n",
      "\n",
      "DEFECT_MEAN: 0.15279557265048865\n",
      "DEFECT_MEAN_grade: B\n"
     ]
    }
   ],
   "source": [
    "# ACTUAL QUALITY PARAMETERS VALUES WRITTEN IN THE EXCEL FILE\n",
    "#    - SC: 75. GRADE 'A'\n",
    "#    - MODULATION: 87.9. GRADE 'A' \n",
    "#    - DEFECT: 17.7 GRADE 'B'\n",
    "\n",
    "image_path = f'../dataset/{images_paths[33]}'\n",
    "print()\n",
    "detection_dict, rotation_dict, refinement_dict, overall_quality_parameters_dict = verify_barcode(image_path)\n",
    "print_quality_parameters(overall_quality_parameters_dict)"
   ]
  },
  {
   "cell_type": "code",
   "execution_count": 43,
   "id": "39ae8b41",
   "metadata": {},
   "outputs": [
    {
     "name": "stdout",
     "output_type": "stream",
     "text": [
      "\n",
      "Scanline grades: ['C', 'B', 'B', 'B', 'C', 'B', 'C', 'B', 'B', 'B']\n",
      "OVERALL_NUMERICAL_VALUE: 2.7\n",
      "OVERALL_NUMERICAL_GRADE: B\n",
      "\n",
      "R_min_MEAN: 16.745098039215684\n",
      "R_min_MEAN_grade: A\n",
      "\n",
      "SC_MEAN: 76.66666666666666\n",
      "SC_MEAN_grade: A\n",
      "\n",
      "EC_min_MEAN: 59.01960784313726\n",
      "EC_min_MEAN_grade: A\n",
      "\n",
      "MODULATION_MEAN: 0.7698757655799529\n",
      "MODULATION_MEAN_grade: A\n",
      "\n",
      "DEFECT_MEAN: 0.19704412846600494\n",
      "DEFECT_MEAN_grade: B\n"
     ]
    }
   ],
   "source": [
    "# ACTUAL QUALITY PARAMETERS VALUES WRITTEN IN THE EXCEL FILE\n",
    "#    - SC: 72. GRADE 'A'\n",
    "#    - MODULATION: 87.5. GRADE 'A' \n",
    "#    - DEFECT: 21.7 GRADE 'C'\n",
    "\n",
    "image_path = f'../dataset/{images_paths[34]}'\n",
    "print()\n",
    "detection_dict, rotation_dict, refinement_dict, overall_quality_parameters_dict = verify_barcode(image_path)\n",
    "print_quality_parameters(overall_quality_parameters_dict)"
   ]
  },
  {
   "cell_type": "code",
   "execution_count": 44,
   "id": "694fa900",
   "metadata": {},
   "outputs": [
    {
     "name": "stdout",
     "output_type": "stream",
     "text": [
      "\n",
      "Scanline grades: ['D', 'D', 'D', 'D', 'D', 'D', 'D', 'D', 'D', 'F']\n",
      "OVERALL_NUMERICAL_VALUE: 0.9\n",
      "OVERALL_NUMERICAL_GRADE: D\n",
      "\n",
      "R_min_MEAN: 14.235294117647062\n",
      "R_min_MEAN_grade: A\n",
      "\n",
      "SC_MEAN: 79.45098039215686\n",
      "SC_MEAN_grade: A\n",
      "\n",
      "EC_min_MEAN: 60.156862745098046\n",
      "EC_min_MEAN_grade: A\n",
      "\n",
      "MODULATION_MEAN: 0.7573088020546457\n",
      "MODULATION_MEAN_grade: A\n",
      "\n",
      "DEFECT_MEAN: 0.2816493497330883\n",
      "DEFECT_MEAN_grade: D\n"
     ]
    }
   ],
   "source": [
    "# ACTUAL QUALITY PARAMETERS VALUES WRITTEN IN THE EXCEL FILE\n",
    "#    - SC: 75.7. GRADE 'A'\n",
    "#    - MODULATION: 85.7. GRADE 'A' \n",
    "#    - DEFECT: 27.4 GRADE 'D'\n",
    "\n",
    "image_path = f'../dataset/{images_paths[35]}'\n",
    "print()\n",
    "detection_dict, rotation_dict, refinement_dict, overall_quality_parameters_dict = verify_barcode(image_path)\n",
    "print_quality_parameters(overall_quality_parameters_dict)"
   ]
  },
  {
   "cell_type": "code",
   "execution_count": 45,
   "id": "adf25663",
   "metadata": {},
   "outputs": [
    {
     "name": "stdout",
     "output_type": "stream",
     "text": [
      "\n",
      "Scanline grades: ['D', 'D', 'D', 'D', 'D', 'C', 'C', 'C', 'C', 'D']\n",
      "OVERALL_NUMERICAL_VALUE: 1.4\n",
      "OVERALL_NUMERICAL_GRADE: D\n",
      "\n",
      "R_min_MEAN: 14.666666666666668\n",
      "R_min_MEAN_grade: A\n",
      "\n",
      "SC_MEAN: 78.58823529411765\n",
      "SC_MEAN_grade: A\n",
      "\n",
      "EC_min_MEAN: 59.72549019607843\n",
      "EC_min_MEAN_grade: A\n",
      "\n",
      "MODULATION_MEAN: 0.7600348814047674\n",
      "MODULATION_MEAN_grade: A\n",
      "\n",
      "DEFECT_MEAN: 0.2561267934732602\n",
      "DEFECT_MEAN_grade: D\n"
     ]
    }
   ],
   "source": [
    "# ACTUAL QUALITY PARAMETERS VALUES WRITTEN IN THE EXCEL FILE\n",
    "#    - SC: 74.5. GRADE 'A'\n",
    "#    - MODULATION: 87.5. GRADE 'A' \n",
    "#    - DEFECT: 31 GRADE 'F'\n",
    "\n",
    "image_path = f'../dataset/{images_paths[36]}'\n",
    "print()\n",
    "detection_dict, rotation_dict, refinement_dict, overall_quality_parameters_dict = verify_barcode(image_path)\n",
    "print_quality_parameters(overall_quality_parameters_dict)"
   ]
  },
  {
   "cell_type": "code",
   "execution_count": 46,
   "id": "50840f95",
   "metadata": {},
   "outputs": [
    {
     "name": "stdout",
     "output_type": "stream",
     "text": [
      "\n",
      "Scanline grades: ['B', 'A', 'A', 'A', 'A', 'A', 'A', 'A', 'A', 'A']\n",
      "OVERALL_NUMERICAL_VALUE: 3.9\n",
      "OVERALL_NUMERICAL_GRADE: A\n",
      "\n",
      "R_min_MEAN: 15.019607843137255\n",
      "R_min_MEAN_grade: A\n",
      "\n",
      "SC_MEAN: 79.45098039215685\n",
      "SC_MEAN_grade: A\n",
      "\n",
      "EC_min_MEAN: 60.3921568627451\n",
      "EC_min_MEAN_grade: A\n",
      "\n",
      "MODULATION_MEAN: 0.7601516048567516\n",
      "MODULATION_MEAN_grade: A\n",
      "\n",
      "DEFECT_MEAN: 0.13383448240305412\n",
      "DEFECT_MEAN_grade: A\n"
     ]
    }
   ],
   "source": [
    "# ACTUAL QUALITY PARAMETERS VALUES WRITTEN IN THE EXCEL FILE\n",
    "#    - SC: 74.7. GRADE 'A'\n",
    "#    - MODULATION: 83.1. GRADE 'A' \n",
    "#    - DEFECT: 11.5 GRADE 'A'\n",
    "\n",
    "image_path = f'../dataset/{images_paths[37]}'\n",
    "print()\n",
    "detection_dict, rotation_dict, refinement_dict, overall_quality_parameters_dict = verify_barcode(image_path)\n",
    "print_quality_parameters(overall_quality_parameters_dict)"
   ]
  },
  {
   "cell_type": "code",
   "execution_count": 47,
   "id": "3e0151ac",
   "metadata": {},
   "outputs": [
    {
     "name": "stdout",
     "output_type": "stream",
     "text": [
      "\n",
      "Scanline grades: ['B', 'A', 'A', 'B', 'A', 'B', 'B', 'A', 'B', 'A']\n",
      "OVERALL_NUMERICAL_VALUE: 3.5\n",
      "OVERALL_NUMERICAL_GRADE: A\n",
      "\n",
      "R_min_MEAN: 18.470588235294116\n",
      "R_min_MEAN_grade: A\n",
      "\n",
      "SC_MEAN: 74.27450980392156\n",
      "SC_MEAN_grade: A\n",
      "\n",
      "EC_min_MEAN: 56.66666666666667\n",
      "EC_min_MEAN_grade: A\n",
      "\n",
      "MODULATION_MEAN: 0.7629931970195079\n",
      "MODULATION_MEAN_grade: A\n",
      "\n",
      "DEFECT_MEAN: 0.15788067924501142\n",
      "DEFECT_MEAN_grade: B\n"
     ]
    }
   ],
   "source": [
    "# ACTUAL QUALITY PARAMETERS VALUES WRITTEN IN THE EXCEL FILE\n",
    "#    - SC: 71. GRADE 'A'\n",
    "#    - MODULATION: 86.5. GRADE 'A' \n",
    "#    - DEFECT: 17.8 GRADE 'B'\n",
    "\n",
    "image_path = f'../dataset/{images_paths[38]}'\n",
    "print()\n",
    "detection_dict, rotation_dict, refinement_dict, overall_quality_parameters_dict = verify_barcode(image_path)\n",
    "print_quality_parameters(overall_quality_parameters_dict)"
   ]
  },
  {
   "cell_type": "code",
   "execution_count": 48,
   "id": "842acb91",
   "metadata": {},
   "outputs": [
    {
     "name": "stdout",
     "output_type": "stream",
     "text": [
      "\n",
      "Scanline grades: ['C', 'B', 'B', 'B', 'B', 'B', 'B', 'B', 'B', 'C']\n",
      "OVERALL_NUMERICAL_VALUE: 2.8\n",
      "OVERALL_NUMERICAL_GRADE: B\n",
      "\n",
      "R_min_MEAN: 15.843137254901958\n",
      "R_min_MEAN_grade: A\n",
      "\n",
      "SC_MEAN: 76.7843137254902\n",
      "SC_MEAN_grade: A\n",
      "\n",
      "EC_min_MEAN: 58.627450980392155\n",
      "EC_min_MEAN_grade: A\n",
      "\n",
      "MODULATION_MEAN: 0.7635406016681039\n",
      "MODULATION_MEAN_grade: A\n",
      "\n",
      "DEFECT_MEAN: 0.1885258157333583\n",
      "DEFECT_MEAN_grade: B\n"
     ]
    }
   ],
   "source": [
    "# ACTUAL QUALITY PARAMETERS VALUES WRITTEN IN THE EXCEL FILE\n",
    "#    - SC: 73.7. GRADE 'A'\n",
    "#    - MODULATION: 87.3. GRADE 'A' \n",
    "#    - DEFECT: 21.8 GRADE 'C'\n",
    "\n",
    "image_path = f'../dataset/{images_paths[39]}'\n",
    "print()\n",
    "detection_dict, rotation_dict, refinement_dict, overall_quality_parameters_dict = verify_barcode(image_path)\n",
    "print_quality_parameters(overall_quality_parameters_dict)"
   ]
  },
  {
   "cell_type": "code",
   "execution_count": 49,
   "id": "12c21912",
   "metadata": {},
   "outputs": [
    {
     "name": "stdout",
     "output_type": "stream",
     "text": [
      "\n",
      "Scanline grades: ['C', 'D', 'D', 'D', 'D', 'C', 'C', 'C', 'D', 'D']\n",
      "OVERALL_NUMERICAL_VALUE: 1.4\n",
      "OVERALL_NUMERICAL_GRADE: D\n",
      "\n",
      "R_min_MEAN: 15.568627450980392\n",
      "R_min_MEAN_grade: A\n",
      "\n",
      "SC_MEAN: 76.43137254901958\n",
      "SC_MEAN_grade: A\n",
      "\n",
      "EC_min_MEAN: 57.68627450980394\n",
      "EC_min_MEAN_grade: A\n",
      "\n",
      "MODULATION_MEAN: 0.7548255546160272\n",
      "MODULATION_MEAN_grade: A\n",
      "\n",
      "DEFECT_MEAN: 0.2524131105179982\n",
      "DEFECT_MEAN_grade: D\n"
     ]
    }
   ],
   "source": [
    "# ACTUAL QUALITY PARAMETERS VALUES WRITTEN IN THE EXCEL FILE\n",
    "#    - SC: 74.4. GRADE 'A'\n",
    "#    - MODULATION: 86.9. GRADE 'A' \n",
    "#    - DEFECT: 28.4 GRADE 'D'\n",
    "\n",
    "image_path = f'../dataset/{images_paths[40]}'\n",
    "print()\n",
    "detection_dict, rotation_dict, refinement_dict, overall_quality_parameters_dict = verify_barcode(image_path)\n",
    "print_quality_parameters(overall_quality_parameters_dict)"
   ]
  },
  {
   "cell_type": "code",
   "execution_count": 50,
   "id": "9dbce263",
   "metadata": {},
   "outputs": [
    {
     "name": "stdout",
     "output_type": "stream",
     "text": [
      "\n",
      "Scanline grades: ['F', 'F', 'F', 'F', 'F', 'F', 'F', 'F', 'D', 'F']\n",
      "OVERALL_NUMERICAL_VALUE: 0.1\n",
      "OVERALL_NUMERICAL_GRADE: F\n",
      "\n",
      "R_min_MEAN: 15.019607843137255\n",
      "R_min_MEAN_grade: A\n",
      "\n",
      "SC_MEAN: 77.2156862745098\n",
      "SC_MEAN_grade: A\n",
      "\n",
      "EC_min_MEAN: 58.70588235294118\n",
      "EC_min_MEAN_grade: A\n",
      "\n",
      "MODULATION_MEAN: 0.7604680600830813\n",
      "MODULATION_MEAN_grade: A\n",
      "\n",
      "DEFECT_MEAN: 0.3422956755434531\n",
      "DEFECT_MEAN_grade: F\n"
     ]
    }
   ],
   "source": [
    "# ACTUAL QUALITY PARAMETERS VALUES WRITTEN IN THE EXCEL FILE\n",
    "#    - SC: 74.3. GRADE 'A'\n",
    "#    - MODULATION: 87.7. GRADE 'A' \n",
    "#    - DEFECT: 33.8 GRADE 'F'\n",
    "\n",
    "image_path = f'../dataset/{images_paths[41]}'\n",
    "print()\n",
    "detection_dict, rotation_dict, refinement_dict, overall_quality_parameters_dict = verify_barcode(image_path)\n",
    "print_quality_parameters(overall_quality_parameters_dict)"
   ]
  },
  {
   "cell_type": "code",
   "execution_count": 51,
   "id": "28d01cc9",
   "metadata": {},
   "outputs": [
    {
     "name": "stdout",
     "output_type": "stream",
     "text": [
      "\n",
      "Scanline grades: ['A', 'A', 'A', 'A', 'A', 'A', 'A', 'A', 'A', 'A']\n",
      "OVERALL_NUMERICAL_VALUE: 4.0\n",
      "OVERALL_NUMERICAL_GRADE: A\n",
      "\n",
      "R_min_MEAN: 12.549019607843137\n",
      "R_min_MEAN_grade: A\n",
      "\n",
      "SC_MEAN: 78.43137254901961\n",
      "SC_MEAN_grade: A\n",
      "\n",
      "EC_min_MEAN: 59.96078431372548\n",
      "EC_min_MEAN_grade: A\n",
      "\n",
      "MODULATION_MEAN: 0.7646189977993896\n",
      "MODULATION_MEAN_grade: A\n",
      "\n",
      "DEFECT_MEAN: 0.06431924508502843\n",
      "DEFECT_MEAN_grade: A\n"
     ]
    }
   ],
   "source": [
    "# ACTUAL QUALITY PARAMETERS VALUES WRITTEN IN THE EXCEL FILE\n",
    "#    - SC: 74.8. GRADE 'A'\n",
    "#    - MODULATION: 87.7. GRADE 'A' \n",
    "#    - DEFECT: 0.0 GRADE 'A'\n",
    "\n",
    "image_path = f'../dataset/{images_paths[42]}'\n",
    "print()\n",
    "detection_dict, rotation_dict, refinement_dict, overall_quality_parameters_dict = verify_barcode(image_path)\n",
    "print_quality_parameters(overall_quality_parameters_dict)"
   ]
  },
  {
   "cell_type": "code",
   "execution_count": 52,
   "id": "0564ffbc",
   "metadata": {},
   "outputs": [
    {
     "name": "stdout",
     "output_type": "stream",
     "text": [
      "\n",
      "Scanline grades: ['A', 'A', 'A', 'A', 'A', 'A', 'A', 'A', 'A', 'A']\n",
      "OVERALL_NUMERICAL_VALUE: 4.0\n",
      "OVERALL_NUMERICAL_GRADE: A\n",
      "\n",
      "R_min_MEAN: 13.843137254901961\n",
      "R_min_MEAN_grade: A\n",
      "\n",
      "SC_MEAN: 77.29411764705881\n",
      "SC_MEAN_grade: A\n",
      "\n",
      "EC_min_MEAN: 58.941176470588246\n",
      "EC_min_MEAN_grade: A\n",
      "\n",
      "MODULATION_MEAN: 0.7626013349571342\n",
      "MODULATION_MEAN_grade: A\n",
      "\n",
      "DEFECT_MEAN: 0.04867578045022765\n",
      "DEFECT_MEAN_grade: A\n"
     ]
    }
   ],
   "source": [
    "# ACTUAL QUALITY PARAMETERS VALUES WRITTEN IN THE EXCEL FILE\n",
    "#    - SC: 73.8. GRADE 'A'\n",
    "#    - MODULATION: 87.5. GRADE 'A' \n",
    "#    - DEFECT: 0.0 GRADE 'A'\n",
    "\n",
    "image_path = f'../dataset/{images_paths[43]}'\n",
    "print()\n",
    "detection_dict, rotation_dict, refinement_dict, overall_quality_parameters_dict = verify_barcode(image_path)\n",
    "print_quality_parameters(overall_quality_parameters_dict)"
   ]
  },
  {
   "cell_type": "code",
   "execution_count": 53,
   "id": "c1199f55",
   "metadata": {},
   "outputs": [
    {
     "name": "stdout",
     "output_type": "stream",
     "text": [
      "\n",
      "Scanline grades: ['A', 'A', 'A', 'D', 'A', 'A', 'A', 'A', 'A', 'A']\n",
      "OVERALL_NUMERICAL_VALUE: 3.7\n",
      "OVERALL_NUMERICAL_GRADE: A\n",
      "\n",
      "R_min_MEAN: 12.156862745098037\n",
      "R_min_MEAN_grade: A\n",
      "\n",
      "SC_MEAN: 80.70588235294117\n",
      "SC_MEAN_grade: A\n",
      "\n",
      "EC_min_MEAN: 61.76470588235294\n",
      "EC_min_MEAN_grade: A\n",
      "\n",
      "MODULATION_MEAN: 0.7652923750056051\n",
      "MODULATION_MEAN_grade: A\n",
      "\n",
      "DEFECT_MEAN: 0.06891649258996908\n",
      "DEFECT_MEAN_grade: A\n"
     ]
    }
   ],
   "source": [
    "# ACTUAL QUALITY PARAMETERS VALUES WRITTEN IN THE EXCEL FILE\n",
    "#    - SC: 77.5. GRADE 'A'\n",
    "#    - MODULATION: 86.9. GRADE 'A' \n",
    "#    - DEFECT: 0.0 GRADE 'A'\n",
    "\n",
    "image_path = f'../dataset/{images_paths[44]}'\n",
    "print()\n",
    "detection_dict, rotation_dict, refinement_dict, overall_quality_parameters_dict = verify_barcode(image_path)\n",
    "print_quality_parameters(overall_quality_parameters_dict)"
   ]
  },
  {
   "cell_type": "code",
   "execution_count": 54,
   "id": "9c62d6e1",
   "metadata": {},
   "outputs": [
    {
     "name": "stdout",
     "output_type": "stream",
     "text": [
      "\n",
      "Scanline grades: ['A', 'A', 'A', 'A', 'A', 'A', 'A', 'A', 'A', 'A']\n",
      "OVERALL_NUMERICAL_VALUE: 4.0\n",
      "OVERALL_NUMERICAL_GRADE: A\n",
      "\n",
      "R_min_MEAN: 12.196078431372548\n",
      "R_min_MEAN_grade: A\n",
      "\n",
      "SC_MEAN: 78.3529411764706\n",
      "SC_MEAN_grade: A\n",
      "\n",
      "EC_min_MEAN: 60.117647058823536\n",
      "EC_min_MEAN_grade: A\n",
      "\n",
      "MODULATION_MEAN: 0.7673238814991088\n",
      "MODULATION_MEAN_grade: A\n",
      "\n",
      "DEFECT_MEAN: 0.04546972720678707\n",
      "DEFECT_MEAN_grade: A\n"
     ]
    }
   ],
   "source": [
    "# ACTUAL QUALITY PARAMETERS VALUES WRITTEN IN THE EXCEL FILE\n",
    "#    - SC: 75.4. GRADE 'A'\n",
    "#    - MODULATION: 88. GRADE 'A' \n",
    "#    - DEFECT: 0.0 GRADE 'A'\n",
    "\n",
    "image_path = f'../dataset/{images_paths[45]}'\n",
    "print()\n",
    "detection_dict, rotation_dict, refinement_dict, overall_quality_parameters_dict = verify_barcode(image_path)\n",
    "print_quality_parameters(overall_quality_parameters_dict)"
   ]
  },
  {
   "cell_type": "code",
   "execution_count": 55,
   "id": "1f63e5f0",
   "metadata": {},
   "outputs": [
    {
     "name": "stdout",
     "output_type": "stream",
     "text": [
      "\n",
      "Scanline grades: ['A', 'A', 'A', 'A', 'A', 'A', 'A', 'A', 'A', 'A']\n",
      "OVERALL_NUMERICAL_VALUE: 4.0\n",
      "OVERALL_NUMERICAL_GRADE: A\n",
      "\n",
      "R_min_MEAN: 12.0\n",
      "R_min_MEAN_grade: A\n",
      "\n",
      "SC_MEAN: 78.23529411764707\n",
      "SC_MEAN_grade: A\n",
      "\n",
      "EC_min_MEAN: 59.372549019607845\n",
      "EC_min_MEAN_grade: A\n",
      "\n",
      "MODULATION_MEAN: 0.7589227212306369\n",
      "MODULATION_MEAN_grade: A\n",
      "\n",
      "DEFECT_MEAN: 0.04760264599874535\n",
      "DEFECT_MEAN_grade: A\n"
     ]
    }
   ],
   "source": [
    "# ACTUAL QUALITY PARAMETERS VALUES WRITTEN IN THE EXCEL FILE\n",
    "#    - SC: 76.8. GRADE 'A'\n",
    "#    - MODULATION: 86. GRADE 'A' \n",
    "#    - DEFECT: 0.0 GRADE 'A'\n",
    "\n",
    "image_path = f'../dataset/{images_paths[46]}'\n",
    "print()\n",
    "detection_dict, rotation_dict, refinement_dict, overall_quality_parameters_dict = verify_barcode(image_path)\n",
    "print_quality_parameters(overall_quality_parameters_dict)"
   ]
  },
  {
   "cell_type": "code",
   "execution_count": 56,
   "id": "1f73630c",
   "metadata": {},
   "outputs": [
    {
     "name": "stdout",
     "output_type": "stream",
     "text": [
      "\n",
      "Scanline grades: ['A', 'A', 'A', 'A', 'A', 'A', 'A', 'A', 'A', 'A']\n",
      "OVERALL_NUMERICAL_VALUE: 4.0\n",
      "OVERALL_NUMERICAL_GRADE: A\n",
      "\n",
      "R_min_MEAN: 13.254901960784315\n",
      "R_min_MEAN_grade: A\n",
      "\n",
      "SC_MEAN: 77.84313725490196\n",
      "SC_MEAN_grade: A\n",
      "\n",
      "EC_min_MEAN: 59.68627450980392\n",
      "EC_min_MEAN_grade: A\n",
      "\n",
      "MODULATION_MEAN: 0.7668711890075863\n",
      "MODULATION_MEAN_grade: A\n",
      "\n",
      "DEFECT_MEAN: 0.04478601090500334\n",
      "DEFECT_MEAN_grade: A\n"
     ]
    }
   ],
   "source": [
    "# ACTUAL QUALITY PARAMETERS VALUES WRITTEN IN THE EXCEL FILE\n",
    "#    - SC: 74.9. GRADE 'A'\n",
    "#    - MODULATION: 88.1. GRADE 'A' \n",
    "#    - DEFECT: 0.0 GRADE 'A'\n",
    "\n",
    "image_path = f'../dataset/{images_paths[47]}'\n",
    "print()\n",
    "detection_dict, rotation_dict, refinement_dict, overall_quality_parameters_dict = verify_barcode(image_path)\n",
    "print_quality_parameters(overall_quality_parameters_dict)"
   ]
  },
  {
   "cell_type": "code",
   "execution_count": 57,
   "id": "3a0213f6",
   "metadata": {},
   "outputs": [
    {
     "name": "stdout",
     "output_type": "stream",
     "text": [
      "\n",
      "Scanline grades: ['A', 'A', 'A', 'A', 'A', 'A', 'A', 'A', 'A', 'A']\n",
      "OVERALL_NUMERICAL_VALUE: 4.0\n",
      "OVERALL_NUMERICAL_GRADE: A\n",
      "\n",
      "R_min_MEAN: 12.627450980392156\n",
      "R_min_MEAN_grade: A\n",
      "\n",
      "SC_MEAN: 79.05882352941175\n",
      "SC_MEAN_grade: A\n",
      "\n",
      "EC_min_MEAN: 60.70588235294118\n",
      "EC_min_MEAN_grade: A\n",
      "\n",
      "MODULATION_MEAN: 0.7678652523824545\n",
      "MODULATION_MEAN_grade: A\n",
      "\n",
      "DEFECT_MEAN: 0.04411899430679099\n",
      "DEFECT_MEAN_grade: A\n"
     ]
    }
   ],
   "source": [
    "# ACTUAL QUALITY PARAMETERS VALUES WRITTEN IN THE EXCEL FILE\n",
    "#    - SC: 75.9. GRADE 'A'\n",
    "#    - MODULATION: 88.2. GRADE 'A' \n",
    "#    - DEFECT: 0.0 GRADE 'A'\n",
    "\n",
    "image_path = f'../dataset/{images_paths[48]}'\n",
    "print()\n",
    "detection_dict, rotation_dict, refinement_dict, overall_quality_parameters_dict = verify_barcode(image_path)\n",
    "print_quality_parameters(overall_quality_parameters_dict)"
   ]
  },
  {
   "cell_type": "code",
   "execution_count": 58,
   "id": "8fbe60bf",
   "metadata": {},
   "outputs": [
    {
     "name": "stdout",
     "output_type": "stream",
     "text": [
      "\n",
      "Scanline grades: ['A', 'A', 'A', 'A', 'A', 'A', 'A', 'A', 'A', 'A']\n",
      "OVERALL_NUMERICAL_VALUE: 4.0\n",
      "OVERALL_NUMERICAL_GRADE: A\n",
      "\n",
      "R_min_MEAN: 13.098039215686276\n",
      "R_min_MEAN_grade: A\n",
      "\n",
      "SC_MEAN: 79.01960784313725\n",
      "SC_MEAN_grade: A\n",
      "\n",
      "EC_min_MEAN: 60.98039215686275\n",
      "EC_min_MEAN_grade: A\n",
      "\n",
      "MODULATION_MEAN: 0.7718478466444099\n",
      "MODULATION_MEAN_grade: A\n",
      "\n",
      "DEFECT_MEAN: 0.05006885481501738\n",
      "DEFECT_MEAN_grade: A\n"
     ]
    }
   ],
   "source": [
    "# ACTUAL QUALITY PARAMETERS VALUES WRITTEN IN THE EXCEL FILE\n",
    "#    - SC: 75.8. GRADE 'A'\n",
    "#    - MODULATION: 87.6. GRADE 'A' \n",
    "#    - DEFECT: 0.0 GRADE 'A'\n",
    "\n",
    "image_path = f'../dataset/{images_paths[49]}'\n",
    "print()\n",
    "detection_dict, rotation_dict, refinement_dict, overall_quality_parameters_dict = verify_barcode(image_path)\n",
    "print_quality_parameters(overall_quality_parameters_dict)"
   ]
  },
  {
   "cell_type": "code",
   "execution_count": 59,
   "id": "ddc21710",
   "metadata": {},
   "outputs": [
    {
     "name": "stdout",
     "output_type": "stream",
     "text": [
      "\n",
      "Scanline grades: ['A', 'A', 'A', 'A', 'A', 'A', 'A', 'A', 'A', 'A']\n",
      "OVERALL_NUMERICAL_VALUE: 4.0\n",
      "OVERALL_NUMERICAL_GRADE: A\n",
      "\n",
      "R_min_MEAN: 11.137254901960784\n",
      "R_min_MEAN_grade: A\n",
      "\n",
      "SC_MEAN: 80.70588235294119\n",
      "SC_MEAN_grade: A\n",
      "\n",
      "EC_min_MEAN: 62.3921568627451\n",
      "EC_min_MEAN_grade: A\n",
      "\n",
      "MODULATION_MEAN: 0.7731622726966194\n",
      "MODULATION_MEAN_grade: A\n",
      "\n",
      "DEFECT_MEAN: 0.04423558786904967\n",
      "DEFECT_MEAN_grade: A\n"
     ]
    }
   ],
   "source": [
    "# ACTUAL QUALITY PARAMETERS VALUES WRITTEN IN THE EXCEL FILE\n",
    "#    - SC: 77. GRADE 'A'\n",
    "#    - MODULATION: 88.3. GRADE 'A' \n",
    "#    - DEFECT: 0.0 GRADE 'A'\n",
    "\n",
    "image_path = f'../dataset/{images_paths[50]}'\n",
    "print()\n",
    "detection_dict, rotation_dict, refinement_dict, overall_quality_parameters_dict = verify_barcode(image_path)\n",
    "print_quality_parameters(overall_quality_parameters_dict)"
   ]
  },
  {
   "cell_type": "code",
   "execution_count": 60,
   "id": "745878e9",
   "metadata": {},
   "outputs": [
    {
     "name": "stdout",
     "output_type": "stream",
     "text": [
      "\n",
      "Scanline grades: ['A', 'A', 'A', 'A', 'A', 'A', 'A', 'A', 'A', 'A']\n",
      "OVERALL_NUMERICAL_VALUE: 4.0\n",
      "OVERALL_NUMERICAL_GRADE: A\n",
      "\n",
      "R_min_MEAN: 10.980392156862745\n",
      "R_min_MEAN_grade: A\n",
      "\n",
      "SC_MEAN: 79.88235294117648\n",
      "SC_MEAN_grade: A\n",
      "\n",
      "EC_min_MEAN: 61.41176470588236\n",
      "EC_min_MEAN_grade: A\n",
      "\n",
      "MODULATION_MEAN: 0.7688767169591112\n",
      "MODULATION_MEAN_grade: A\n",
      "\n",
      "DEFECT_MEAN: 0.05437505149364742\n",
      "DEFECT_MEAN_grade: A\n"
     ]
    }
   ],
   "source": [
    "# ACTUAL QUALITY PARAMETERS VALUES WRITTEN IN THE EXCEL FILE\n",
    "#    - SC: 76.8. GRADE 'A'\n",
    "#    - MODULATION: 87.6. GRADE 'A' \n",
    "#    - DEFECT: 0.0 GRADE 'A'\n",
    "\n",
    "image_path = f'../dataset/{images_paths[51]}'\n",
    "print()\n",
    "detection_dict, rotation_dict, refinement_dict, overall_quality_parameters_dict = verify_barcode(image_path)\n",
    "print_quality_parameters(overall_quality_parameters_dict)"
   ]
  }
 ],
 "metadata": {
  "kernelspec": {
   "display_name": "Python 3",
   "language": "python",
   "name": "python3"
  },
  "language_info": {
   "codemirror_mode": {
    "name": "ipython",
    "version": 3
   },
   "file_extension": ".py",
   "mimetype": "text/x-python",
   "name": "python",
   "nbconvert_exporter": "python",
   "pygments_lexer": "ipython3",
   "version": "3.8.8"
  },
  "vscode": {
   "interpreter": {
    "hash": "d14990a399795653de35f1f5395269163893147857e74010bc072f6042c8e8da"
   }
  }
 },
 "nbformat": 4,
 "nbformat_minor": 5
}
